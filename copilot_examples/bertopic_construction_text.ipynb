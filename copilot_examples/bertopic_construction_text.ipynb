{
 "cells": [
  {
   "cell_type": "code",
   "execution_count": 34,
   "id": "d5707702",
   "metadata": {},
   "outputs": [],
   "source": [
    "from sentence_transformers import SentenceTransformer, util\n",
    "from bertopic import BERTopic\n",
    "from sklearn.feature_extraction import text\n",
    "from sklearn.feature_extraction.text import CountVectorizer\n",
    "# from umap import UMAP\n",
    "from hdbscan import HDBSCAN\n",
    "import numpy as np\n",
    "import pandas as pd\n",
    "import torch\n",
    "\n",
    "import nltk\n",
    "from nltk.tokenize import word_tokenize\n",
    "# nltk.download('punkt_tab')"
   ]
  },
  {
   "cell_type": "code",
   "execution_count": 2,
   "id": "df56659f",
   "metadata": {},
   "outputs": [],
   "source": [
    "# transfer learning:\n",
    "\n",
    "# how to check out of vocabulary (OOV) tokens\n",
    "# from transformers import AutoTokenizer, AutoModel\n",
    "\n",
    "# tokenizer = AutoTokenizer.from_pretrained('sentence-transformers/all-MiniLM-L6-v2')\n",
    "\n",
    "# # tokenize sentences\n",
    "# tokens = tokenizer.tokenize(\"Your custom sentence with domain-specific terms\")\n",
    "\n",
    "# # check tokens\n",
    "# vocab = tokenizer.get_vocab()\n",
    "# oov_tokens = [token for token in tokens if token not in vocab]\n",
    "\n",
    "# model = AutoModel.from_pretrained('sentence-transformers/all-MiniLM-L6-v2')\n",
    "\n",
    "# new_tokens = [\"mynewword1\", \"mynewword2\", \"customterm\"]\n",
    "# tokenizer.add_tokens(new_tokens)\n",
    "# model.resize_token_embeddings(len(tokenizer))\n",
    "\n",
    "# or Pretrain on Masked Language Modeling (MLM)"
   ]
  },
  {
   "cell_type": "code",
   "execution_count": 3,
   "id": "65233863",
   "metadata": {},
   "outputs": [],
   "source": [
    "# Start with the default English stop words\n",
    "custom_stop_words = list(text.ENGLISH_STOP_WORDS)+['sa','supplemental_agreement','standard','accordance','written','specifications','north','carolina','work','article','shall']\n"
   ]
  },
  {
   "cell_type": "code",
   "execution_count": 4,
   "id": "4556e3f8",
   "metadata": {},
   "outputs": [],
   "source": [
    "# 1. Load a pretrained Sentence Transformer model\n",
    "embedding_model = SentenceTransformer(\"all-MiniLM-L6-v2\")\n",
    "# embedding_model = SentenceTransformer(\"thenlper/gte-small\")"
   ]
  },
  {
   "cell_type": "code",
   "execution_count": 20,
   "id": "701158db",
   "metadata": {},
   "outputs": [],
   "source": [
    "# Import supplemental agreement data\n",
    "cra_sa_agg=pd.read_csv('/Users/tawate/Documents/cra_sa_agg.csv', encoding='latin1', on_bad_lines='skip')"
   ]
  },
  {
   "cell_type": "code",
   "execution_count": null,
   "id": "84a0208c",
   "metadata": {},
   "outputs": [
    {
     "name": "stdout",
     "output_type": "stream",
     "text": [
      "(16256, 45)\n",
      "Index(['contract_nbr', 'work_order_nbr', 'tip_nbr', 'contract_mod_type_cd',\n",
      "       'contract_mod_nbr', 'contract_mod_nbr_c', 'sa_status_cd',\n",
      "       'sa_status_desc', 'sa_reason_desc', 'cm_type_of_work_cd',\n",
      "       'cm_type_of_work_desc', 'sa_specification_cd', 'sa_mod_desc',\n",
      "       'sa_justification_desc', 'contract_time_consider_ind',\n",
      "       'contract_time_no_ext_ind', 'overall_ct_ind', 'sa_key',\n",
      "       'billing_status', 'division', 'region', 'group', 'project_type',\n",
      "       'contract_bid_amt', 'contract_bid_amt_category', 'calendar_days',\n",
      "       'contract_desc', 'letting_dt', 'type_of_contract',\n",
      "       'sa_specification_desc', 'sa_specification_cd_desc_mod',\n",
      "       'sa_time_ext_cmnt', 'time_affected_work_cd',\n",
      "       'time_affected_work_type_desc', 'overall_contract_time_nbr',\n",
      "       'vep_sa_desc', 'cmgc_megasite_flg', 'decision_date', 'li_count',\n",
      "       'wbs_count', 'sa_cost', 'sa_cost_wo', 'sa_time_extension',\n",
      "       'extracted_intro', 'sa_specification_label'],\n",
      "      dtype='object')\n",
      "  contract_nbr work_order_nbr   tip_nbr contract_mod_type_cd  \\\n",
      "0      C200800      34418.3.5  R-2309AB                   SA   \n",
      "1      C200800      34429.3.7   R-2413C                   SA   \n",
      "2      C200800      34418.3.5  R-2309AB                   SA   \n",
      "3      C200800      34429.3.7   R-2413C                   SA   \n",
      "4      C200800      34418.3.5  R-2309AB                   SA   \n",
      "\n",
      "   contract_mod_nbr  contract_mod_nbr_c sa_status_cd          sa_status_desc  \\\n",
      "0                32                  32         CCON  Contractor Concurrence   \n",
      "1                32                  32         CCON  Contractor Concurrence   \n",
      "2                33                  33         CCON  Contractor Concurrence   \n",
      "3                36                  36         CCON  Contractor Concurrence   \n",
      "4                39                  39         CCON  Contractor Concurrence   \n",
      "\n",
      "  sa_reason_desc cm_type_of_work_cd  ... vep_sa_desc  \\\n",
      "0     Extra Work               ROAD  ...     Not VEP   \n",
      "1     Extra Work               ROAD  ...     Not VEP   \n",
      "2     Extra Work               ROAD  ...     Not VEP   \n",
      "3   Altered Work               ROAD  ...     Not VEP   \n",
      "4     Extra Work               ROAD  ...     Not VEP   \n",
      "\n",
      "                   cmgc_megasite_flg decision_date li_count wbs_count  \\\n",
      "0  Exclude CMGC or Megasite Projects     18MAR2015      1.0         2   \n",
      "1  Exclude CMGC or Megasite Projects     18MAR2015      NaN         2   \n",
      "2  Exclude CMGC or Megasite Projects     18MAR2015      2.0         1   \n",
      "3  Exclude CMGC or Megasite Projects     27APR2016      1.0         1   \n",
      "4  Exclude CMGC or Megasite Projects     29AUG2016      1.0         1   \n",
      "\n",
      "       sa_cost   sa_cost_wo sa_time_extension  \\\n",
      "0   $11,080.00    $5,540.00               NaN   \n",
      "1          NaN    $5,540.00               NaN   \n",
      "2   $45,723.80   $45,723.80               NaN   \n",
      "3  $136,403.60  $136,403.60             214.0   \n",
      "4    $3,516.28    $3,516.28               NaN   \n",
      "\n",
      "                                     extracted_intro  sa_specification_label  \n",
      "0  Guardrail ReLapping. The Department has found ...                       0  \n",
      "1  Guardrail ReLapping. The Department has found ...                       0  \n",
      "2  Temporary Steel Plates. The Department has fou...                       0  \n",
      "3  Rock Removal in 3 Sided Culvert. The Departmen...                       1  \n",
      "4  Fence. The Department has found it necessary t...                       0  \n",
      "\n",
      "[5 rows x 45 columns]\n"
     ]
    },
    {
     "data": {
      "application/vnd.microsoft.datawrangler.viewer.v0+json": {
       "columns": [
        {
         "name": "index",
         "rawType": "object",
         "type": "string"
        },
        {
         "name": "0",
         "rawType": "int64",
         "type": "integer"
        }
       ],
       "ref": "52cf353b-27b2-4d9e-8fec-6b96939edb69",
       "rows": [
        [
         "contract_nbr",
         "0"
        ],
        [
         "work_order_nbr",
         "0"
        ],
        [
         "tip_nbr",
         "5350"
        ],
        [
         "contract_mod_type_cd",
         "0"
        ],
        [
         "contract_mod_nbr",
         "0"
        ],
        [
         "contract_mod_nbr_c",
         "0"
        ],
        [
         "sa_status_cd",
         "0"
        ],
        [
         "sa_status_desc",
         "0"
        ],
        [
         "sa_reason_desc",
         "0"
        ],
        [
         "cm_type_of_work_cd",
         "0"
        ],
        [
         "cm_type_of_work_desc",
         "0"
        ],
        [
         "sa_specification_cd",
         "0"
        ],
        [
         "sa_mod_desc",
         "0"
        ],
        [
         "sa_justification_desc",
         "289"
        ],
        [
         "contract_time_consider_ind",
         "290"
        ],
        [
         "contract_time_no_ext_ind",
         "290"
        ],
        [
         "overall_ct_ind",
         "13296"
        ],
        [
         "sa_key",
         "0"
        ],
        [
         "billing_status",
         "0"
        ],
        [
         "division",
         "0"
        ],
        [
         "region",
         "0"
        ],
        [
         "group",
         "1053"
        ],
        [
         "project_type",
         "150"
        ],
        [
         "contract_bid_amt",
         "0"
        ],
        [
         "contract_bid_amt_category",
         "0"
        ],
        [
         "calendar_days",
         "28"
        ],
        [
         "contract_desc",
         "0"
        ],
        [
         "letting_dt",
         "0"
        ],
        [
         "type_of_contract",
         "0"
        ],
        [
         "sa_specification_desc",
         "600"
        ],
        [
         "sa_specification_cd_desc_mod",
         "0"
        ],
        [
         "sa_time_ext_cmnt",
         "13295"
        ],
        [
         "time_affected_work_cd",
         "13295"
        ],
        [
         "time_affected_work_type_desc",
         "13295"
        ],
        [
         "overall_contract_time_nbr",
         "13295"
        ],
        [
         "vep_sa_desc",
         "0"
        ],
        [
         "cmgc_megasite_flg",
         "0"
        ],
        [
         "decision_date",
         "0"
        ],
        [
         "li_count",
         "1003"
        ],
        [
         "wbs_count",
         "0"
        ],
        [
         "sa_cost",
         "1003"
        ],
        [
         "sa_cost_wo",
         "0"
        ],
        [
         "sa_time_extension",
         "13487"
        ],
        [
         "extracted_intro",
         "0"
        ],
        [
         "sa_specification_label",
         "0"
        ]
       ],
       "shape": {
        "columns": 1,
        "rows": 45
       }
      },
      "text/plain": [
       "contract_nbr                        0\n",
       "work_order_nbr                      0\n",
       "tip_nbr                          5350\n",
       "contract_mod_type_cd                0\n",
       "contract_mod_nbr                    0\n",
       "contract_mod_nbr_c                  0\n",
       "sa_status_cd                        0\n",
       "sa_status_desc                      0\n",
       "sa_reason_desc                      0\n",
       "cm_type_of_work_cd                  0\n",
       "cm_type_of_work_desc                0\n",
       "sa_specification_cd                 0\n",
       "sa_mod_desc                         0\n",
       "sa_justification_desc             289\n",
       "contract_time_consider_ind        290\n",
       "contract_time_no_ext_ind          290\n",
       "overall_ct_ind                  13296\n",
       "sa_key                              0\n",
       "billing_status                      0\n",
       "division                            0\n",
       "region                              0\n",
       "group                            1053\n",
       "project_type                      150\n",
       "contract_bid_amt                    0\n",
       "contract_bid_amt_category           0\n",
       "calendar_days                      28\n",
       "contract_desc                       0\n",
       "letting_dt                          0\n",
       "type_of_contract                    0\n",
       "sa_specification_desc             600\n",
       "sa_specification_cd_desc_mod        0\n",
       "sa_time_ext_cmnt                13295\n",
       "time_affected_work_cd           13295\n",
       "time_affected_work_type_desc    13295\n",
       "overall_contract_time_nbr       13295\n",
       "vep_sa_desc                         0\n",
       "cmgc_megasite_flg                   0\n",
       "decision_date                       0\n",
       "li_count                         1003\n",
       "wbs_count                           0\n",
       "sa_cost                          1003\n",
       "sa_cost_wo                          0\n",
       "sa_time_extension               13487\n",
       "extracted_intro                     0\n",
       "sa_specification_label              0\n",
       "dtype: int64"
      ]
     },
     "execution_count": 36,
     "metadata": {},
     "output_type": "execute_result"
    }
   ],
   "source": [
    "\n",
    "\n"
   ]
  },
  {
   "cell_type": "code",
   "execution_count": null,
   "id": "b6398dd1",
   "metadata": {},
   "outputs": [],
   "source": []
  },
  {
   "cell_type": "code",
   "execution_count": 28,
   "id": "62b32ad6",
   "metadata": {},
   "outputs": [],
   "source": [
    "# cra_sa_agg['sa_mod_desc'] = cra_sa_agg['sa_mod_desc'].str.replace(r\"material escalation\", \"material_escalation\", case=False, regex=True)\n",
    "cra_sa_agg['sa_mod_desc'] = cra_sa_agg['sa_mod_desc'].str.replace(r\"material shortage\", \"material_shortage\", case=False, regex=True)\n",
    "cra_sa_agg['sa_mod_desc'] = cra_sa_agg['sa_mod_desc'].str.replace(r\"time-limited\", \"time_limited\", case=False, regex=True)\n",
    "cra_sa_agg['sa_mod_desc'] = cra_sa_agg['sa_mod_desc'].str.replace(r\"supplemental agreement\", \"supplemental_agreement\", case=False, regex=True)\n"
   ]
  },
  {
   "cell_type": "code",
   "execution_count": 7,
   "id": "c43b7eb0",
   "metadata": {},
   "outputs": [],
   "source": [
    "# import re\n",
    "\n",
    "# def replace_phrases(df, column, phrase_dict):\n",
    "#     for phrase, replacement in phrase_dict.items():\n",
    "#         df[column] = df[column].str.replace(\n",
    "#             re.escape(phrase), replacement, case=False, regex=True\n",
    "#         )\n",
    "#     return df\n",
    "\n",
    "\n",
    "# # Define phrases to replace\n",
    "# phrases = {\n",
    "#     \"material escalation\": \"material_escalation\",\n",
    "#     \"project delay\": \"project_delay\",\n",
    "#     \"quality issues\": \"quality_issues\"\n",
    "# }\n",
    "\n",
    "# # Apply the function\n",
    "# df = replace_phrases(df, 'text_column', phrases)"
   ]
  },
  {
   "cell_type": "code",
   "execution_count": 29,
   "id": "bb26c919",
   "metadata": {},
   "outputs": [],
   "source": [
    "import re\n",
    "# repeat initial phrases to emphasize. \n",
    "stop_phrases = r\"(In accordance with|The Supplemental_Agreement|This supplemental_agreement|The following supplemental_agreement|This SA|This agreement|Supplemental_Agreement)\"\n",
    "\n",
    "# Function to extract text before any of the stop phrases\n",
    "def extract_intro(text):\n",
    "   match = re.split(stop_phrases, text, maxsplit=1, flags=re.IGNORECASE)\n",
    "   # match = re.split(r\"(^.*(\\-|\\)|\\:|\\.))\", match[0], maxsplit=1, flags=re.IGNORECASE)\n",
    "   # match2 = re.match(r'^([^\\.\\:\\-\\)]+)', match[0])\n",
    "   # if match2:\n",
    "   #    results=match2.group(1).strip()\n",
    "   # else:\n",
    "   #    results=None\n",
    "   return match[0].strip()\n",
    "\n",
    "# Apply it to your column\n",
    "cra_sa_agg['extracted_intro'] = cra_sa_agg['sa_mod_desc'].apply(extract_intro)\n",
    "cra_sa_agg['sa_mod_desc'] = cra_sa_agg['extracted_intro'] + '. ' + cra_sa_agg['sa_mod_desc']"
   ]
  },
  {
   "cell_type": "code",
   "execution_count": 9,
   "id": "53a83d5a",
   "metadata": {},
   "outputs": [],
   "source": [
    "# cra_sa_agg['extracted_intro'].value_counts()"
   ]
  },
  {
   "cell_type": "code",
   "execution_count": 10,
   "id": "63cf57c5",
   "metadata": {},
   "outputs": [],
   "source": [
    "# cra_sa_agg['extracted_intro'].value_counts().to_csv('C:\\\\Users\\\\humcgh\\\\Downloads\\\\intro.csv')"
   ]
  },
  {
   "cell_type": "code",
   "execution_count": 30,
   "id": "707b3b65",
   "metadata": {},
   "outputs": [
    {
     "name": "stdout",
     "output_type": "stream",
     "text": [
      "The Average length of String in list is: 1125.8296013779527\n"
     ]
    }
   ],
   "source": [
    "sentences=cra_sa_agg['sa_mod_desc'].tolist()\n",
    "len(sentences)\n",
    "# Calculate the average length of strings in the list\n",
    "average_length = sum([len(string) for string in sentences]) / len(sentences)\n",
    "\n",
    "# Print the result\n",
    "print(\"The Average length of String in list is:\", average_length)"
   ]
  },
  {
   "cell_type": "code",
   "execution_count": 31,
   "id": "0d757256",
   "metadata": {},
   "outputs": [],
   "source": [
    "from sklearn.preprocessing import LabelEncoder\n",
    "# Create an instance of LabelEncoder\n",
    "le = LabelEncoder()\n",
    "# cra_sa_agg['sa_specification_label'] = le.fit_transform(cra_sa_agg['sa_specification_desc'])\n",
    "# # set to nan for unsupervised\n",
    "# cra_sa_agg.loc[pd.isna(cra_sa_agg['sa_specification_desc']),'sa_specification_label'] = None\n",
    "\n",
    "# labels=cra_sa_agg['sa_specification_label'].tolist()\n",
    "# len(labels)\n",
    "\n",
    "# Create a unique list of values including None\n",
    "unique_vals = pd.Series(cra_sa_agg['sa_specification_desc'].unique())\n",
    "# Create a mapping dictionary, assigning -1 to None\n",
    "label_map = {val: idx if pd.notna(val) else -1 for idx, val in enumerate(unique_vals)}\n",
    "\n",
    "# Apply the mapping\n",
    "cra_sa_agg['sa_specification_label'] = cra_sa_agg['sa_specification_desc'].map(label_map)\n",
    "\n",
    "labels=cra_sa_agg['sa_specification_label']\n",
    "labels=labels.fillna(-1)"
   ]
  },
  {
   "cell_type": "code",
   "execution_count": 13,
   "id": "8a531312",
   "metadata": {},
   "outputs": [],
   "source": [
    "# # The description to encode\n",
    "# sentences = [\n",
    "# \"Guardrail ReLapping. The Department has found it necessary due to the phasing of the project to relapp some of the guardrail after shifting traffic. All work shall be in accordance with Section 869 of the 2006 North Carolina Standard Specifications.This supplemental agreement is written to cover all cost associated with materials, labor, equipment, and incidentals. This supplemental agreement is written in accordance with article 104-7 of the 2006 North Carolina Standard Specifications.\",\n",
    "# \"Sound Wall Panel Replacement - The Department has agreed to split the cost of replacing the defective Paragon sound wall panels with the Contractor. The original panels have failed in that the paint applied to them when they were produced is not adhering to material beneth.  These failures are widespread and are showing on all three of the installed sound walls.  This supplemental agreement is written to cover all costs of materials, labor, equipment and incidentals associated with the removal and disposal of the Paragon sound wall panels and replacing them with Carsonite Composite sound wall panels. The work of sound wall replacement shall be in accordance with the  contract special provisions. This supplemental agreement is written in accordance with article 104-7 of the 2006 North Carolina Standard Specifications.\",\n",
    "# \"Guardrail Fixes. The Department agreed by letter dated August 9, 2016 to pay for any damage that occurred by traffic being placed in the area of the Haw River. This supplemental agreement is written to cover the cost incurred to the contractor to repair the guardrail on the I-73 portion of the project from a vehicular accident. This supplemental agreement is written to cover all cost of materials, labor, equipment, traffic control and incidentals associated with the replacement of the Impact Attenuator and cable guiderail anchor. All work shall be in accordance with section 862 and section 864 of the 2006 North Carolina Standard Specification. This supplemental agreement is written in accordance with article 104-7 of the 2006 North Carolina Standard Specifications.\",\n",
    "# \"Wingwalls. The Department has found that it is necessary  to cut the old bridge wing walls and leave them in place instead of removing them from Lake Bryant, this supplemental agreement is written to cover all cost of materials, labor, equipment and incidentals associated with cutting and patching of the old wing walls at structure 3A on the R-2309AB project. This supplemental agreement is written in accordance with article 104-7 of the 2012 North Carolina Standard Specifications.\",\n",
    "# \"North End Traffic Shift. The Department requested that the Contractor coordinate with the Contractor on the adjoining project (C203645) to switch traffic to the southbound lanes on both projects at the same time. Tetra Tech was ready to place traffic on the new lanes before the adjoining project. This supplemental agreement is written to cover all cost of materials, labor, equipment and incidentals associated with the traffic shift. This supplemental agreement is written in accordance with article 104-7 of the 2006 North Carolina Standard Specifications.\",\n",
    "# \"The following supplemental agreement is to establish the materials and payment needed for the following items: SNOWPLOWABLE PAVEMENT MARKERS (SEC. 1253).These prices will be full compensation for all equipment, labor, and material necessary for the satisfactory completion of the work.\",\n",
    "# \"Sign Revision. The Department has revised the signing plans of the project.  This supplemental agreement is written to cover all cost of materials, labor, equipment and incidentals associated with the new signing plans.  All work shall be in accordance with Division 9 of the 2006 North Carolina Standard Specifications. This supplemental agreement is written in accordance with article 104-7 of the 2006 North Carolina Standard Specifications.\",\n",
    "# \"Overruns. The Contractor has requested under article 104-5 of the 2006 North Carolina Standard Specifications for a price increase due to the overrun of a minor item. The additional cost is due to increase in fuel price, labor rates, additional mobilizations and additional traffic control. This supplemental agreement is written to cover all cost of materials, labor, equipment and incidentals associated with the overruns involved in this supplemental agreement. All work shall be in accordance with the contract, 2006 North Carolina Standard Specification and project special provisions. This supplemental agreement is written in accordance with article 104-5 of the 2006 North Carolina Standard Specifications.\",\n",
    "# \"SNOWPLOWABLE MARKERS: This supplemental agreement is written in accordance with Article 104-3 of the 2012 Standard Specifications for Altered Work.  This agreement establishes compensation for the material, equipment, labor and associated costs to furnish and install snowplowable markers in lieu of raised pavement markers throughout the project.  The work and materials will be performed in accordance with Section 1253 of the 2012 Standard Specifications for Snowplowable Pavement Markers.\",\n",
    "# \"Signal Revision. The Department has revised the signal plans for the project.  This plan revision had made it necessary for the contractor to install a Conduit Entrance into Existing Foundation and a Field Ethernet Switch for Traffic Signal. This supplemental agreement is written to cover all cost of materials, labor, equipment and incidentals associated with the new signal plans.  All work shall be in accordance with Division 17 of the 2006 North Carolina Standard Specifications. This supplemental agreement is written in accordance with article 104-7 of the 2006 North Carolina Standard Specifications.\",\n",
    "# \"Overruns. The Contractor has requested under article 104-5 of the 2006 North Carolina Standard Specifications for a price increase due to the overrun of a minor item. The additional cost is due to increase in fuel price, labor rates, additional mobilizations and additional traffic control. This supplemental agreement is written to cover all cost of materials, labor, equipment and incidentals associated with the overruns involved in this supplemental agreement. All work shall be in accordance with the contract, 2006 North Carolina Standard Specification and project special provisions. This supplemental agreement is written in accordance with article 104-5 of the 2006 North Carolina Standard Specifications.\",\n",
    "# \"GUARDRAIL: This supplemental agreement is written in accordance with Article 104-7 of the 2012 Standard Specifications for Extra Work.  This agreement establishes compensation for the material, equipment, labor and associated costs to furnish and install additional guardrail as outlined in the construction revision dated 06/09/2016 on roadway plan sheets 2-A, 5 and 7-12 (sent electronically to contractor on 06/22/2016).  The work and materials will be performed in accordance with Section 862 of the 2012 Standard Specifications for Guardrail.\",\n",
    "# \"Guardrail Anchor Unit. The Department has found that the type of anchor units specified in the plan sheets at 2 locations will not work due to the presence of a drainage structure. A third location due to the configuration of the roadway the type of anchor unit would not fit. This supplemental agreement is written to cover all cost of labor, materials, equipment and incidentals associated with the installation of 2, 42 inch wide gating impact attenuator and 1, 96 inch wide gating impact attenuator. All work shall be in accordance with the manufactures specifications. This supplemental agreement is written in accordance with article 104-7 of the 2006 North Carolina Standard Specifications.\",\n",
    "# \"Overruns. The Contractor has requested under article 104-5 of the 2006 North Carolina Standard Specifications for a price increase due to the overrun of a minor item. The additional cost is due to increase in fuel price, labor rates, additional mobilizations and additional traffic control. This supplemental agreement is written to cover all cost of materials, labor, equipment and incidentals associated with the overruns involved in this supplemental agreement. All work shall be in accordance with the contract, 2006 North Carolina Standard Specification and project special provisions. This supplemental agreement is written in accordance with article 104-5 of the 2006 North Carolina Standard Specifications.\",\n",
    "# \"UNIT PRICE CHANGE GUARDRAIL MASH COMPLIANCE- This supplemental agreement is written as an agreement between the Contractor, Onslow Grading and Paving, and the North Carolina Department of Transportation [NCDOT],  in accordance with Article 104-3 of the 2012 Standard Specifications for Roads and Structures.  This supplemental agreement is written to provide compensation to the Contractor for the following; unit price change in contract line items; 59 Steel Beam Guardrail, 60 Steel Beam Guardrail, Shop Curved, 62 Guardrail Anchor Units, Type AT-1, 63 Guardrail Anchor Units, CAT-1 & deletion of line items 64 Guardrail Anchor Units, Type 350, 65 Guardrail Anchor Units, Type M-350, & creation of new line item  GREU-Type 350, TL-3 Mash STD.  All work shall be performed in accordance with the 2012 Standard Specifications for Roads and Structures. This agreement provides full compensation for contractor s equipment, material, labor and incidentals to complete this work and will be measured and paid in accordance with the applicable 2012 Standard Specifications for each item established herein.  NCDOT will provide Survey Control for work associated with this Supplemental Agreement.\",\n",
    "# \"Water Blasting. The Department has found requested that the contractor use water blasting instead of grinding to remove the temporary pavement markings on the bridges. This supplemental agreement is written to cover all cost associated with labor, material, equipment and incidentals to remove the temporary pavement markings by water blasting. All work shall be in accordance with Section 1205 of the 2006 North Carolina Standard Specifications. This supplemental agreement is written in accordance with article 104-7 of the 2012 North Carolina Standard Specifications.\",\n",
    "# \"Guardrail Fixes. The Department agreed by letter dated August 9, 2016 to pay for any damage that occurred by traffic being placed in the area of the Haw River. This supplemental agreement is written to cover the cost incurred to the contractor to replace the impact attenuator and cable guiderail anchor block at the split of US 200 and I-73 from a vehicular accident. This supplemental agreement is written to cover all cost of materials, labor, equipment, traffic control and incidentals associated with the replacement of the Impact Attenuator and cable guiderail anchor. All work shall be in accordance with section 862 and section 864 of the 2006 North Carolina Standard Specification. This supplemental agreement is written in accordance with article 104-7 of the 2006 North Carolina Standard Specifications.\",\n",
    "# \"MAST ARM FOUNDATION MODIFICATION- This agreement is written in accordance with Article 104-7 of the 2012 Standard Specifications for Roads and Structures and provides compensation for installation of the modified mast arm foundations at the intersection of NC 53 & Pony Farm/Murrill Hill.  Revised foundation plan sheets are attached.    All work shall be performed in accordance with the 2012 Standard Specifications for Roads and Structures, or as established herein. This agreement provides full compensation for equipment, material, labor and incidentals to complete this work and will be measured and paid in accordance with the applicable 2012 Standard Specifications for each item established herein, or as detailed below. NCDOT will provide survey control for this work.  This agreement adds the line item MAST ARM FOUNDATION.  This modification is necessary at plan locations 2, 3, & 4 of the signal plans (Attached).  This agreement is necessary due to the soil conditions not being able to support a traditional drilled shaft foundation at these locations.  An alternative (shaft & spread hybrid foundation) design was submitted and approved. (Attached).  MAST ARM FOUNDATION will be measured and paid in units of EACH, meeting the approved design drawing dimensions and specified numbers and lengths of reinforcing steel and anchor bolts per plan.    The line item FLOWABLE FILL MAST ARM FOUNDATION, shall be used prior to the installation of the mast arm foundation.  Flowable fill will be installed 6  in diameter at a depth 2 feet 6 inches below plan depth of the mast arm foundations, at plan locations 2, 3 and 4, in a wet pour, utilizing slurry for hole stability.  This material will be drilled out, with the remaining hardened material serving as a form to prevent these poor soils from collapse during drilling and pouring the mast arm foundation.  Measurement and payment will be the actual number of cubic yards placed in the in these 3 locations.  This will included all equipment, labor, material and incidentals necessary to complete the installation as approved by the Engineer.    Due to the poor soil conditions at this location, the subcontractor must perform this mast arm foundation installation in two separate operations which warrants an additional mobilization payment.  The flowable fill must reach a compressive strength of 500psi to 600psi prior to drilling for the mast arm foundation.    Signal Cabinet: Furnish and install base-mounted signal cabinet in accordance with Section 1751 of the 2012 Standard Specification for Roads & Structures, and provide and install new underground service.  Signal Cabinet Foundations, comply with Section 1750 of the 2012 Standard Specification for Roads & Structures.  Cabinet Base Adapter/Extender, comply with Section 1753 of the 2012 Standard Specification for Roads & Structures.  Removal of existing cabinet, foundation and CCTV pole, will be measured and paid lump sum.\",\n",
    "# \"Owl s Roost Back Signals. The Department has requested that the Contractor install back signals at Owl s Roost Rd. This supplemental agreement is written to cover all cost of materials, labor, equipment, traffic control and incidentals associated with the back signals. The work of back signals shall be in accordance with Section 1705 of the 2006 North Carolina Standard Specifications. This supplemental agreement is written in accordance with article 104-7 of the 2006 North Carolina Standard Specifications.\",\n",
    "# \"Repair of Slope Protection. The Department has found some washing that has occurred in the slope protection from the deck drains at the structures over the Haw River and has requested The Contractor to fill the voids with grout and repair/replace the rip rap slope protection. This supplemental agreement is written to cover all cost of labor, materials, equipment and incidentals associated with the grouting and repair of slope protection. This supplemental agreement is written in accordance with article 104-7 of the 2006 North Carolina Standard Specifications.\",\n",
    "# \"PIPE COLLAR - This agreement is written in accordance with Article 104-7 of the 2012 Standard Specifications for Roads and Structures and provides compensation for construction and installation of Pipe Collars at Sta.# 26+86 +/-  -L1- as detailed in Section 840 of the 2012 Standard Specifications for Roads and Structures.   This agreement provides full compensation for labor, equipment, materials & incidentals for excavation, construction, and backfill of pipe collar(s) at specified locations. This SA creates a new line code (192)  Pipe Collar . Measurement and payment will be the cubic yards incorporated in the completed work, as shown/detailed in Standard Drawing 840.72.  Placing and finishing of this material will be at no cost to the department.  All concrete will be tested and sampled according to NCDOT procedures by NCDOT RE staff.  NCDOT will provide survey control for this work.\"\n",
    "# ]"
   ]
  },
  {
   "cell_type": "code",
   "execution_count": 32,
   "id": "ebfa603e",
   "metadata": {},
   "outputs": [
    {
     "name": "stdout",
     "output_type": "stream",
     "text": [
      "(16256, 384)\n"
     ]
    }
   ],
   "source": [
    "# # split the cra_sa_agg into text to encode;\n",
    "# sentences = [sent_tokenize(description) for abstract in description]\n",
    "# sentences = [sentence for doc in sentences for sentence in doc]\n",
    "\n",
    "# 2. Calculate embeddings by calling model.encode()\n",
    "embeddings = embedding_model.encode(sentences)\n",
    "print(embeddings.shape)\n",
    "\n",
    "# 3. Calculate the embedding similarities\n",
    "# similarities = embedding_model.similarity(embeddings, embeddings)\n",
    "# print(similarities)"
   ]
  },
  {
   "cell_type": "code",
   "execution_count": 15,
   "id": "cc4f46ae",
   "metadata": {},
   "outputs": [],
   "source": [
    "# # Encode the corpus and the query\n",
    "# corpus_embeddings = torch.tensor(embeddings, dtype=torch.float)\n",
    "# # corpus_embeddings = embedding_model.encode(cra_sa_agg['sa_mod_desc'], convert_to_tensor=True)\n",
    "# query_embedding = embedding_model.encode(\"weather\", convert_to_tensor=True)\n",
    "\n",
    "# # Compute cosine similarity\n",
    "# cosine_scores = util.pytorch_cos_sim(query_embedding, corpus_embeddings)[0]\n",
    "\n",
    "# # Add similarity scores to DataFrame\n",
    "# cra_sa_agg['similarity'] = cosine_scores.cpu().numpy()\n",
    "\n",
    "# # Sort and display\n",
    "# cra_sa_agg = cra_sa_agg.sort_values(by='similarity', ascending=False)\n",
    "# print(cra_sa_agg[['sa_mod_desc', 'similarity']])"
   ]
  },
  {
   "cell_type": "code",
   "execution_count": 33,
   "id": "d9a15797",
   "metadata": {},
   "outputs": [
    {
     "ename": "LookupError",
     "evalue": "\n**********************************************************************\n  Resource \u001b[93mpunkt_tab\u001b[0m not found.\n  Please use the NLTK Downloader to obtain the resource:\n\n  \u001b[31m>>> import nltk\n  >>> nltk.download('punkt_tab')\n  \u001b[0m\n  For more information see: https://www.nltk.org/data.html\n\n  Attempted to load \u001b[93mtokenizers/punkt_tab/english/\u001b[0m\n\n  Searched in:\n    - '/Users/tawate/nltk_data'\n    - '/Users/tawate/Documents/ml_python_courses/.venv/nltk_data'\n    - '/Users/tawate/Documents/ml_python_courses/.venv/share/nltk_data'\n    - '/Users/tawate/Documents/ml_python_courses/.venv/lib/nltk_data'\n    - '/usr/share/nltk_data'\n    - '/usr/local/share/nltk_data'\n    - '/usr/lib/nltk_data'\n    - '/usr/local/lib/nltk_data'\n**********************************************************************\n",
     "output_type": "error",
     "traceback": [
      "\u001b[31m---------------------------------------------------------------------------\u001b[39m",
      "\u001b[31mLookupError\u001b[39m                               Traceback (most recent call last)",
      "\u001b[36mCell\u001b[39m\u001b[36m \u001b[39m\u001b[32mIn[33]\u001b[39m\u001b[32m, line 4\u001b[39m\n\u001b[32m      2\u001b[39m unique_words = \u001b[38;5;28mset\u001b[39m()\n\u001b[32m      3\u001b[39m \u001b[38;5;28;01mfor\u001b[39;00m sentence \u001b[38;5;129;01min\u001b[39;00m cra_sa_agg[\u001b[33m'\u001b[39m\u001b[33msa_mod_desc\u001b[39m\u001b[33m'\u001b[39m]:\n\u001b[32m----> \u001b[39m\u001b[32m4\u001b[39m     words = \u001b[43mword_tokenize\u001b[49m\u001b[43m(\u001b[49m\u001b[43msentence\u001b[49m\u001b[43m)\u001b[49m\n\u001b[32m      5\u001b[39m     unique_words.update(words)\n\u001b[32m      7\u001b[39m \u001b[38;5;66;03m# Step 2: Encode all unique words once\u001b[39;00m\n",
      "\u001b[36mFile \u001b[39m\u001b[32m~/Documents/ml_python_courses/.venv/lib/python3.13/site-packages/nltk/tokenize/__init__.py:142\u001b[39m, in \u001b[36mword_tokenize\u001b[39m\u001b[34m(text, language, preserve_line)\u001b[39m\n\u001b[32m    127\u001b[39m \u001b[38;5;28;01mdef\u001b[39;00m\u001b[38;5;250m \u001b[39m\u001b[34mword_tokenize\u001b[39m(text, language=\u001b[33m\"\u001b[39m\u001b[33menglish\u001b[39m\u001b[33m\"\u001b[39m, preserve_line=\u001b[38;5;28;01mFalse\u001b[39;00m):\n\u001b[32m    128\u001b[39m \u001b[38;5;250m    \u001b[39m\u001b[33;03m\"\"\"\u001b[39;00m\n\u001b[32m    129\u001b[39m \u001b[33;03m    Return a tokenized copy of *text*,\u001b[39;00m\n\u001b[32m    130\u001b[39m \u001b[33;03m    using NLTK's recommended word tokenizer\u001b[39;00m\n\u001b[32m   (...)\u001b[39m\u001b[32m    140\u001b[39m \u001b[33;03m    :type preserve_line: bool\u001b[39;00m\n\u001b[32m    141\u001b[39m \u001b[33;03m    \"\"\"\u001b[39;00m\n\u001b[32m--> \u001b[39m\u001b[32m142\u001b[39m     sentences = [text] \u001b[38;5;28;01mif\u001b[39;00m preserve_line \u001b[38;5;28;01melse\u001b[39;00m \u001b[43msent_tokenize\u001b[49m\u001b[43m(\u001b[49m\u001b[43mtext\u001b[49m\u001b[43m,\u001b[49m\u001b[43m \u001b[49m\u001b[43mlanguage\u001b[49m\u001b[43m)\u001b[49m\n\u001b[32m    143\u001b[39m     \u001b[38;5;28;01mreturn\u001b[39;00m [\n\u001b[32m    144\u001b[39m         token \u001b[38;5;28;01mfor\u001b[39;00m sent \u001b[38;5;129;01min\u001b[39;00m sentences \u001b[38;5;28;01mfor\u001b[39;00m token \u001b[38;5;129;01min\u001b[39;00m _treebank_word_tokenizer.tokenize(sent)\n\u001b[32m    145\u001b[39m     ]\n",
      "\u001b[36mFile \u001b[39m\u001b[32m~/Documents/ml_python_courses/.venv/lib/python3.13/site-packages/nltk/tokenize/__init__.py:119\u001b[39m, in \u001b[36msent_tokenize\u001b[39m\u001b[34m(text, language)\u001b[39m\n\u001b[32m    109\u001b[39m \u001b[38;5;28;01mdef\u001b[39;00m\u001b[38;5;250m \u001b[39m\u001b[34msent_tokenize\u001b[39m(text, language=\u001b[33m\"\u001b[39m\u001b[33menglish\u001b[39m\u001b[33m\"\u001b[39m):\n\u001b[32m    110\u001b[39m \u001b[38;5;250m    \u001b[39m\u001b[33;03m\"\"\"\u001b[39;00m\n\u001b[32m    111\u001b[39m \u001b[33;03m    Return a sentence-tokenized copy of *text*,\u001b[39;00m\n\u001b[32m    112\u001b[39m \u001b[33;03m    using NLTK's recommended sentence tokenizer\u001b[39;00m\n\u001b[32m   (...)\u001b[39m\u001b[32m    117\u001b[39m \u001b[33;03m    :param language: the model name in the Punkt corpus\u001b[39;00m\n\u001b[32m    118\u001b[39m \u001b[33;03m    \"\"\"\u001b[39;00m\n\u001b[32m--> \u001b[39m\u001b[32m119\u001b[39m     tokenizer = \u001b[43m_get_punkt_tokenizer\u001b[49m\u001b[43m(\u001b[49m\u001b[43mlanguage\u001b[49m\u001b[43m)\u001b[49m\n\u001b[32m    120\u001b[39m     \u001b[38;5;28;01mreturn\u001b[39;00m tokenizer.tokenize(text)\n",
      "\u001b[36mFile \u001b[39m\u001b[32m~/Documents/ml_python_courses/.venv/lib/python3.13/site-packages/nltk/tokenize/__init__.py:105\u001b[39m, in \u001b[36m_get_punkt_tokenizer\u001b[39m\u001b[34m(language)\u001b[39m\n\u001b[32m     96\u001b[39m \u001b[38;5;129m@functools\u001b[39m.lru_cache\n\u001b[32m     97\u001b[39m \u001b[38;5;28;01mdef\u001b[39;00m\u001b[38;5;250m \u001b[39m\u001b[34m_get_punkt_tokenizer\u001b[39m(language=\u001b[33m\"\u001b[39m\u001b[33menglish\u001b[39m\u001b[33m\"\u001b[39m):\n\u001b[32m     98\u001b[39m \u001b[38;5;250m    \u001b[39m\u001b[33;03m\"\"\"\u001b[39;00m\n\u001b[32m     99\u001b[39m \u001b[33;03m    A constructor for the PunktTokenizer that utilizes\u001b[39;00m\n\u001b[32m    100\u001b[39m \u001b[33;03m    a lru cache for performance.\u001b[39;00m\n\u001b[32m   (...)\u001b[39m\u001b[32m    103\u001b[39m \u001b[33;03m    :type language: str\u001b[39;00m\n\u001b[32m    104\u001b[39m \u001b[33;03m    \"\"\"\u001b[39;00m\n\u001b[32m--> \u001b[39m\u001b[32m105\u001b[39m     \u001b[38;5;28;01mreturn\u001b[39;00m \u001b[43mPunktTokenizer\u001b[49m\u001b[43m(\u001b[49m\u001b[43mlanguage\u001b[49m\u001b[43m)\u001b[49m\n",
      "\u001b[36mFile \u001b[39m\u001b[32m~/Documents/ml_python_courses/.venv/lib/python3.13/site-packages/nltk/tokenize/punkt.py:1744\u001b[39m, in \u001b[36mPunktTokenizer.__init__\u001b[39m\u001b[34m(self, lang)\u001b[39m\n\u001b[32m   1742\u001b[39m \u001b[38;5;28;01mdef\u001b[39;00m\u001b[38;5;250m \u001b[39m\u001b[34m__init__\u001b[39m(\u001b[38;5;28mself\u001b[39m, lang=\u001b[33m\"\u001b[39m\u001b[33menglish\u001b[39m\u001b[33m\"\u001b[39m):\n\u001b[32m   1743\u001b[39m     PunktSentenceTokenizer.\u001b[34m__init__\u001b[39m(\u001b[38;5;28mself\u001b[39m)\n\u001b[32m-> \u001b[39m\u001b[32m1744\u001b[39m     \u001b[38;5;28;43mself\u001b[39;49m\u001b[43m.\u001b[49m\u001b[43mload_lang\u001b[49m\u001b[43m(\u001b[49m\u001b[43mlang\u001b[49m\u001b[43m)\u001b[49m\n",
      "\u001b[36mFile \u001b[39m\u001b[32m~/Documents/ml_python_courses/.venv/lib/python3.13/site-packages/nltk/tokenize/punkt.py:1749\u001b[39m, in \u001b[36mPunktTokenizer.load_lang\u001b[39m\u001b[34m(self, lang)\u001b[39m\n\u001b[32m   1746\u001b[39m \u001b[38;5;28;01mdef\u001b[39;00m\u001b[38;5;250m \u001b[39m\u001b[34mload_lang\u001b[39m(\u001b[38;5;28mself\u001b[39m, lang=\u001b[33m\"\u001b[39m\u001b[33menglish\u001b[39m\u001b[33m\"\u001b[39m):\n\u001b[32m   1747\u001b[39m     \u001b[38;5;28;01mfrom\u001b[39;00m\u001b[38;5;250m \u001b[39m\u001b[34;01mnltk\u001b[39;00m\u001b[34;01m.\u001b[39;00m\u001b[34;01mdata\u001b[39;00m\u001b[38;5;250m \u001b[39m\u001b[38;5;28;01mimport\u001b[39;00m find\n\u001b[32m-> \u001b[39m\u001b[32m1749\u001b[39m     lang_dir = \u001b[43mfind\u001b[49m\u001b[43m(\u001b[49m\u001b[33;43mf\u001b[39;49m\u001b[33;43m\"\u001b[39;49m\u001b[33;43mtokenizers/punkt_tab/\u001b[39;49m\u001b[38;5;132;43;01m{\u001b[39;49;00m\u001b[43mlang\u001b[49m\u001b[38;5;132;43;01m}\u001b[39;49;00m\u001b[33;43m/\u001b[39;49m\u001b[33;43m\"\u001b[39;49m\u001b[43m)\u001b[49m\n\u001b[32m   1750\u001b[39m     \u001b[38;5;28mself\u001b[39m._params = load_punkt_params(lang_dir)\n\u001b[32m   1751\u001b[39m     \u001b[38;5;28mself\u001b[39m._lang = lang\n",
      "\u001b[36mFile \u001b[39m\u001b[32m~/Documents/ml_python_courses/.venv/lib/python3.13/site-packages/nltk/data.py:579\u001b[39m, in \u001b[36mfind\u001b[39m\u001b[34m(resource_name, paths)\u001b[39m\n\u001b[32m    577\u001b[39m sep = \u001b[33m\"\u001b[39m\u001b[33m*\u001b[39m\u001b[33m\"\u001b[39m * \u001b[32m70\u001b[39m\n\u001b[32m    578\u001b[39m resource_not_found = \u001b[33mf\u001b[39m\u001b[33m\"\u001b[39m\u001b[38;5;130;01m\\n\u001b[39;00m\u001b[38;5;132;01m{\u001b[39;00msep\u001b[38;5;132;01m}\u001b[39;00m\u001b[38;5;130;01m\\n\u001b[39;00m\u001b[38;5;132;01m{\u001b[39;00mmsg\u001b[38;5;132;01m}\u001b[39;00m\u001b[38;5;130;01m\\n\u001b[39;00m\u001b[38;5;132;01m{\u001b[39;00msep\u001b[38;5;132;01m}\u001b[39;00m\u001b[38;5;130;01m\\n\u001b[39;00m\u001b[33m\"\u001b[39m\n\u001b[32m--> \u001b[39m\u001b[32m579\u001b[39m \u001b[38;5;28;01mraise\u001b[39;00m \u001b[38;5;167;01mLookupError\u001b[39;00m(resource_not_found)\n",
      "\u001b[31mLookupError\u001b[39m: \n**********************************************************************\n  Resource \u001b[93mpunkt_tab\u001b[0m not found.\n  Please use the NLTK Downloader to obtain the resource:\n\n  \u001b[31m>>> import nltk\n  >>> nltk.download('punkt_tab')\n  \u001b[0m\n  For more information see: https://www.nltk.org/data.html\n\n  Attempted to load \u001b[93mtokenizers/punkt_tab/english/\u001b[0m\n\n  Searched in:\n    - '/Users/tawate/nltk_data'\n    - '/Users/tawate/Documents/ml_python_courses/.venv/nltk_data'\n    - '/Users/tawate/Documents/ml_python_courses/.venv/share/nltk_data'\n    - '/Users/tawate/Documents/ml_python_courses/.venv/lib/nltk_data'\n    - '/usr/share/nltk_data'\n    - '/usr/local/share/nltk_data'\n    - '/usr/lib/nltk_data'\n    - '/usr/local/lib/nltk_data'\n**********************************************************************\n"
     ]
    }
   ],
   "source": [
    "# Step 1: Tokenize all sentences and collect unique words\n",
    "unique_words = set()\n",
    "for sentence in cra_sa_agg['sa_mod_desc']:\n",
    "    words = word_tokenize(sentence)\n",
    "    unique_words.update(words)\n",
    "\n",
    "# Step 2: Encode all unique words once\n",
    "unique_word_embeddings = {\n",
    "    word: embedding_model.encode(word, convert_to_tensor=True) for word in unique_words\n",
    "}\n",
    "\n",
    "# Step 3: Encode the concept word\n",
    "concept_embedding = embedding_model.encode(\"settle\", convert_to_tensor=True)\n",
    "\n",
    "# Step 4: Function to find weather-related words\n",
    "def find_weather_related_words(sentence, threshold=0.4):\n",
    "    words = word_tokenize(sentence)\n",
    "    related_words = []\n",
    "    for word in words:\n",
    "        if word in unique_word_embeddings:\n",
    "            similarity = util.pytorch_cos_sim(concept_embedding, unique_word_embeddings[word])[0][0]\n",
    "            if similarity > threshold:\n",
    "                related_words.append(word)\n",
    "    return related_words\n",
    "\n",
    "# Step 5: Apply to DataFrame\n",
    "cra_sa_agg['settle_related_words'] = cra_sa_agg['sa_mod_desc'].apply(find_weather_related_words)\n",
    "\n",
    "# Filter rows where weather-related words are found\n",
    "filtered_df = cra_sa_agg[cra_sa_agg['settle_related_words'].map(len) > 0]\n",
    "\n",
    "# print(filtered_df[['sa_mod_desc', 'escalation_related_words']])\n"
   ]
  },
  {
   "cell_type": "code",
   "execution_count": 19,
   "id": "f5eb01dd",
   "metadata": {},
   "outputs": [
    {
     "name": "stdout",
     "output_type": "stream",
     "text": [
      "Unique material-related words: {'kill', 'move', 'payout', 'Signed', 'equal', 'Peace', 'ROLLING', 'tolerances', 'accepting', 'settle', 'establishs', 'mature', 'commit', 'roll', 'Negotiated', 'living', 'satisfy', 'Negotiations', 'landed', 'REMAIN', 'Proceed-', 'Lime', 'mixes', 'SHAKE', 'tolerance', 'Roll', 'Mix-', 'pay', 'reaching', 'Detention', 'Agreements', 'FLUSHING', 'shake', 'situ', 'Moving', 'disperse', 'signing', 'commitments', 'jurisdiction', 'MIx', 'engage', 'Bunch', 'Mixed', 'MIX', 'flushing', 'clearing', 'accommodated', 'punch', 'proceed', 'negotiation', 'floored', 'respect', 'frozen', 'acceptance', 'CLEARING', 'Dig', 'match', 'land', 'decide', 'live', 'knock', 'Rolled', 'committed', 'fulfill', 'dig', 'agreement.All', 'spread', 'diluent', 'suppling', 'bit', 'payment', 'Proceed', 'Agreement.A', 'JUSTICE', 'Flush', 'Bump', 'acceptance/punch', 'PUNCH', 'settlement', 'Frozen', 'settlements', 'Floor', 'Compensate', 'Corrections', 'cope', 'negotiating', 'Payment-', 'Land', 'negotiate', 'Justice', 'renegotiated', 'negotiated', 'checks', 'Bluff', 'Reconciles', 'Mix', 'committing', 'owed', 'SIGNING', 'Negotiation', 'precise', 'Contract', 'Clearing', 'resolve', 'moving', 'Comply', 'BUMP', 'CORRECTIONS', 'settling', 'Rolling', 'Acceptance', '-Mix', 'commitment', 'proceeding', 'CONTRACT', 'Pay', 'Signing', 'strikes', 'RELOCATE', 'PAYMENT', 'Staley', 'DETENTION', 'Establish', 'rolled', 'DIG', 'negotiator', 'compromise', 'Live', 'dense', 'Kill', 'Punch', 'COPE', 'dealing', 'cease', 'MIX-', 'signed', 'SETTLEMENT', 'compensated', 'comply', 'floor', 'accept', 'FLOOR', 'mix', 'Move', 'Spread', 'store', 'Relocate', 'LAND', 'renegotiation', 'ROLLED', 'matched', 'resolves', 'flush', 'bump', 'Match', 'Payout', 'Agreement', 'urban', 'SITU', 'Marque', 'reconcile', '.Payment', 'AGREEMENT', 'together', 'Tolerances', 'compensate', 'agreements', 'ROLL', 'agreement', 'Commitment', 'settled', 'mixed', 'matters', 'remain', 'reconciles', 'stuck', 'diluents', 'lime', 'AGREEMENTS', 'confirms', 'relocates', 'establish', 'LIME', 'scattered', 'Store', 'Owed', 'Equitable', 'acquire', 'rolling', 'relocate', 'NEGOTIATIONS', 'PAY', 'Freeze', 'Payment', 'corrections', 'detention', 'AGREEMENT-', 'resestting', 'spreads', 'negotiations', 'Settlement', 'contract', 'Checks', 'resolving', 'fulfilled'}\n"
     ]
    }
   ],
   "source": [
    "# Extract unique weather-related words across all rows\n",
    "unique_weather_related_words = set(word for words in cra_sa_agg['settle_related_words'] for word in words)\n",
    "\n",
    "print(\"Unique material-related words:\", unique_weather_related_words)\n",
    "\n",
    "# # Display result\n",
    "# filtered_df['weather_related_words'].value_counts().to_csv('C:\\\\Users\\\\humcgh\\\\Downloads\\\\info.csv')"
   ]
  },
  {
   "cell_type": "code",
   "execution_count": 20,
   "id": "842214c1",
   "metadata": {},
   "outputs": [
    {
     "name": "stdout",
     "output_type": "stream",
     "text": [
      "(15200, 5)\n"
     ]
    }
   ],
   "source": [
    "# reduce embeddings from 384 to some n;\n",
    "# umap_model = UMAP(n_components=10, min_dist=0.0, metric='cosine', random_state=42)\n",
    "umap_model = UMAP(n_neighbors=15, n_components=5, min_dist=0.1, metric='cosine', random_state=42)\n",
    "reduced_embeddings = umap_model.fit_transform(embeddings)\n",
    "print(reduced_embeddings.shape)"
   ]
  },
  {
   "cell_type": "code",
   "execution_count": 53,
   "id": "274014e2",
   "metadata": {},
   "outputs": [
    {
     "name": "stdout",
     "output_type": "stream",
     "text": [
      "(15200,)\n"
     ]
    }
   ],
   "source": [
    "# cluster embeddings the lower the number the more topics will be available\n",
    "hdbscan_model = HDBSCAN(min_cluster_size=50, min_samples=5, metric=\"euclidean\", cluster_selection_method=\"eom\").fit(reduced_embeddings)\n",
    "clusters = hdbscan_model.labels_\n",
    "print(clusters.shape)"
   ]
  },
  {
   "cell_type": "code",
   "execution_count": 54,
   "id": "f83fe060",
   "metadata": {},
   "outputs": [
    {
     "data": {
      "image/png": "[encoded data removed]",
      "text/plain": [
       "<Figure size 640x480 with 1 Axes>"
      ]
     },
     "metadata": {},
     "output_type": "display_data"
    }
   ],
   "source": [
    "import matplotlib.pyplot as plt\n",
    "plt.scatter(reduced_embeddings[:, 0], reduced_embeddings[:, 1], c=clusters, cmap='tab20b', alpha=0.6, s=2)\n",
    "plt.axis(\"off\")\n",
    "plt.show()"
   ]
  },
  {
   "cell_type": "code",
   "execution_count": 55,
   "id": "f1537c03",
   "metadata": {},
   "outputs": [],
   "source": [
    "# remove stopwords, exclude infrequent words and use word pairs\n",
    "vectorizer_model = CountVectorizer(stop_words=custom_stop_words, min_df=2, max_df=.9, ngram_range=(1, 2), token_pattern=r'(?u)\\b(?=\\w*[A-Za-z])\\w+\\b')\n",
    "X = vectorizer_model.fit_transform(sentences)\n",
    "# vectorizer_model = CountVectorizer(stop_words=custom_stop_words, min_df=2, ngram_range=(1, 2))\n",
    "# vectorizer_model = CountVectorizer(stop_words=\"english\", min_df=2, max_df=.9, ngram_range=(1, 2), token_pattern=r'(?u)\\b(?=\\w*[A-Za-z])\\w+\\b')"
   ]
  },
  {
   "cell_type": "code",
   "execution_count": 24,
   "id": "08b8cfa6",
   "metadata": {},
   "outputs": [],
   "source": [
    "# # Fit and transform the corpus\n",
    "# X = vectorizer_model.fit_transform(sentences)\n",
    "\n",
    "# words = vectorizer_model.get_feature_names_out()\n",
    "\n",
    "# # Sum the occurrences of each word\n",
    "# word_counts = np.asarray(X.sum(axis=0)).flatten()\n",
    "\n",
    "# # Sort words by frequency\n",
    "# sorted_indices = np.argsort(word_counts)[::-1]\n",
    "# most_frequent_words = [(words[i], word_counts[i]) for i in sorted_indices]\n",
    "\n",
    "# # Print the most frequent words\n",
    "# print(\"Most frequent words in the corpus:\")\n",
    "# for word, count in most_frequent_words:\n",
    "#    print(f\"{word}: {count}\")\n"
   ]
  },
  {
   "cell_type": "code",
   "execution_count": 56,
   "id": "167ae4d1",
   "metadata": {},
   "outputs": [
    {
     "name": "stderr",
     "output_type": "stream",
     "text": [
      "2025-05-20 13:59:15,251 - BERTopic - Dimensionality - Fitting the dimensionality reduction algorithm\n"
     ]
    },
    {
     "name": "stderr",
     "output_type": "stream",
     "text": [
      "2025-05-20 13:59:25,912 - BERTopic - Dimensionality - Completed ✓\n",
      "2025-05-20 13:59:25,912 - BERTopic - Cluster - Start clustering the reduced embeddings\n",
      "2025-05-20 13:59:26,226 - BERTopic - Cluster - Completed ✓\n",
      "2025-05-20 13:59:26,227 - BERTopic - Representation - Fine-tuning topics using representation models.\n",
      "2025-05-20 13:59:28,554 - BERTopic - Representation - Completed ✓\n"
     ]
    }
   ],
   "source": [
    "topic_model = BERTopic(embedding_model=embedding_model, \n",
    "                       umap_model=umap_model, \n",
    "                       hdbscan_model=hdbscan_model, \n",
    "                       vectorizer_model=vectorizer_model,\n",
    "                       top_n_words=20,\n",
    "                       verbose=True)\n",
    "topics, probs = topic_model.fit_transform(sentences, embeddings)"
   ]
  },
  {
   "cell_type": "code",
   "execution_count": 57,
   "id": "220684cb",
   "metadata": {},
   "outputs": [
    {
     "data": {
      "application/vnd.plotly.v1+json": {
       "config": {
        "plotlyServerURL": "https://plot.ly"
       },
       "data": [
        {
         "marker": {
          "color": "#D55E00"
         },
         "orientation": "h",
         "type": "bar",
         "x": [
          0.052024164184268556,
          0.05388800611204776,
          0.06353367116947188,
          0.06736459419110376,
          0.07148307346835689
         ],
         "xaxis": "x",
         "y": [
          "lines  ",
          "markings  ",
          "pavement  ",
          "pavement marking  ",
          "marking  "
         ],
         "yaxis": "y"
        },
        {
         "marker": {
          "color": "#0072B2"
         },
         "orientation": "h",
         "type": "bar",
         "x": [
          0.025654620055749103,
          0.029151067969780394,
          0.04021735764429569,
          0.04049818563287924,
          0.052406358046857414
         ],
         "xaxis": "x2",
         "y": [
          "relocation  ",
          "valve  ",
          "water line  ",
          "waterline  ",
          "water  "
         ],
         "yaxis": "y2"
        },
        {
         "marker": {
          "color": "#CC79A7"
         },
         "orientation": "h",
         "type": "bar",
         "x": [
          0.02081968199732887,
          0.029765822741319687,
          0.0300100307335402,
          0.030220623475311077,
          0.06336026023020701
         ],
         "xaxis": "x3",
         "y": [
          "cabinet  ",
          "fiber  ",
          "cable  ",
          "conduit  ",
          "signal  "
         ],
         "yaxis": "y3"
        },
        {
         "marker": {
          "color": "#E69F00"
         },
         "orientation": "h",
         "type": "bar",
         "x": [
          0.03473066938741204,
          0.03956715364599464,
          0.04043120071029886,
          0.0542614932848345,
          0.0735292833682376
         ],
         "xaxis": "x4",
         "y": [
          "boxes  ",
          "sanitary  ",
          "manholes  ",
          "manhole  ",
          "sewer  "
         ],
         "yaxis": "y4"
        },
        {
         "marker": {
          "color": "#56B4E9"
         },
         "orientation": "h",
         "type": "bar",
         "x": [
          0.01501407030018531,
          0.015314069083550085,
          0.01962332497951147,
          0.023679737194349782,
          0.02510993394591374
         ],
         "xaxis": "x5",
         "y": [
          "steel  ",
          "expansion  ",
          "bent  ",
          "joint  ",
          "deck  "
         ],
         "yaxis": "y5"
        },
        {
         "marker": {
          "color": "#009E73"
         },
         "orientation": "h",
         "type": "bar",
         "x": [
          0.0786756854081581,
          0.0851847230095891,
          0.0902470854668124,
          0.09928923584781978,
          0.09960534301345257
         ],
         "xaxis": "x6",
         "y": [
          "escalation adjustment  ",
          "adjustment  ",
          "cost escalation  ",
          "escalation  ",
          "material cost  "
         ],
         "yaxis": "y6"
        },
        {
         "marker": {
          "color": "#F0E442"
         },
         "orientation": "h",
         "type": "bar",
         "x": [
          0.030768786311369752,
          0.03661071736311618,
          0.03734803626186704,
          0.04150981986521746,
          0.10064060798777219
         ],
         "xaxis": "x7",
         "y": [
          "reset  ",
          "end  ",
          "units  ",
          "anchor  ",
          "guardrail  "
         ],
         "yaxis": "y7"
        },
        {
         "marker": {
          "color": "#D55E00"
         },
         "orientation": "h",
         "type": "bar",
         "x": [
          0.04180749856555249,
          0.05097384175849478,
          0.06646661935988182,
          0.0665375174161814,
          0.06660411883454258
         ],
         "xaxis": "x8",
         "y": [
          "class  ",
          "slope  ",
          "rip rap  ",
          "rip  ",
          "rap  "
         ],
         "yaxis": "y8"
        },
        {
         "marker": {
          "color": "#0072B2"
         },
         "orientation": "h",
         "type": "bar",
         "x": [
          0.0411177694023385,
          0.051261054329556424,
          0.0565781880828433,
          0.05862494668296124,
          0.10068725660079061
         ],
         "xaxis": "x9",
         "y": [
          "concrete curb  ",
          "curb gutter  ",
          "gutter  ",
          "sidewalk  ",
          "curb  "
         ],
         "yaxis": "y9"
        },
        {
         "marker": {
          "color": "#CC79A7"
         },
         "orientation": "h",
         "type": "bar",
         "x": [
          0.022792420080242494,
          0.023830048704870214,
          0.031469077135879,
          0.06047313571795919,
          0.0748640806760261
         ],
         "xaxis": "x10",
         "y": [
          "class iv  ",
          "iv  ",
          "class  ",
          "rcp  ",
          "pipe  "
         ],
         "yaxis": "y10"
        }
       ],
       "layout": {
        "annotations": [
         {
          "font": {
           "size": 16
          },
          "showarrow": false,
          "text": "Topic 0",
          "x": 0.0875,
          "xanchor": "center",
          "xref": "paper",
          "y": 1,
          "yanchor": "bottom",
          "yref": "paper"
         },
         {
          "font": {
           "size": 16
          },
          "showarrow": false,
          "text": "Topic 1",
          "x": 0.36250000000000004,
          "xanchor": "center",
          "xref": "paper",
          "y": 1,
          "yanchor": "bottom",
          "yref": "paper"
         },
         {
          "font": {
           "size": 16
          },
          "showarrow": false,
          "text": "Topic 2",
          "x": 0.6375000000000001,
          "xanchor": "center",
          "xref": "paper",
          "y": 1,
          "yanchor": "bottom",
          "yref": "paper"
         },
         {
          "font": {
           "size": 16
          },
          "showarrow": false,
          "text": "Topic 3",
          "x": 0.9125,
          "xanchor": "center",
          "xref": "paper",
          "y": 1,
          "yanchor": "bottom",
          "yref": "paper"
         },
         {
          "font": {
           "size": 16
          },
          "showarrow": false,
          "text": "Topic 4",
          "x": 0.0875,
          "xanchor": "center",
          "xref": "paper",
          "y": 0.6222222222222222,
          "yanchor": "bottom",
          "yref": "paper"
         },
         {
          "font": {
           "size": 16
          },
          "showarrow": false,
          "text": "Topic 5",
          "x": 0.36250000000000004,
          "xanchor": "center",
          "xref": "paper",
          "y": 0.6222222222222222,
          "yanchor": "bottom",
          "yref": "paper"
         },
         {
          "font": {
           "size": 16
          },
          "showarrow": false,
          "text": "Topic 6",
          "x": 0.6375000000000001,
          "xanchor": "center",
          "xref": "paper",
          "y": 0.6222222222222222,
          "yanchor": "bottom",
          "yref": "paper"
         },
         {
          "font": {
           "size": 16
          },
          "showarrow": false,
          "text": "Topic 7",
          "x": 0.9125,
          "xanchor": "center",
          "xref": "paper",
          "y": 0.6222222222222222,
          "yanchor": "bottom",
          "yref": "paper"
         },
         {
          "font": {
           "size": 16
          },
          "showarrow": false,
          "text": "Topic 8",
          "x": 0.0875,
          "xanchor": "center",
          "xref": "paper",
          "y": 0.24444444444444446,
          "yanchor": "bottom",
          "yref": "paper"
         },
         {
          "font": {
           "size": 16
          },
          "showarrow": false,
          "text": "Topic 9",
          "x": 0.36250000000000004,
          "xanchor": "center",
          "xref": "paper",
          "y": 0.24444444444444446,
          "yanchor": "bottom",
          "yref": "paper"
         }
        ],
        "height": 750,
        "hoverlabel": {
         "bgcolor": "white",
         "font": {
          "family": "Rockwell",
          "size": 16
         }
        },
        "showlegend": false,
        "template": {
         "data": {
          "bar": [
           {
            "error_x": {
             "color": "#2a3f5f"
            },
            "error_y": {
             "color": "#2a3f5f"
            },
            "marker": {
             "line": {
              "color": "white",
              "width": 0.5
             },
             "pattern": {
              "fillmode": "overlay",
              "size": 10,
              "solidity": 0.2
             }
            },
            "type": "bar"
           }
          ],
          "barpolar": [
           {
            "marker": {
             "line": {
              "color": "white",
              "width": 0.5
             },
             "pattern": {
              "fillmode": "overlay",
              "size": 10,
              "solidity": 0.2
             }
            },
            "type": "barpolar"
           }
          ],
          "carpet": [
           {
            "aaxis": {
             "endlinecolor": "#2a3f5f",
             "gridcolor": "#C8D4E3",
             "linecolor": "#C8D4E3",
             "minorgridcolor": "#C8D4E3",
             "startlinecolor": "#2a3f5f"
            },
            "baxis": {
             "endlinecolor": "#2a3f5f",
             "gridcolor": "#C8D4E3",
             "linecolor": "#C8D4E3",
             "minorgridcolor": "#C8D4E3",
             "startlinecolor": "#2a3f5f"
            },
            "type": "carpet"
           }
          ],
          "choropleth": [
           {
            "colorbar": {
             "outlinewidth": 0,
             "ticks": ""
            },
            "type": "choropleth"
           }
          ],
          "contour": [
           {
            "colorbar": {
             "outlinewidth": 0,
             "ticks": ""
            },
            "colorscale": [
             [
              0,
              "#0d0887"
             ],
             [
              0.1111111111111111,
              "#46039f"
             ],
             [
              0.2222222222222222,
              "#7201a8"
             ],
             [
              0.3333333333333333,
              "#9c179e"
             ],
             [
              0.4444444444444444,
              "#bd3786"
             ],
             [
              0.5555555555555556,
              "#d8576b"
             ],
             [
              0.6666666666666666,
              "#ed7953"
             ],
             [
              0.7777777777777778,
              "#fb9f3a"
             ],
             [
              0.8888888888888888,
              "#fdca26"
             ],
             [
              1,
              "#f0f921"
             ]
            ],
            "type": "contour"
           }
          ],
          "contourcarpet": [
           {
            "colorbar": {
             "outlinewidth": 0,
             "ticks": ""
            },
            "type": "contourcarpet"
           }
          ],
          "heatmap": [
           {
            "colorbar": {
             "outlinewidth": 0,
             "ticks": ""
            },
            "colorscale": [
             [
              0,
              "#0d0887"
             ],
             [
              0.1111111111111111,
              "#46039f"
             ],
             [
              0.2222222222222222,
              "#7201a8"
             ],
             [
              0.3333333333333333,
              "#9c179e"
             ],
             [
              0.4444444444444444,
              "#bd3786"
             ],
             [
              0.5555555555555556,
              "#d8576b"
             ],
             [
              0.6666666666666666,
              "#ed7953"
             ],
             [
              0.7777777777777778,
              "#fb9f3a"
             ],
             [
              0.8888888888888888,
              "#fdca26"
             ],
             [
              1,
              "#f0f921"
             ]
            ],
            "type": "heatmap"
           }
          ],
          "histogram": [
           {
            "marker": {
             "pattern": {
              "fillmode": "overlay",
              "size": 10,
              "solidity": 0.2
             }
            },
            "type": "histogram"
           }
          ],
          "histogram2d": [
           {
            "colorbar": {
             "outlinewidth": 0,
             "ticks": ""
            },
            "colorscale": [
             [
              0,
              "#0d0887"
             ],
             [
              0.1111111111111111,
              "#46039f"
             ],
             [
              0.2222222222222222,
              "#7201a8"
             ],
             [
              0.3333333333333333,
              "#9c179e"
             ],
             [
              0.4444444444444444,
              "#bd3786"
             ],
             [
              0.5555555555555556,
              "#d8576b"
             ],
             [
              0.6666666666666666,
              "#ed7953"
             ],
             [
              0.7777777777777778,
              "#fb9f3a"
             ],
             [
              0.8888888888888888,
              "#fdca26"
             ],
             [
              1,
              "#f0f921"
             ]
            ],
            "type": "histogram2d"
           }
          ],
          "histogram2dcontour": [
           {
            "colorbar": {
             "outlinewidth": 0,
             "ticks": ""
            },
            "colorscale": [
             [
              0,
              "#0d0887"
             ],
             [
              0.1111111111111111,
              "#46039f"
             ],
             [
              0.2222222222222222,
              "#7201a8"
             ],
             [
              0.3333333333333333,
              "#9c179e"
             ],
             [
              0.4444444444444444,
              "#bd3786"
             ],
             [
              0.5555555555555556,
              "#d8576b"
             ],
             [
              0.6666666666666666,
              "#ed7953"
             ],
             [
              0.7777777777777778,
              "#fb9f3a"
             ],
             [
              0.8888888888888888,
              "#fdca26"
             ],
             [
              1,
              "#f0f921"
             ]
            ],
            "type": "histogram2dcontour"
           }
          ],
          "mesh3d": [
           {
            "colorbar": {
             "outlinewidth": 0,
             "ticks": ""
            },
            "type": "mesh3d"
           }
          ],
          "parcoords": [
           {
            "line": {
             "colorbar": {
              "outlinewidth": 0,
              "ticks": ""
             }
            },
            "type": "parcoords"
           }
          ],
          "pie": [
           {
            "automargin": true,
            "type": "pie"
           }
          ],
          "scatter": [
           {
            "fillpattern": {
             "fillmode": "overlay",
             "size": 10,
             "solidity": 0.2
            },
            "type": "scatter"
           }
          ],
          "scatter3d": [
           {
            "line": {
             "colorbar": {
              "outlinewidth": 0,
              "ticks": ""
             }
            },
            "marker": {
             "colorbar": {
              "outlinewidth": 0,
              "ticks": ""
             }
            },
            "type": "scatter3d"
           }
          ],
          "scattercarpet": [
           {
            "marker": {
             "colorbar": {
              "outlinewidth": 0,
              "ticks": ""
             }
            },
            "type": "scattercarpet"
           }
          ],
          "scattergeo": [
           {
            "marker": {
             "colorbar": {
              "outlinewidth": 0,
              "ticks": ""
             }
            },
            "type": "scattergeo"
           }
          ],
          "scattergl": [
           {
            "marker": {
             "colorbar": {
              "outlinewidth": 0,
              "ticks": ""
             }
            },
            "type": "scattergl"
           }
          ],
          "scattermap": [
           {
            "marker": {
             "colorbar": {
              "outlinewidth": 0,
              "ticks": ""
             }
            },
            "type": "scattermap"
           }
          ],
          "scattermapbox": [
           {
            "marker": {
             "colorbar": {
              "outlinewidth": 0,
              "ticks": ""
             }
            },
            "type": "scattermapbox"
           }
          ],
          "scatterpolar": [
           {
            "marker": {
             "colorbar": {
              "outlinewidth": 0,
              "ticks": ""
             }
            },
            "type": "scatterpolar"
           }
          ],
          "scatterpolargl": [
           {
            "marker": {
             "colorbar": {
              "outlinewidth": 0,
              "ticks": ""
             }
            },
            "type": "scatterpolargl"
           }
          ],
          "scatterternary": [
           {
            "marker": {
             "colorbar": {
              "outlinewidth": 0,
              "ticks": ""
             }
            },
            "type": "scatterternary"
           }
          ],
          "surface": [
           {
            "colorbar": {
             "outlinewidth": 0,
             "ticks": ""
            },
            "colorscale": [
             [
              0,
              "#0d0887"
             ],
             [
              0.1111111111111111,
              "#46039f"
             ],
             [
              0.2222222222222222,
              "#7201a8"
             ],
             [
              0.3333333333333333,
              "#9c179e"
             ],
             [
              0.4444444444444444,
              "#bd3786"
             ],
             [
              0.5555555555555556,
              "#d8576b"
             ],
             [
              0.6666666666666666,
              "#ed7953"
             ],
             [
              0.7777777777777778,
              "#fb9f3a"
             ],
             [
              0.8888888888888888,
              "#fdca26"
             ],
             [
              1,
              "#f0f921"
             ]
            ],
            "type": "surface"
           }
          ],
          "table": [
           {
            "cells": {
             "fill": {
              "color": "#EBF0F8"
             },
             "line": {
              "color": "white"
             }
            },
            "header": {
             "fill": {
              "color": "#C8D4E3"
             },
             "line": {
              "color": "white"
             }
            },
            "type": "table"
           }
          ]
         },
         "layout": {
          "annotationdefaults": {
           "arrowcolor": "#2a3f5f",
           "arrowhead": 0,
           "arrowwidth": 1
          },
          "autotypenumbers": "strict",
          "coloraxis": {
           "colorbar": {
            "outlinewidth": 0,
            "ticks": ""
           }
          },
          "colorscale": {
           "diverging": [
            [
             0,
             "#8e0152"
            ],
            [
             0.1,
             "#c51b7d"
            ],
            [
             0.2,
             "#de77ae"
            ],
            [
             0.3,
             "#f1b6da"
            ],
            [
             0.4,
             "#fde0ef"
            ],
            [
             0.5,
             "#f7f7f7"
            ],
            [
             0.6,
             "#e6f5d0"
            ],
            [
             0.7,
             "#b8e186"
            ],
            [
             0.8,
             "#7fbc41"
            ],
            [
             0.9,
             "#4d9221"
            ],
            [
             1,
             "#276419"
            ]
           ],
           "sequential": [
            [
             0,
             "#0d0887"
            ],
            [
             0.1111111111111111,
             "#46039f"
            ],
            [
             0.2222222222222222,
             "#7201a8"
            ],
            [
             0.3333333333333333,
             "#9c179e"
            ],
            [
             0.4444444444444444,
             "#bd3786"
            ],
            [
             0.5555555555555556,
             "#d8576b"
            ],
            [
             0.6666666666666666,
             "#ed7953"
            ],
            [
             0.7777777777777778,
             "#fb9f3a"
            ],
            [
             0.8888888888888888,
             "#fdca26"
            ],
            [
             1,
             "#f0f921"
            ]
           ],
           "sequentialminus": [
            [
             0,
             "#0d0887"
            ],
            [
             0.1111111111111111,
             "#46039f"
            ],
            [
             0.2222222222222222,
             "#7201a8"
            ],
            [
             0.3333333333333333,
             "#9c179e"
            ],
            [
             0.4444444444444444,
             "#bd3786"
            ],
            [
             0.5555555555555556,
             "#d8576b"
            ],
            [
             0.6666666666666666,
             "#ed7953"
            ],
            [
             0.7777777777777778,
             "#fb9f3a"
            ],
            [
             0.8888888888888888,
             "#fdca26"
            ],
            [
             1,
             "#f0f921"
            ]
           ]
          },
          "colorway": [
           "#636efa",
           "#EF553B",
           "#00cc96",
           "#ab63fa",
           "#FFA15A",
           "#19d3f3",
           "#FF6692",
           "#B6E880",
           "#FF97FF",
           "#FECB52"
          ],
          "font": {
           "color": "#2a3f5f"
          },
          "geo": {
           "bgcolor": "white",
           "lakecolor": "white",
           "landcolor": "white",
           "showlakes": true,
           "showland": true,
           "subunitcolor": "#C8D4E3"
          },
          "hoverlabel": {
           "align": "left"
          },
          "hovermode": "closest",
          "mapbox": {
           "style": "light"
          },
          "paper_bgcolor": "white",
          "plot_bgcolor": "white",
          "polar": {
           "angularaxis": {
            "gridcolor": "#EBF0F8",
            "linecolor": "#EBF0F8",
            "ticks": ""
           },
           "bgcolor": "white",
           "radialaxis": {
            "gridcolor": "#EBF0F8",
            "linecolor": "#EBF0F8",
            "ticks": ""
           }
          },
          "scene": {
           "xaxis": {
            "backgroundcolor": "white",
            "gridcolor": "#DFE8F3",
            "gridwidth": 2,
            "linecolor": "#EBF0F8",
            "showbackground": true,
            "ticks": "",
            "zerolinecolor": "#EBF0F8"
           },
           "yaxis": {
            "backgroundcolor": "white",
            "gridcolor": "#DFE8F3",
            "gridwidth": 2,
            "linecolor": "#EBF0F8",
            "showbackground": true,
            "ticks": "",
            "zerolinecolor": "#EBF0F8"
           },
           "zaxis": {
            "backgroundcolor": "white",
            "gridcolor": "#DFE8F3",
            "gridwidth": 2,
            "linecolor": "#EBF0F8",
            "showbackground": true,
            "ticks": "",
            "zerolinecolor": "#EBF0F8"
           }
          },
          "shapedefaults": {
           "line": {
            "color": "#2a3f5f"
           }
          },
          "ternary": {
           "aaxis": {
            "gridcolor": "#DFE8F3",
            "linecolor": "#A2B1C6",
            "ticks": ""
           },
           "baxis": {
            "gridcolor": "#DFE8F3",
            "linecolor": "#A2B1C6",
            "ticks": ""
           },
           "bgcolor": "white",
           "caxis": {
            "gridcolor": "#DFE8F3",
            "linecolor": "#A2B1C6",
            "ticks": ""
           }
          },
          "title": {
           "x": 0.05
          },
          "xaxis": {
           "automargin": true,
           "gridcolor": "#EBF0F8",
           "linecolor": "#EBF0F8",
           "ticks": "",
           "title": {
            "standoff": 15
           },
           "zerolinecolor": "#EBF0F8",
           "zerolinewidth": 2
          },
          "yaxis": {
           "automargin": true,
           "gridcolor": "#EBF0F8",
           "linecolor": "#EBF0F8",
           "ticks": "",
           "title": {
            "standoff": 15
           },
           "zerolinecolor": "#EBF0F8",
           "zerolinewidth": 2
          }
         }
        },
        "title": {
         "font": {
          "color": "Black",
          "size": 22
         },
         "text": "Topic Word Scores",
         "x": 0.5,
         "xanchor": "center",
         "yanchor": "top"
        },
        "width": 1000,
        "xaxis": {
         "anchor": "y",
         "domain": [
          0,
          0.175
         ],
         "showgrid": true
        },
        "xaxis10": {
         "anchor": "y10",
         "domain": [
          0.275,
          0.45
         ],
         "showgrid": true
        },
        "xaxis11": {
         "anchor": "y11",
         "domain": [
          0.55,
          0.7250000000000001
         ],
         "showgrid": true
        },
        "xaxis12": {
         "anchor": "y12",
         "domain": [
          0.825,
          1
         ],
         "showgrid": true
        },
        "xaxis2": {
         "anchor": "y2",
         "domain": [
          0.275,
          0.45
         ],
         "showgrid": true
        },
        "xaxis3": {
         "anchor": "y3",
         "domain": [
          0.55,
          0.7250000000000001
         ],
         "showgrid": true
        },
        "xaxis4": {
         "anchor": "y4",
         "domain": [
          0.825,
          1
         ],
         "showgrid": true
        },
        "xaxis5": {
         "anchor": "y5",
         "domain": [
          0,
          0.175
         ],
         "showgrid": true
        },
        "xaxis6": {
         "anchor": "y6",
         "domain": [
          0.275,
          0.45
         ],
         "showgrid": true
        },
        "xaxis7": {
         "anchor": "y7",
         "domain": [
          0.55,
          0.7250000000000001
         ],
         "showgrid": true
        },
        "xaxis8": {
         "anchor": "y8",
         "domain": [
          0.825,
          1
         ],
         "showgrid": true
        },
        "xaxis9": {
         "anchor": "y9",
         "domain": [
          0,
          0.175
         ],
         "showgrid": true
        },
        "yaxis": {
         "anchor": "x",
         "domain": [
          0.7555555555555555,
          1
         ],
         "showgrid": true
        },
        "yaxis10": {
         "anchor": "x10",
         "domain": [
          0,
          0.24444444444444446
         ],
         "showgrid": true
        },
        "yaxis11": {
         "anchor": "x11",
         "domain": [
          0,
          0.24444444444444446
         ],
         "showgrid": true
        },
        "yaxis12": {
         "anchor": "x12",
         "domain": [
          0,
          0.24444444444444446
         ],
         "showgrid": true
        },
        "yaxis2": {
         "anchor": "x2",
         "domain": [
          0.7555555555555555,
          1
         ],
         "showgrid": true
        },
        "yaxis3": {
         "anchor": "x3",
         "domain": [
          0.7555555555555555,
          1
         ],
         "showgrid": true
        },
        "yaxis4": {
         "anchor": "x4",
         "domain": [
          0.7555555555555555,
          1
         ],
         "showgrid": true
        },
        "yaxis5": {
         "anchor": "x5",
         "domain": [
          0.37777777777777777,
          0.6222222222222222
         ],
         "showgrid": true
        },
        "yaxis6": {
         "anchor": "x6",
         "domain": [
          0.37777777777777777,
          0.6222222222222222
         ],
         "showgrid": true
        },
        "yaxis7": {
         "anchor": "x7",
         "domain": [
          0.37777777777777777,
          0.6222222222222222
         ],
         "showgrid": true
        },
        "yaxis8": {
         "anchor": "x8",
         "domain": [
          0.37777777777777777,
          0.6222222222222222
         ],
         "showgrid": true
        },
        "yaxis9": {
         "anchor": "x9",
         "domain": [
          0,
          0.24444444444444446
         ],
         "showgrid": true
        }
       }
      }
     },
     "metadata": {},
     "output_type": "display_data"
    }
   ],
   "source": [
    "# import nbformat\n",
    "topic_model.visualize_barchart(top_n_topics=10)\n"
   ]
  },
  {
   "cell_type": "code",
   "execution_count": 58,
   "id": "0be60ece",
   "metadata": {},
   "outputs": [
    {
     "data": {
      "text/html": [
       "<div>\n",
       "<style scoped>\n",
       "    .dataframe tbody tr th:only-of-type {\n",
       "        vertical-align: middle;\n",
       "    }\n",
       "\n",
       "    .dataframe tbody tr th {\n",
       "        vertical-align: top;\n",
       "    }\n",
       "\n",
       "    .dataframe thead th {\n",
       "        text-align: right;\n",
       "    }\n",
       "</style>\n",
       "<table border=\"1\" class=\"dataframe\">\n",
       "  <thead>\n",
       "    <tr style=\"text-align: right;\">\n",
       "      <th></th>\n",
       "      <th>Topic</th>\n",
       "      <th>Count</th>\n",
       "      <th>Name</th>\n",
       "      <th>Representation</th>\n",
       "      <th>Representative_Docs</th>\n",
       "    </tr>\n",
       "  </thead>\n",
       "  <tbody>\n",
       "    <tr>\n",
       "      <th>0</th>\n",
       "      <td>-1</td>\n",
       "      <td>3658</td>\n",
       "      <td>-1_asphalt_pipe_drainage_design</td>\n",
       "      <td>[asphalt, pipe, drainage, design, course, stru...</td>\n",
       "      <td>[(Southern Paving Limits Extension). (Southern...</td>\n",
       "    </tr>\n",
       "    <tr>\n",
       "      <th>1</th>\n",
       "      <td>0</td>\n",
       "      <td>887</td>\n",
       "      <td>0_marking_pavement marking_pavement_markings</td>\n",
       "      <td>[marking, pavement marking, pavement, markings...</td>\n",
       "      <td>[6\" and 12\" THERMOPLASTIC PAVEMENT MARKING LIN...</td>\n",
       "    </tr>\n",
       "    <tr>\n",
       "      <th>2</th>\n",
       "      <td>1</td>\n",
       "      <td>641</td>\n",
       "      <td>1_water_waterline_water line_valve</td>\n",
       "      <td>[water, waterline, water line, valve, relocati...</td>\n",
       "      <td>[6 WATER LINE TO 8 WATER LINE ADJUSTMENT -. 6 ...</td>\n",
       "    </tr>\n",
       "    <tr>\n",
       "      <th>3</th>\n",
       "      <td>2</td>\n",
       "      <td>502</td>\n",
       "      <td>2_signal_conduit_cable_fiber</td>\n",
       "      <td>[signal, conduit, cable, fiber, cabinet, junct...</td>\n",
       "      <td>[FIBER OPTIC, RADIO INSTALLATION, ETHERNET CAB...</td>\n",
       "    </tr>\n",
       "    <tr>\n",
       "      <th>4</th>\n",
       "      <td>3</td>\n",
       "      <td>476</td>\n",
       "      <td>3_sewer_manhole_manholes_sanitary</td>\n",
       "      <td>[sewer, manhole, manholes, sanitary, boxes, sa...</td>\n",
       "      <td>[SANITARY SEWER CLEANOUT, ADJUSTMENT OF METER/...</td>\n",
       "    </tr>\n",
       "    <tr>\n",
       "      <th>...</th>\n",
       "      <td>...</td>\n",
       "      <td>...</td>\n",
       "      <td>...</td>\n",
       "      <td>...</td>\n",
       "      <td>...</td>\n",
       "    </tr>\n",
       "    <tr>\n",
       "      <th>65</th>\n",
       "      <td>64</td>\n",
       "      <td>53</td>\n",
       "      <td>64_geotextile_stabilization_soil stabilization...</td>\n",
       "      <td>[geotextile, stabilization, soil stabilization...</td>\n",
       "      <td>[Geotextile for Soil Stabilization, Type 5 and...</td>\n",
       "    </tr>\n",
       "    <tr>\n",
       "      <th>66</th>\n",
       "      <td>65</td>\n",
       "      <td>52</td>\n",
       "      <td>65_guardrail_repairs_guiderail_guardrail repairs</td>\n",
       "      <td>[guardrail, repairs, guiderail, guardrail repa...</td>\n",
       "      <td>[(Guardrail Repairs). (Guardrail Repairs)  Thi...</td>\n",
       "    </tr>\n",
       "    <tr>\n",
       "      <th>67</th>\n",
       "      <td>66</td>\n",
       "      <td>51</td>\n",
       "      <td>66_vep_value engineering_engineering proposal_...</td>\n",
       "      <td>[vep, value engineering, engineering proposal,...</td>\n",
       "      <td>[Value Engineering Proposal (VEP).. Value Engi...</td>\n",
       "    </tr>\n",
       "    <tr>\n",
       "      <th>68</th>\n",
       "      <td>67</td>\n",
       "      <td>50</td>\n",
       "      <td>67_hurricane_debris_matthew_hurricane matthew</td>\n",
       "      <td>[hurricane, debris, matthew, hurricane matthew...</td>\n",
       "      <td>[Perform Hurricane Matthew repair work for str...</td>\n",
       "    </tr>\n",
       "    <tr>\n",
       "      <th>69</th>\n",
       "      <td>68</td>\n",
       "      <td>50</td>\n",
       "      <td>68_drilled_casing_pier_piers</td>\n",
       "      <td>[drilled, casing, pier, piers, permanent steel...</td>\n",
       "      <td>[Permanent Steel Casing for 3-0 Dia. Drilled P...</td>\n",
       "    </tr>\n",
       "  </tbody>\n",
       "</table>\n",
       "<p>70 rows × 5 columns</p>\n",
       "</div>"
      ],
      "text/plain": [
       "    Topic  Count                                               Name  \\\n",
       "0      -1   3658                    -1_asphalt_pipe_drainage_design   \n",
       "1       0    887       0_marking_pavement marking_pavement_markings   \n",
       "2       1    641                 1_water_waterline_water line_valve   \n",
       "3       2    502                       2_signal_conduit_cable_fiber   \n",
       "4       3    476                  3_sewer_manhole_manholes_sanitary   \n",
       "..    ...    ...                                                ...   \n",
       "65     64     53  64_geotextile_stabilization_soil stabilization...   \n",
       "66     65     52   65_guardrail_repairs_guiderail_guardrail repairs   \n",
       "67     66     51  66_vep_value engineering_engineering proposal_...   \n",
       "68     67     50      67_hurricane_debris_matthew_hurricane matthew   \n",
       "69     68     50                       68_drilled_casing_pier_piers   \n",
       "\n",
       "                                       Representation  \\\n",
       "0   [asphalt, pipe, drainage, design, course, stru...   \n",
       "1   [marking, pavement marking, pavement, markings...   \n",
       "2   [water, waterline, water line, valve, relocati...   \n",
       "3   [signal, conduit, cable, fiber, cabinet, junct...   \n",
       "4   [sewer, manhole, manholes, sanitary, boxes, sa...   \n",
       "..                                                ...   \n",
       "65  [geotextile, stabilization, soil stabilization...   \n",
       "66  [guardrail, repairs, guiderail, guardrail repa...   \n",
       "67  [vep, value engineering, engineering proposal,...   \n",
       "68  [hurricane, debris, matthew, hurricane matthew...   \n",
       "69  [drilled, casing, pier, piers, permanent steel...   \n",
       "\n",
       "                                  Representative_Docs  \n",
       "0   [(Southern Paving Limits Extension). (Southern...  \n",
       "1   [6\" and 12\" THERMOPLASTIC PAVEMENT MARKING LIN...  \n",
       "2   [6 WATER LINE TO 8 WATER LINE ADJUSTMENT -. 6 ...  \n",
       "3   [FIBER OPTIC, RADIO INSTALLATION, ETHERNET CAB...  \n",
       "4   [SANITARY SEWER CLEANOUT, ADJUSTMENT OF METER/...  \n",
       "..                                                ...  \n",
       "65  [Geotextile for Soil Stabilization, Type 5 and...  \n",
       "66  [(Guardrail Repairs). (Guardrail Repairs)  Thi...  \n",
       "67  [Value Engineering Proposal (VEP).. Value Engi...  \n",
       "68  [Perform Hurricane Matthew repair work for str...  \n",
       "69  [Permanent Steel Casing for 3-0 Dia. Drilled P...  \n",
       "\n",
       "[70 rows x 5 columns]"
      ]
     },
     "execution_count": 58,
     "metadata": {},
     "output_type": "execute_result"
    }
   ],
   "source": [
    "topic_model.get_topic_info()"
   ]
  },
  {
   "cell_type": "markdown",
   "id": "e0004d8e",
   "metadata": {},
   "source": [
    "# supervised"
   ]
  },
  {
   "cell_type": "code",
   "execution_count": 34,
   "id": "6517e78a",
   "metadata": {},
   "outputs": [
    {
     "name": "stderr",
     "output_type": "stream",
     "text": [
      "2025-05-20 13:48:47,753 - BERTopic - Dimensionality - Fitting the dimensionality reduction algorithm\n",
      "2025-05-20 13:48:47,754 - BERTopic - Dimensionality - Completed ✓\n",
      "2025-05-20 13:48:47,789 - BERTopic - Cluster - Start clustering the reduced embeddings\n",
      "2025-05-20 13:48:48,606 - BERTopic - Cluster - Completed ✓\n",
      "2025-05-20 13:48:48,612 - BERTopic - Representation - Fine-tuning topics using representation models.\n",
      "2025-05-20 13:48:51,768 - BERTopic - Representation - Completed ✓\n"
     ]
    }
   ],
   "source": [
    "from bertopic import BERTopic\n",
    "from bertopic.vectorizers import ClassTfidfTransformer\n",
    "from sklearn.feature_extraction.text import CountVectorizer\n",
    "from bertopic.representation import KeyBERTInspired,MaximalMarginalRelevance\n",
    "\n",
    "from bertopic import BERTopic\n",
    "from bertopic.vectorizers import ClassTfidfTransformer\n",
    "from bertopic.dimensionality import BaseDimensionalityReduction\n",
    "from sklearn.linear_model import LogisticRegression\n",
    "mmr=MaximalMarginalRelevance(diversity=0.3)\n",
    "representation_model = [mmr]\n",
    "\n",
    "# Skip over dimensionality reduction, replace cluster model with classifier,\n",
    "# and reduce frequent words while we are at it.\n",
    "empty_dimensionality_model = BaseDimensionalityReduction()\n",
    "clf = LogisticRegression()\n",
    "ctfidf_model = ClassTfidfTransformer(reduce_frequent_words=True)\n",
    "\n",
    "# Use the representation model in BERTopic on top of the default pipeline\n",
    "topic_model = BERTopic(embedding_model=embedding_model, \n",
    "                       umap_model=empty_dimensionality_model,                   \n",
    "                       hdbscan_model=clf, \n",
    "                       vectorizer_model=vectorizer_model,                       \n",
    "                       ctfidf_model=ctfidf_model,\n",
    "                       representation_model=representation_model,\n",
    "                       n_gram_range=(1,2),\n",
    "                       verbose=True)\n",
    "topics, probs = topic_model.fit_transform(sentences, embeddings, y=labels)\n"
   ]
  },
  {
   "cell_type": "code",
   "execution_count": 35,
   "id": "ba38f3d6",
   "metadata": {},
   "outputs": [
    {
     "data": {
      "text/html": [
       "<div>\n",
       "<style scoped>\n",
       "    .dataframe tbody tr th:only-of-type {\n",
       "        vertical-align: middle;\n",
       "    }\n",
       "\n",
       "    .dataframe tbody tr th {\n",
       "        vertical-align: top;\n",
       "    }\n",
       "\n",
       "    .dataframe thead th {\n",
       "        text-align: right;\n",
       "    }\n",
       "</style>\n",
       "<table border=\"1\" class=\"dataframe\">\n",
       "  <thead>\n",
       "    <tr style=\"text-align: right;\">\n",
       "      <th></th>\n",
       "      <th>Topic</th>\n",
       "      <th>Count</th>\n",
       "      <th>Name</th>\n",
       "      <th>Representation</th>\n",
       "      <th>Representative_Docs</th>\n",
       "    </tr>\n",
       "  </thead>\n",
       "  <tbody>\n",
       "    <tr>\n",
       "      <th>0</th>\n",
       "      <td>-1</td>\n",
       "      <td>579</td>\n",
       "      <td>-1_cost escalation_escalation adjustment_mater...</td>\n",
       "      <td>[cost escalation, escalation adjustment, mater...</td>\n",
       "      <td>[time_limited Material Cost Escalation Adjustm...</td>\n",
       "    </tr>\n",
       "    <tr>\n",
       "      <th>1</th>\n",
       "      <td>0</td>\n",
       "      <td>11751</td>\n",
       "      <td>0_driveway_marking lines_asbestos_repairs</td>\n",
       "      <td>[driveway, marking lines, asbestos, repairs, t...</td>\n",
       "      <td>[Shoulder Reconstruction, ASB, and Utility Adj...</td>\n",
       "    </tr>\n",
       "    <tr>\n",
       "      <th>2</th>\n",
       "      <td>1</td>\n",
       "      <td>2579</td>\n",
       "      <td>1_snowplowable pavement_cast iron_compliant_ma...</td>\n",
       "      <td>[snowplowable pavement, cast iron, compliant, ...</td>\n",
       "      <td>[Asphalt Mix Consolidation-. Asphalt Mix Conso...</td>\n",
       "    </tr>\n",
       "    <tr>\n",
       "      <th>3</th>\n",
       "      <td>2</td>\n",
       "      <td>291</td>\n",
       "      <td>2_minor contract_overrun minor_price overrun_i...</td>\n",
       "      <td>[minor contract, overrun minor, price overrun,...</td>\n",
       "      <td>[LAW ENFORCEMENT INCREASE IN UNIT PRICE -. LAW...</td>\n",
       "    </tr>\n",
       "  </tbody>\n",
       "</table>\n",
       "</div>"
      ],
      "text/plain": [
       "   Topic  Count                                               Name  \\\n",
       "0     -1    579  -1_cost escalation_escalation adjustment_mater...   \n",
       "1      0  11751          0_driveway_marking lines_asbestos_repairs   \n",
       "2      1   2579  1_snowplowable pavement_cast iron_compliant_ma...   \n",
       "3      2    291  2_minor contract_overrun minor_price overrun_i...   \n",
       "\n",
       "                                      Representation  \\\n",
       "0  [cost escalation, escalation adjustment, mater...   \n",
       "1  [driveway, marking lines, asbestos, repairs, t...   \n",
       "2  [snowplowable pavement, cast iron, compliant, ...   \n",
       "3  [minor contract, overrun minor, price overrun,...   \n",
       "\n",
       "                                 Representative_Docs  \n",
       "0  [time_limited Material Cost Escalation Adjustm...  \n",
       "1  [Shoulder Reconstruction, ASB, and Utility Adj...  \n",
       "2  [Asphalt Mix Consolidation-. Asphalt Mix Conso...  \n",
       "3  [LAW ENFORCEMENT INCREASE IN UNIT PRICE -. LAW...  "
      ]
     },
     "execution_count": 35,
     "metadata": {},
     "output_type": "execute_result"
    }
   ],
   "source": [
    "topic_model.get_topic_info()"
   ]
  },
  {
   "cell_type": "code",
   "execution_count": 36,
   "id": "718c49d3",
   "metadata": {},
   "outputs": [
    {
     "data": {
      "text/plain": [
       "0                                        Extra Work\n",
       "1    Alteration of plans or Details of Construction\n",
       "2                                               NaN\n",
       "3     Overruns and Underruns of Contract Quantities\n",
       "dtype: object"
      ]
     },
     "execution_count": 36,
     "metadata": {},
     "output_type": "execute_result"
    }
   ],
   "source": [
    "unique_vals"
   ]
  },
  {
   "cell_type": "markdown",
   "id": "c72cb979",
   "metadata": {},
   "source": [
    "# Zero-shot topic modeling"
   ]
  },
  {
   "cell_type": "code",
   "execution_count": 88,
   "id": "c1e7b68f",
   "metadata": {},
   "outputs": [
    {
     "name": "stderr",
     "output_type": "stream",
     "text": [
      "2025-05-20 14:08:52,732 - BERTopic - Dimensionality - Fitting the dimensionality reduction algorithm\n",
      "2025-05-20 14:09:02,747 - BERTopic - Dimensionality - Completed ✓\n",
      "2025-05-20 14:09:02,748 - BERTopic - Zeroshot Step 1 - Finding documents that could be assigned to either one of the zero-shot topics\n",
      "2025-05-20 14:09:02,800 - BERTopic - Zeroshot Step 1 - Completed ✓\n",
      "2025-05-20 14:09:02,830 - BERTopic - Cluster - Start clustering the reduced embeddings\n",
      "2025-05-20 14:09:03,127 - BERTopic - Cluster - Completed ✓\n",
      "2025-05-20 14:09:03,128 - BERTopic - Representation - Extracting topics using c-TF-IDF for topic reduction.\n",
      "2025-05-20 14:09:05,545 - BERTopic - Representation - Completed ✓\n",
      "2025-05-20 14:09:05,545 - BERTopic - Topic reduction - Reducing number of topics\n",
      "2025-05-20 14:09:05,581 - BERTopic - Representation - Fine-tuning topics using representation models.\n",
      "2025-05-20 14:09:15,458 - BERTopic - Representation - Completed ✓\n",
      "2025-05-20 14:09:15,458 - BERTopic - Topic reduction - Reduced number of topics from 70 to 25\n"
     ]
    }
   ],
   "source": [
    "# Create your representation model\n",
    "mmr=MaximalMarginalRelevance(diversity=0.3)\n",
    "keybert=KeyBERTInspired()\n",
    "representation_model = [keybert]\n",
    "\n",
    "# We define a number of topics that we know are in the documents\n",
    "zeroshot_topic_list = ['Extra Work','Altered Work','Material Escalation','Settlement and Release Agreement','Weather','Overrun','Over/Under Runs','Plan Error','Material Shortage','Termination of Contract']\n",
    "# Convert all items to lowercase\n",
    "zeroshot_topic_list = [item.lower() for item in zeroshot_topic_list]\n",
    "\n",
    "ctfidf_model = ClassTfidfTransformer(\n",
    "    seed_words=[\"weather\", \"escalation\", \"extra\", \"altered\", \"shortage\",\"settlement\",\"release\",\"error\",\"termination\",\"over_run\",\"overrun\",\"under_run\",\"underrun\"],\n",
    "    seed_multiplier=2\n",
    ")\n",
    "\n",
    "# cra_sa_agg['sa_mod_desc'].tolist()\n",
    "\n",
    "# Use the representation model in BERTopic on top of the default pipeline\n",
    "topic_model = BERTopic(embedding_model=embedding_model, \n",
    "                       umap_model=umap_model,                   \n",
    "                       hdbscan_model=hdbscan_model, \n",
    "                       vectorizer_model=vectorizer_model,                       \n",
    "                       representation_model=representation_model,\n",
    "                       zeroshot_topic_list=zeroshot_topic_list,\n",
    "                       zeroshot_min_similarity=.90,                       \n",
    "                       ctfidf_model = ctfidf_model,\n",
    "                       nr_topics=25,\n",
    "                       verbose=True)\n",
    "topics, probs = topic_model.fit_transform(sentences, embeddings)\n"
   ]
  },
  {
   "cell_type": "code",
   "execution_count": 89,
   "id": "7a51bd78",
   "metadata": {},
   "outputs": [
    {
     "data": {
      "application/vnd.plotly.v1+json": {
       "config": {
        "plotlyServerURL": "https://plot.ly"
       },
       "data": [
        {
         "marker": {
          "color": "#D55E00"
         },
         "orientation": "h",
         "type": "bar",
         "x": [
          0.48621755838394165,
          0.48852795362472534,
          0.5094093680381775,
          0.5491733551025391,
          0.5513376593589783
         ],
         "xaxis": "x",
         "y": [
          "concrete pavement  ",
          "unclassified excavation  ",
          "asphalt concrete  ",
          "existing pavement  ",
          "pavement repair  "
         ],
         "yaxis": "y"
        },
        {
         "marker": {
          "color": "#0072B2"
         },
         "orientation": "h",
         "type": "bar",
         "x": [
          0.4965733289718628,
          0.5162907242774963,
          0.5187910795211792,
          0.5723320245742798,
          0.5994641184806824
         ],
         "xaxis": "x2",
         "y": [
          "gravity sewer  ",
          "sanitary sewer  ",
          "main sewer  ",
          "sewer service  ",
          "sewer line  "
         ],
         "yaxis": "y2"
        },
        {
         "marker": {
          "color": "#CC79A7"
         },
         "orientation": "h",
         "type": "bar",
         "x": [
          0.5454574823379517,
          0.5861074924468994,
          0.5920073390007019,
          0.6323997378349304,
          0.6510426998138428
         ],
         "xaxis": "x3",
         "y": [
          "markings lines  ",
          "pavement marker  ",
          "pavement markers  ",
          "pavement marking  ",
          "pavement markings  "
         ],
         "yaxis": "y3"
        },
        {
         "marker": {
          "color": "#E69F00"
         },
         "orientation": "h",
         "type": "bar",
         "x": [
          0.6124888062477112,
          0.6313513517379761,
          0.635326623916626,
          0.6357743740081787,
          0.6450730562210083
         ],
         "xaxis": "x4",
         "y": [
          "guardrail mash  ",
          "existing guardrail  ",
          "mash guardrail  ",
          "compliant guardrail  ",
          "additional guardrail  "
         ],
         "yaxis": "y4"
        },
        {
         "marker": {
          "color": "#56B4E9"
         },
         "orientation": "h",
         "type": "bar",
         "x": [
          0.47517549991607666,
          0.4989272952079773,
          0.5013360977172852,
          0.5428420305252075,
          0.5767536759376526
         ],
         "xaxis": "x5",
         "y": [
          "reinforcing steel  ",
          "concrete deck  ",
          "deck repair  ",
          "repair bridge  ",
          "bridge deck  "
         ],
         "yaxis": "y5"
        },
        {
         "marker": {
          "color": "#009E73"
         },
         "orientation": "h",
         "type": "bar",
         "x": [
          0.42807063460350037,
          0.475163996219635,
          0.48991209268569946,
          0.5240386724472046,
          0.5505797863006592
         ],
         "xaxis": "x6",
         "y": [
          "adjustment paid  ",
          "material costs  ",
          "escalation adjustment  ",
          "material escalation  ",
          "cost escalation  "
         ],
         "yaxis": "y6"
        },
        {
         "marker": {
          "color": "#F0E442"
         },
         "orientation": "h",
         "type": "bar",
         "x": [
          0.5725492835044861,
          0.585657000541687,
          0.6131287813186646,
          0.6251403093338013,
          0.6526536345481873
         ],
         "xaxis": "x7",
         "y": [
          "mounted signs  ",
          "message signs  ",
          "changeable message  ",
          "message sign  ",
          "signs portable  "
         ],
         "yaxis": "y7"
        },
        {
         "marker": {
          "color": "#D55E00"
         },
         "orientation": "h",
         "type": "bar",
         "x": [
          0.43690916895866394,
          0.5363404154777527,
          0.5602601766586304,
          0.5760903358459473,
          0.6225285530090332
         ],
         "xaxis": "x8",
         "y": [
          "erosion  ",
          "response erosion  ",
          "additional erosion  ",
          "matting erosion  ",
          "erosion control  "
         ],
         "yaxis": "y8"
        },
        {
         "marker": {
          "color": "#0072B2"
         },
         "orientation": "h",
         "type": "bar",
         "x": [
          0.45179104804992676,
          0.46307602524757385,
          0.5008550882339478,
          0.6104679703712463,
          0.6280860900878906
         ],
         "xaxis": "x9",
         "y": [
          "barrier rail  ",
          "barrier wall  ",
          "barrier anchored  ",
          "portable concrete  ",
          "concrete barrier  "
         ],
         "yaxis": "y9"
        },
        {
         "marker": {
          "color": "#CC79A7"
         },
         "orientation": "h",
         "type": "bar",
         "x": [
          0.650477409362793,
          0.6562188267707825,
          0.6698910593986511,
          0.7442020177841187,
          0.7612377405166626
         ],
         "xaxis": "x10",
         "y": [
          "contract milling  ",
          "milling required  ",
          "milling contract  ",
          "milling incidental  ",
          "incidental milling  "
         ],
         "yaxis": "y10"
        }
       ],
       "layout": {
        "annotations": [
         {
          "font": {
           "size": 16
          },
          "showarrow": false,
          "text": "Topic 0",
          "x": 0.0875,
          "xanchor": "center",
          "xref": "paper",
          "y": 1,
          "yanchor": "bottom",
          "yref": "paper"
         },
         {
          "font": {
           "size": 16
          },
          "showarrow": false,
          "text": "Topic 1",
          "x": 0.36250000000000004,
          "xanchor": "center",
          "xref": "paper",
          "y": 1,
          "yanchor": "bottom",
          "yref": "paper"
         },
         {
          "font": {
           "size": 16
          },
          "showarrow": false,
          "text": "Topic 2",
          "x": 0.6375000000000001,
          "xanchor": "center",
          "xref": "paper",
          "y": 1,
          "yanchor": "bottom",
          "yref": "paper"
         },
         {
          "font": {
           "size": 16
          },
          "showarrow": false,
          "text": "Topic 3",
          "x": 0.9125,
          "xanchor": "center",
          "xref": "paper",
          "y": 1,
          "yanchor": "bottom",
          "yref": "paper"
         },
         {
          "font": {
           "size": 16
          },
          "showarrow": false,
          "text": "Topic 4",
          "x": 0.0875,
          "xanchor": "center",
          "xref": "paper",
          "y": 0.6222222222222222,
          "yanchor": "bottom",
          "yref": "paper"
         },
         {
          "font": {
           "size": 16
          },
          "showarrow": false,
          "text": "Topic 5",
          "x": 0.36250000000000004,
          "xanchor": "center",
          "xref": "paper",
          "y": 0.6222222222222222,
          "yanchor": "bottom",
          "yref": "paper"
         },
         {
          "font": {
           "size": 16
          },
          "showarrow": false,
          "text": "Topic 6",
          "x": 0.6375000000000001,
          "xanchor": "center",
          "xref": "paper",
          "y": 0.6222222222222222,
          "yanchor": "bottom",
          "yref": "paper"
         },
         {
          "font": {
           "size": 16
          },
          "showarrow": false,
          "text": "Topic 7",
          "x": 0.9125,
          "xanchor": "center",
          "xref": "paper",
          "y": 0.6222222222222222,
          "yanchor": "bottom",
          "yref": "paper"
         },
         {
          "font": {
           "size": 16
          },
          "showarrow": false,
          "text": "Topic 8",
          "x": 0.0875,
          "xanchor": "center",
          "xref": "paper",
          "y": 0.24444444444444446,
          "yanchor": "bottom",
          "yref": "paper"
         },
         {
          "font": {
           "size": 16
          },
          "showarrow": false,
          "text": "Topic 9",
          "x": 0.36250000000000004,
          "xanchor": "center",
          "xref": "paper",
          "y": 0.24444444444444446,
          "yanchor": "bottom",
          "yref": "paper"
         }
        ],
        "height": 750,
        "hoverlabel": {
         "bgcolor": "white",
         "font": {
          "family": "Rockwell",
          "size": 16
         }
        },
        "showlegend": false,
        "template": {
         "data": {
          "bar": [
           {
            "error_x": {
             "color": "#2a3f5f"
            },
            "error_y": {
             "color": "#2a3f5f"
            },
            "marker": {
             "line": {
              "color": "white",
              "width": 0.5
             },
             "pattern": {
              "fillmode": "overlay",
              "size": 10,
              "solidity": 0.2
             }
            },
            "type": "bar"
           }
          ],
          "barpolar": [
           {
            "marker": {
             "line": {
              "color": "white",
              "width": 0.5
             },
             "pattern": {
              "fillmode": "overlay",
              "size": 10,
              "solidity": 0.2
             }
            },
            "type": "barpolar"
           }
          ],
          "carpet": [
           {
            "aaxis": {
             "endlinecolor": "#2a3f5f",
             "gridcolor": "#C8D4E3",
             "linecolor": "#C8D4E3",
             "minorgridcolor": "#C8D4E3",
             "startlinecolor": "#2a3f5f"
            },
            "baxis": {
             "endlinecolor": "#2a3f5f",
             "gridcolor": "#C8D4E3",
             "linecolor": "#C8D4E3",
             "minorgridcolor": "#C8D4E3",
             "startlinecolor": "#2a3f5f"
            },
            "type": "carpet"
           }
          ],
          "choropleth": [
           {
            "colorbar": {
             "outlinewidth": 0,
             "ticks": ""
            },
            "type": "choropleth"
           }
          ],
          "contour": [
           {
            "colorbar": {
             "outlinewidth": 0,
             "ticks": ""
            },
            "colorscale": [
             [
              0,
              "#0d0887"
             ],
             [
              0.1111111111111111,
              "#46039f"
             ],
             [
              0.2222222222222222,
              "#7201a8"
             ],
             [
              0.3333333333333333,
              "#9c179e"
             ],
             [
              0.4444444444444444,
              "#bd3786"
             ],
             [
              0.5555555555555556,
              "#d8576b"
             ],
             [
              0.6666666666666666,
              "#ed7953"
             ],
             [
              0.7777777777777778,
              "#fb9f3a"
             ],
             [
              0.8888888888888888,
              "#fdca26"
             ],
             [
              1,
              "#f0f921"
             ]
            ],
            "type": "contour"
           }
          ],
          "contourcarpet": [
           {
            "colorbar": {
             "outlinewidth": 0,
             "ticks": ""
            },
            "type": "contourcarpet"
           }
          ],
          "heatmap": [
           {
            "colorbar": {
             "outlinewidth": 0,
             "ticks": ""
            },
            "colorscale": [
             [
              0,
              "#0d0887"
             ],
             [
              0.1111111111111111,
              "#46039f"
             ],
             [
              0.2222222222222222,
              "#7201a8"
             ],
             [
              0.3333333333333333,
              "#9c179e"
             ],
             [
              0.4444444444444444,
              "#bd3786"
             ],
             [
              0.5555555555555556,
              "#d8576b"
             ],
             [
              0.6666666666666666,
              "#ed7953"
             ],
             [
              0.7777777777777778,
              "#fb9f3a"
             ],
             [
              0.8888888888888888,
              "#fdca26"
             ],
             [
              1,
              "#f0f921"
             ]
            ],
            "type": "heatmap"
           }
          ],
          "histogram": [
           {
            "marker": {
             "pattern": {
              "fillmode": "overlay",
              "size": 10,
              "solidity": 0.2
             }
            },
            "type": "histogram"
           }
          ],
          "histogram2d": [
           {
            "colorbar": {
             "outlinewidth": 0,
             "ticks": ""
            },
            "colorscale": [
             [
              0,
              "#0d0887"
             ],
             [
              0.1111111111111111,
              "#46039f"
             ],
             [
              0.2222222222222222,
              "#7201a8"
             ],
             [
              0.3333333333333333,
              "#9c179e"
             ],
             [
              0.4444444444444444,
              "#bd3786"
             ],
             [
              0.5555555555555556,
              "#d8576b"
             ],
             [
              0.6666666666666666,
              "#ed7953"
             ],
             [
              0.7777777777777778,
              "#fb9f3a"
             ],
             [
              0.8888888888888888,
              "#fdca26"
             ],
             [
              1,
              "#f0f921"
             ]
            ],
            "type": "histogram2d"
           }
          ],
          "histogram2dcontour": [
           {
            "colorbar": {
             "outlinewidth": 0,
             "ticks": ""
            },
            "colorscale": [
             [
              0,
              "#0d0887"
             ],
             [
              0.1111111111111111,
              "#46039f"
             ],
             [
              0.2222222222222222,
              "#7201a8"
             ],
             [
              0.3333333333333333,
              "#9c179e"
             ],
             [
              0.4444444444444444,
              "#bd3786"
             ],
             [
              0.5555555555555556,
              "#d8576b"
             ],
             [
              0.6666666666666666,
              "#ed7953"
             ],
             [
              0.7777777777777778,
              "#fb9f3a"
             ],
             [
              0.8888888888888888,
              "#fdca26"
             ],
             [
              1,
              "#f0f921"
             ]
            ],
            "type": "histogram2dcontour"
           }
          ],
          "mesh3d": [
           {
            "colorbar": {
             "outlinewidth": 0,
             "ticks": ""
            },
            "type": "mesh3d"
           }
          ],
          "parcoords": [
           {
            "line": {
             "colorbar": {
              "outlinewidth": 0,
              "ticks": ""
             }
            },
            "type": "parcoords"
           }
          ],
          "pie": [
           {
            "automargin": true,
            "type": "pie"
           }
          ],
          "scatter": [
           {
            "fillpattern": {
             "fillmode": "overlay",
             "size": 10,
             "solidity": 0.2
            },
            "type": "scatter"
           }
          ],
          "scatter3d": [
           {
            "line": {
             "colorbar": {
              "outlinewidth": 0,
              "ticks": ""
             }
            },
            "marker": {
             "colorbar": {
              "outlinewidth": 0,
              "ticks": ""
             }
            },
            "type": "scatter3d"
           }
          ],
          "scattercarpet": [
           {
            "marker": {
             "colorbar": {
              "outlinewidth": 0,
              "ticks": ""
             }
            },
            "type": "scattercarpet"
           }
          ],
          "scattergeo": [
           {
            "marker": {
             "colorbar": {
              "outlinewidth": 0,
              "ticks": ""
             }
            },
            "type": "scattergeo"
           }
          ],
          "scattergl": [
           {
            "marker": {
             "colorbar": {
              "outlinewidth": 0,
              "ticks": ""
             }
            },
            "type": "scattergl"
           }
          ],
          "scattermap": [
           {
            "marker": {
             "colorbar": {
              "outlinewidth": 0,
              "ticks": ""
             }
            },
            "type": "scattermap"
           }
          ],
          "scattermapbox": [
           {
            "marker": {
             "colorbar": {
              "outlinewidth": 0,
              "ticks": ""
             }
            },
            "type": "scattermapbox"
           }
          ],
          "scatterpolar": [
           {
            "marker": {
             "colorbar": {
              "outlinewidth": 0,
              "ticks": ""
             }
            },
            "type": "scatterpolar"
           }
          ],
          "scatterpolargl": [
           {
            "marker": {
             "colorbar": {
              "outlinewidth": 0,
              "ticks": ""
             }
            },
            "type": "scatterpolargl"
           }
          ],
          "scatterternary": [
           {
            "marker": {
             "colorbar": {
              "outlinewidth": 0,
              "ticks": ""
             }
            },
            "type": "scatterternary"
           }
          ],
          "surface": [
           {
            "colorbar": {
             "outlinewidth": 0,
             "ticks": ""
            },
            "colorscale": [
             [
              0,
              "#0d0887"
             ],
             [
              0.1111111111111111,
              "#46039f"
             ],
             [
              0.2222222222222222,
              "#7201a8"
             ],
             [
              0.3333333333333333,
              "#9c179e"
             ],
             [
              0.4444444444444444,
              "#bd3786"
             ],
             [
              0.5555555555555556,
              "#d8576b"
             ],
             [
              0.6666666666666666,
              "#ed7953"
             ],
             [
              0.7777777777777778,
              "#fb9f3a"
             ],
             [
              0.8888888888888888,
              "#fdca26"
             ],
             [
              1,
              "#f0f921"
             ]
            ],
            "type": "surface"
           }
          ],
          "table": [
           {
            "cells": {
             "fill": {
              "color": "#EBF0F8"
             },
             "line": {
              "color": "white"
             }
            },
            "header": {
             "fill": {
              "color": "#C8D4E3"
             },
             "line": {
              "color": "white"
             }
            },
            "type": "table"
           }
          ]
         },
         "layout": {
          "annotationdefaults": {
           "arrowcolor": "#2a3f5f",
           "arrowhead": 0,
           "arrowwidth": 1
          },
          "autotypenumbers": "strict",
          "coloraxis": {
           "colorbar": {
            "outlinewidth": 0,
            "ticks": ""
           }
          },
          "colorscale": {
           "diverging": [
            [
             0,
             "#8e0152"
            ],
            [
             0.1,
             "#c51b7d"
            ],
            [
             0.2,
             "#de77ae"
            ],
            [
             0.3,
             "#f1b6da"
            ],
            [
             0.4,
             "#fde0ef"
            ],
            [
             0.5,
             "#f7f7f7"
            ],
            [
             0.6,
             "#e6f5d0"
            ],
            [
             0.7,
             "#b8e186"
            ],
            [
             0.8,
             "#7fbc41"
            ],
            [
             0.9,
             "#4d9221"
            ],
            [
             1,
             "#276419"
            ]
           ],
           "sequential": [
            [
             0,
             "#0d0887"
            ],
            [
             0.1111111111111111,
             "#46039f"
            ],
            [
             0.2222222222222222,
             "#7201a8"
            ],
            [
             0.3333333333333333,
             "#9c179e"
            ],
            [
             0.4444444444444444,
             "#bd3786"
            ],
            [
             0.5555555555555556,
             "#d8576b"
            ],
            [
             0.6666666666666666,
             "#ed7953"
            ],
            [
             0.7777777777777778,
             "#fb9f3a"
            ],
            [
             0.8888888888888888,
             "#fdca26"
            ],
            [
             1,
             "#f0f921"
            ]
           ],
           "sequentialminus": [
            [
             0,
             "#0d0887"
            ],
            [
             0.1111111111111111,
             "#46039f"
            ],
            [
             0.2222222222222222,
             "#7201a8"
            ],
            [
             0.3333333333333333,
             "#9c179e"
            ],
            [
             0.4444444444444444,
             "#bd3786"
            ],
            [
             0.5555555555555556,
             "#d8576b"
            ],
            [
             0.6666666666666666,
             "#ed7953"
            ],
            [
             0.7777777777777778,
             "#fb9f3a"
            ],
            [
             0.8888888888888888,
             "#fdca26"
            ],
            [
             1,
             "#f0f921"
            ]
           ]
          },
          "colorway": [
           "#636efa",
           "#EF553B",
           "#00cc96",
           "#ab63fa",
           "#FFA15A",
           "#19d3f3",
           "#FF6692",
           "#B6E880",
           "#FF97FF",
           "#FECB52"
          ],
          "font": {
           "color": "#2a3f5f"
          },
          "geo": {
           "bgcolor": "white",
           "lakecolor": "white",
           "landcolor": "white",
           "showlakes": true,
           "showland": true,
           "subunitcolor": "#C8D4E3"
          },
          "hoverlabel": {
           "align": "left"
          },
          "hovermode": "closest",
          "mapbox": {
           "style": "light"
          },
          "paper_bgcolor": "white",
          "plot_bgcolor": "white",
          "polar": {
           "angularaxis": {
            "gridcolor": "#EBF0F8",
            "linecolor": "#EBF0F8",
            "ticks": ""
           },
           "bgcolor": "white",
           "radialaxis": {
            "gridcolor": "#EBF0F8",
            "linecolor": "#EBF0F8",
            "ticks": ""
           }
          },
          "scene": {
           "xaxis": {
            "backgroundcolor": "white",
            "gridcolor": "#DFE8F3",
            "gridwidth": 2,
            "linecolor": "#EBF0F8",
            "showbackground": true,
            "ticks": "",
            "zerolinecolor": "#EBF0F8"
           },
           "yaxis": {
            "backgroundcolor": "white",
            "gridcolor": "#DFE8F3",
            "gridwidth": 2,
            "linecolor": "#EBF0F8",
            "showbackground": true,
            "ticks": "",
            "zerolinecolor": "#EBF0F8"
           },
           "zaxis": {
            "backgroundcolor": "white",
            "gridcolor": "#DFE8F3",
            "gridwidth": 2,
            "linecolor": "#EBF0F8",
            "showbackground": true,
            "ticks": "",
            "zerolinecolor": "#EBF0F8"
           }
          },
          "shapedefaults": {
           "line": {
            "color": "#2a3f5f"
           }
          },
          "ternary": {
           "aaxis": {
            "gridcolor": "#DFE8F3",
            "linecolor": "#A2B1C6",
            "ticks": ""
           },
           "baxis": {
            "gridcolor": "#DFE8F3",
            "linecolor": "#A2B1C6",
            "ticks": ""
           },
           "bgcolor": "white",
           "caxis": {
            "gridcolor": "#DFE8F3",
            "linecolor": "#A2B1C6",
            "ticks": ""
           }
          },
          "title": {
           "x": 0.05
          },
          "xaxis": {
           "automargin": true,
           "gridcolor": "#EBF0F8",
           "linecolor": "#EBF0F8",
           "ticks": "",
           "title": {
            "standoff": 15
           },
           "zerolinecolor": "#EBF0F8",
           "zerolinewidth": 2
          },
          "yaxis": {
           "automargin": true,
           "gridcolor": "#EBF0F8",
           "linecolor": "#EBF0F8",
           "ticks": "",
           "title": {
            "standoff": 15
           },
           "zerolinecolor": "#EBF0F8",
           "zerolinewidth": 2
          }
         }
        },
        "title": {
         "font": {
          "color": "Black",
          "size": 22
         },
         "text": "Topic Word Scores",
         "x": 0.5,
         "xanchor": "center",
         "yanchor": "top"
        },
        "width": 1000,
        "xaxis": {
         "anchor": "y",
         "domain": [
          0,
          0.175
         ],
         "showgrid": true
        },
        "xaxis10": {
         "anchor": "y10",
         "domain": [
          0.275,
          0.45
         ],
         "showgrid": true
        },
        "xaxis11": {
         "anchor": "y11",
         "domain": [
          0.55,
          0.7250000000000001
         ],
         "showgrid": true
        },
        "xaxis12": {
         "anchor": "y12",
         "domain": [
          0.825,
          1
         ],
         "showgrid": true
        },
        "xaxis2": {
         "anchor": "y2",
         "domain": [
          0.275,
          0.45
         ],
         "showgrid": true
        },
        "xaxis3": {
         "anchor": "y3",
         "domain": [
          0.55,
          0.7250000000000001
         ],
         "showgrid": true
        },
        "xaxis4": {
         "anchor": "y4",
         "domain": [
          0.825,
          1
         ],
         "showgrid": true
        },
        "xaxis5": {
         "anchor": "y5",
         "domain": [
          0,
          0.175
         ],
         "showgrid": true
        },
        "xaxis6": {
         "anchor": "y6",
         "domain": [
          0.275,
          0.45
         ],
         "showgrid": true
        },
        "xaxis7": {
         "anchor": "y7",
         "domain": [
          0.55,
          0.7250000000000001
         ],
         "showgrid": true
        },
        "xaxis8": {
         "anchor": "y8",
         "domain": [
          0.825,
          1
         ],
         "showgrid": true
        },
        "xaxis9": {
         "anchor": "y9",
         "domain": [
          0,
          0.175
         ],
         "showgrid": true
        },
        "yaxis": {
         "anchor": "x",
         "domain": [
          0.7555555555555555,
          1
         ],
         "showgrid": true
        },
        "yaxis10": {
         "anchor": "x10",
         "domain": [
          0,
          0.24444444444444446
         ],
         "showgrid": true
        },
        "yaxis11": {
         "anchor": "x11",
         "domain": [
          0,
          0.24444444444444446
         ],
         "showgrid": true
        },
        "yaxis12": {
         "anchor": "x12",
         "domain": [
          0,
          0.24444444444444446
         ],
         "showgrid": true
        },
        "yaxis2": {
         "anchor": "x2",
         "domain": [
          0.7555555555555555,
          1
         ],
         "showgrid": true
        },
        "yaxis3": {
         "anchor": "x3",
         "domain": [
          0.7555555555555555,
          1
         ],
         "showgrid": true
        },
        "yaxis4": {
         "anchor": "x4",
         "domain": [
          0.7555555555555555,
          1
         ],
         "showgrid": true
        },
        "yaxis5": {
         "anchor": "x5",
         "domain": [
          0.37777777777777777,
          0.6222222222222222
         ],
         "showgrid": true
        },
        "yaxis6": {
         "anchor": "x6",
         "domain": [
          0.37777777777777777,
          0.6222222222222222
         ],
         "showgrid": true
        },
        "yaxis7": {
         "anchor": "x7",
         "domain": [
          0.37777777777777777,
          0.6222222222222222
         ],
         "showgrid": true
        },
        "yaxis8": {
         "anchor": "x8",
         "domain": [
          0.37777777777777777,
          0.6222222222222222
         ],
         "showgrid": true
        },
        "yaxis9": {
         "anchor": "x9",
         "domain": [
          0,
          0.24444444444444446
         ],
         "showgrid": true
        }
       }
      }
     },
     "metadata": {},
     "output_type": "display_data"
    }
   ],
   "source": [
    "# import nbformat\n",
    "topic_model.visualize_barchart(top_n_topics=10)"
   ]
  },
  {
   "cell_type": "code",
   "execution_count": 90,
   "id": "089b3d2d",
   "metadata": {},
   "outputs": [
    {
     "data": {
      "text/html": [
       "<div>\n",
       "<style scoped>\n",
       "    .dataframe tbody tr th:only-of-type {\n",
       "        vertical-align: middle;\n",
       "    }\n",
       "\n",
       "    .dataframe tbody tr th {\n",
       "        vertical-align: top;\n",
       "    }\n",
       "\n",
       "    .dataframe thead th {\n",
       "        text-align: right;\n",
       "    }\n",
       "</style>\n",
       "<table border=\"1\" class=\"dataframe\">\n",
       "  <thead>\n",
       "    <tr style=\"text-align: right;\">\n",
       "      <th></th>\n",
       "      <th>Topic</th>\n",
       "      <th>Count</th>\n",
       "      <th>Name</th>\n",
       "      <th>Representation</th>\n",
       "      <th>Representative_Docs</th>\n",
       "    </tr>\n",
       "  </thead>\n",
       "  <tbody>\n",
       "    <tr>\n",
       "      <th>0</th>\n",
       "      <td>-1</td>\n",
       "      <td>3658</td>\n",
       "      <td>-1_asphalt concrete_asphalt mix_paving_pavement</td>\n",
       "      <td>[asphalt concrete, asphalt mix, paving, paveme...</td>\n",
       "      <td>[(Southern Paving Limits Extension). (Southern...</td>\n",
       "    </tr>\n",
       "    <tr>\n",
       "      <th>1</th>\n",
       "      <td>0</td>\n",
       "      <td>3814</td>\n",
       "      <td>0_pavement repair_existing pavement_asphalt co...</td>\n",
       "      <td>[pavement repair, existing pavement, asphalt c...</td>\n",
       "      <td>[EXPLORATORY EXCAVATION. EXPLORATORY EXCAVATIO...</td>\n",
       "    </tr>\n",
       "    <tr>\n",
       "      <th>2</th>\n",
       "      <td>1</td>\n",
       "      <td>1949</td>\n",
       "      <td>1_sewer line_sewer service_main sewer_sanitary...</td>\n",
       "      <td>[sewer line, sewer service, main sewer, sanita...</td>\n",
       "      <td>[Re-installation of sewer line after settlemen...</td>\n",
       "    </tr>\n",
       "    <tr>\n",
       "      <th>3</th>\n",
       "      <td>2</td>\n",
       "      <td>1054</td>\n",
       "      <td>2_pavement markings_pavement marking_pavement ...</td>\n",
       "      <td>[pavement markings, pavement marking, pavement...</td>\n",
       "      <td>[Removal of Pavement Marking Lines, 4\"; Remova...</td>\n",
       "    </tr>\n",
       "    <tr>\n",
       "      <th>4</th>\n",
       "      <td>3</td>\n",
       "      <td>840</td>\n",
       "      <td>3_additional guardrail_compliant guardrail_mas...</td>\n",
       "      <td>[additional guardrail, compliant guardrail, ma...</td>\n",
       "      <td>[MASH COMPLIANT GUARDRAIL END UNITS -. MASH CO...</td>\n",
       "    </tr>\n",
       "    <tr>\n",
       "      <th>5</th>\n",
       "      <td>4</td>\n",
       "      <td>595</td>\n",
       "      <td>4_bridge deck_repair bridge_deck repair_concre...</td>\n",
       "      <td>[bridge deck, repair bridge, deck repair, conc...</td>\n",
       "      <td>[Bridge Joint / Deck Repairs -. Bridge Joint /...</td>\n",
       "    </tr>\n",
       "    <tr>\n",
       "      <th>6</th>\n",
       "      <td>5</td>\n",
       "      <td>501</td>\n",
       "      <td>5_cost escalation_material escalation_escalati...</td>\n",
       "      <td>[cost escalation, material escalation, escalat...</td>\n",
       "      <td>[time_limited Material Cost Escalation Adjustm...</td>\n",
       "    </tr>\n",
       "    <tr>\n",
       "      <th>7</th>\n",
       "      <td>6</td>\n",
       "      <td>422</td>\n",
       "      <td>6_signs portable_message sign_changeable messa...</td>\n",
       "      <td>[signs portable, message sign, changeable mess...</td>\n",
       "      <td>[PORTABLE CHANGEABLE MESSAGE SIGN. PORTABLE CH...</td>\n",
       "    </tr>\n",
       "    <tr>\n",
       "      <th>8</th>\n",
       "      <td>7</td>\n",
       "      <td>379</td>\n",
       "      <td>7_erosion control_matting erosion_additional e...</td>\n",
       "      <td>[erosion control, matting erosion, additional ...</td>\n",
       "      <td>[Matting For Erosion Control -. Matting For Er...</td>\n",
       "    </tr>\n",
       "    <tr>\n",
       "      <th>9</th>\n",
       "      <td>8</td>\n",
       "      <td>325</td>\n",
       "      <td>8_concrete barrier_portable concrete_barrier a...</td>\n",
       "      <td>[concrete barrier, portable concrete, barrier ...</td>\n",
       "      <td>[Portable Concrete Barrier -. Portable Concret...</td>\n",
       "    </tr>\n",
       "    <tr>\n",
       "      <th>10</th>\n",
       "      <td>9</td>\n",
       "      <td>234</td>\n",
       "      <td>9_incidental milling_milling incidental_millin...</td>\n",
       "      <td>[incidental milling, milling incidental, milli...</td>\n",
       "      <td>[INCIDENTAL MILLING -. INCIDENTAL MILLING - Th...</td>\n",
       "    </tr>\n",
       "    <tr>\n",
       "      <th>11</th>\n",
       "      <td>10</td>\n",
       "      <td>220</td>\n",
       "      <td>10_enforcement compensation_enforcement contra...</td>\n",
       "      <td>[enforcement compensation, enforcement contrac...</td>\n",
       "      <td>[Law Enforcement-. Law Enforcement- This suppl...</td>\n",
       "    </tr>\n",
       "    <tr>\n",
       "      <th>12</th>\n",
       "      <td>11</td>\n",
       "      <td>180</td>\n",
       "      <td>11_asbestos abatement_asbestos assessments_asb...</td>\n",
       "      <td>[asbestos abatement, asbestos assessments, asb...</td>\n",
       "      <td>[Structure #220034 Asbestos Abatement-. Struct...</td>\n",
       "    </tr>\n",
       "    <tr>\n",
       "      <th>13</th>\n",
       "      <td>12</td>\n",
       "      <td>136</td>\n",
       "      <td>12_construction lighting_portable lighting_lig...</td>\n",
       "      <td>[construction lighting, portable lighting, lig...</td>\n",
       "      <td>[Interchange Lighting - The interchange lighti...</td>\n",
       "    </tr>\n",
       "    <tr>\n",
       "      <th>14</th>\n",
       "      <td>13</td>\n",
       "      <td>120</td>\n",
       "      <td>13_coir fiber_wattle coir_fiber wattles_wattle...</td>\n",
       "      <td>[coir fiber, wattle coir, fiber wattles, wattl...</td>\n",
       "      <td>[COIR FIBER WATTLE:. COIR FIBER WATTLE: This s...</td>\n",
       "    </tr>\n",
       "    <tr>\n",
       "      <th>15</th>\n",
       "      <td>14</td>\n",
       "      <td>102</td>\n",
       "      <td>14_loop sawcut_inductive loop_inductive loops_...</td>\n",
       "      <td>[loop sawcut, inductive loop, inductive loops,...</td>\n",
       "      <td>[Inductive Loop Sawcut-. Inductive Loop Sawcut...</td>\n",
       "    </tr>\n",
       "    <tr>\n",
       "      <th>16</th>\n",
       "      <td>15</td>\n",
       "      <td>102</td>\n",
       "      <td>15_concrete islands_monolithic island_concrete...</td>\n",
       "      <td>[concrete islands, monolithic island, concrete...</td>\n",
       "      <td>[(5 Monolithic Concrete Island [Keyed In]). (5...</td>\n",
       "    </tr>\n",
       "    <tr>\n",
       "      <th>17</th>\n",
       "      <td>16</td>\n",
       "      <td>95</td>\n",
       "      <td>16_incidental stone_stone base_base incidental...</td>\n",
       "      <td>[incidental stone, stone base, base incidental...</td>\n",
       "      <td>[SA# 4  Incidental Stone Base:. SA# 4  Inciden...</td>\n",
       "    </tr>\n",
       "    <tr>\n",
       "      <th>18</th>\n",
       "      <td>17</td>\n",
       "      <td>90</td>\n",
       "      <td>17_supplemental flagging_additional flaggers_a...</td>\n",
       "      <td>[supplemental flagging, additional flaggers, a...</td>\n",
       "      <td>[SUPPLEMENTAL FLAGGING -. SUPPLEMENTAL FLAGGIN...</td>\n",
       "    </tr>\n",
       "    <tr>\n",
       "      <th>19</th>\n",
       "      <td>18</td>\n",
       "      <td>78</td>\n",
       "      <td>18_grate frame_frame grate_frame grates_grate ...</td>\n",
       "      <td>[grate frame, frame grate, frame grates, grate...</td>\n",
       "      <td>[BICYCLE FRAME AND GRATES -L-. BICYCLE FRAME A...</td>\n",
       "    </tr>\n",
       "    <tr>\n",
       "      <th>20</th>\n",
       "      <td>19</td>\n",
       "      <td>70</td>\n",
       "      <td>19_relocation hydrant_existing hydrant_hydrant...</td>\n",
       "      <td>[relocation hydrant, existing hydrant, hydrant...</td>\n",
       "      <td>[Fire Hydrant -. Fire Hydrant -The supplementa...</td>\n",
       "    </tr>\n",
       "    <tr>\n",
       "      <th>21</th>\n",
       "      <td>20</td>\n",
       "      <td>69</td>\n",
       "      <td>20_skimmer basin_skimmer basins_skimmer skimme...</td>\n",
       "      <td>[skimmer basin, skimmer basins, skimmer skimme...</td>\n",
       "      <td>[Skimmer (2):  The approved reclamation plan f...</td>\n",
       "    </tr>\n",
       "    <tr>\n",
       "      <th>22</th>\n",
       "      <td>21</td>\n",
       "      <td>63</td>\n",
       "      <td>21_rumble strips_rumble stripe_rumble strip_pa...</td>\n",
       "      <td>[rumble strips, rumble stripe, rumble strip, p...</td>\n",
       "      <td>[Sinusoidal Rumble Strips and 4 Inch Thermopla...</td>\n",
       "    </tr>\n",
       "    <tr>\n",
       "      <th>23</th>\n",
       "      <td>22</td>\n",
       "      <td>53</td>\n",
       "      <td>22_geotextile soil_geotextile pavement_stabili...</td>\n",
       "      <td>[geotextile soil, geotextile pavement, stabili...</td>\n",
       "      <td>[Geotextile for Soil Stabilization, Type 5 and...</td>\n",
       "    </tr>\n",
       "    <tr>\n",
       "      <th>24</th>\n",
       "      <td>23</td>\n",
       "      <td>51</td>\n",
       "      <td>23_proposal vep_vep value_vep proposes_vep con...</td>\n",
       "      <td>[proposal vep, vep value, vep proposes, vep co...</td>\n",
       "      <td>[Value Engineering Proposal (VEP).. Value Engi...</td>\n",
       "    </tr>\n",
       "  </tbody>\n",
       "</table>\n",
       "</div>"
      ],
      "text/plain": [
       "    Topic  Count                                               Name  \\\n",
       "0      -1   3658    -1_asphalt concrete_asphalt mix_paving_pavement   \n",
       "1       0   3814  0_pavement repair_existing pavement_asphalt co...   \n",
       "2       1   1949  1_sewer line_sewer service_main sewer_sanitary...   \n",
       "3       2   1054  2_pavement markings_pavement marking_pavement ...   \n",
       "4       3    840  3_additional guardrail_compliant guardrail_mas...   \n",
       "5       4    595  4_bridge deck_repair bridge_deck repair_concre...   \n",
       "6       5    501  5_cost escalation_material escalation_escalati...   \n",
       "7       6    422  6_signs portable_message sign_changeable messa...   \n",
       "8       7    379  7_erosion control_matting erosion_additional e...   \n",
       "9       8    325  8_concrete barrier_portable concrete_barrier a...   \n",
       "10      9    234  9_incidental milling_milling incidental_millin...   \n",
       "11     10    220  10_enforcement compensation_enforcement contra...   \n",
       "12     11    180  11_asbestos abatement_asbestos assessments_asb...   \n",
       "13     12    136  12_construction lighting_portable lighting_lig...   \n",
       "14     13    120  13_coir fiber_wattle coir_fiber wattles_wattle...   \n",
       "15     14    102  14_loop sawcut_inductive loop_inductive loops_...   \n",
       "16     15    102  15_concrete islands_monolithic island_concrete...   \n",
       "17     16     95  16_incidental stone_stone base_base incidental...   \n",
       "18     17     90  17_supplemental flagging_additional flaggers_a...   \n",
       "19     18     78  18_grate frame_frame grate_frame grates_grate ...   \n",
       "20     19     70  19_relocation hydrant_existing hydrant_hydrant...   \n",
       "21     20     69  20_skimmer basin_skimmer basins_skimmer skimme...   \n",
       "22     21     63  21_rumble strips_rumble stripe_rumble strip_pa...   \n",
       "23     22     53  22_geotextile soil_geotextile pavement_stabili...   \n",
       "24     23     51  23_proposal vep_vep value_vep proposes_vep con...   \n",
       "\n",
       "                                       Representation  \\\n",
       "0   [asphalt concrete, asphalt mix, paving, paveme...   \n",
       "1   [pavement repair, existing pavement, asphalt c...   \n",
       "2   [sewer line, sewer service, main sewer, sanita...   \n",
       "3   [pavement markings, pavement marking, pavement...   \n",
       "4   [additional guardrail, compliant guardrail, ma...   \n",
       "5   [bridge deck, repair bridge, deck repair, conc...   \n",
       "6   [cost escalation, material escalation, escalat...   \n",
       "7   [signs portable, message sign, changeable mess...   \n",
       "8   [erosion control, matting erosion, additional ...   \n",
       "9   [concrete barrier, portable concrete, barrier ...   \n",
       "10  [incidental milling, milling incidental, milli...   \n",
       "11  [enforcement compensation, enforcement contrac...   \n",
       "12  [asbestos abatement, asbestos assessments, asb...   \n",
       "13  [construction lighting, portable lighting, lig...   \n",
       "14  [coir fiber, wattle coir, fiber wattles, wattl...   \n",
       "15  [loop sawcut, inductive loop, inductive loops,...   \n",
       "16  [concrete islands, monolithic island, concrete...   \n",
       "17  [incidental stone, stone base, base incidental...   \n",
       "18  [supplemental flagging, additional flaggers, a...   \n",
       "19  [grate frame, frame grate, frame grates, grate...   \n",
       "20  [relocation hydrant, existing hydrant, hydrant...   \n",
       "21  [skimmer basin, skimmer basins, skimmer skimme...   \n",
       "22  [rumble strips, rumble stripe, rumble strip, p...   \n",
       "23  [geotextile soil, geotextile pavement, stabili...   \n",
       "24  [proposal vep, vep value, vep proposes, vep co...   \n",
       "\n",
       "                                  Representative_Docs  \n",
       "0   [(Southern Paving Limits Extension). (Southern...  \n",
       "1   [EXPLORATORY EXCAVATION. EXPLORATORY EXCAVATIO...  \n",
       "2   [Re-installation of sewer line after settlemen...  \n",
       "3   [Removal of Pavement Marking Lines, 4\"; Remova...  \n",
       "4   [MASH COMPLIANT GUARDRAIL END UNITS -. MASH CO...  \n",
       "5   [Bridge Joint / Deck Repairs -. Bridge Joint /...  \n",
       "6   [time_limited Material Cost Escalation Adjustm...  \n",
       "7   [PORTABLE CHANGEABLE MESSAGE SIGN. PORTABLE CH...  \n",
       "8   [Matting For Erosion Control -. Matting For Er...  \n",
       "9   [Portable Concrete Barrier -. Portable Concret...  \n",
       "10  [INCIDENTAL MILLING -. INCIDENTAL MILLING - Th...  \n",
       "11  [Law Enforcement-. Law Enforcement- This suppl...  \n",
       "12  [Structure #220034 Asbestos Abatement-. Struct...  \n",
       "13  [Interchange Lighting - The interchange lighti...  \n",
       "14  [COIR FIBER WATTLE:. COIR FIBER WATTLE: This s...  \n",
       "15  [Inductive Loop Sawcut-. Inductive Loop Sawcut...  \n",
       "16  [(5 Monolithic Concrete Island [Keyed In]). (5...  \n",
       "17  [SA# 4  Incidental Stone Base:. SA# 4  Inciden...  \n",
       "18  [SUPPLEMENTAL FLAGGING -. SUPPLEMENTAL FLAGGIN...  \n",
       "19  [BICYCLE FRAME AND GRATES -L-. BICYCLE FRAME A...  \n",
       "20  [Fire Hydrant -. Fire Hydrant -The supplementa...  \n",
       "21  [Skimmer (2):  The approved reclamation plan f...  \n",
       "22  [Sinusoidal Rumble Strips and 4 Inch Thermopla...  \n",
       "23  [Geotextile for Soil Stabilization, Type 5 and...  \n",
       "24  [Value Engineering Proposal (VEP).. Value Engi...  "
      ]
     },
     "execution_count": 90,
     "metadata": {},
     "output_type": "execute_result"
    }
   ],
   "source": [
    "topic_model.get_topic_info()"
   ]
  },
  {
   "cell_type": "code",
   "execution_count": 66,
   "id": "0b65027d",
   "metadata": {},
   "outputs": [],
   "source": [
    "final_results=topic_model.get_document_info(sentences,cra_sa_agg)"
   ]
  },
  {
   "cell_type": "code",
   "execution_count": 52,
   "id": "7a72fca0",
   "metadata": {},
   "outputs": [
    {
     "data": {
      "text/plain": [
       "sa_reason_desc\n",
       "Extra Work                          11378\n",
       "Altered Work                         2501\n",
       "Material Escalation                   410\n",
       "Weather                               275\n",
       "Over/Under Runs                       268\n",
       "Other                                 150\n",
       "Plan Error                            135\n",
       "Settlement and Release Agreement       53\n",
       "Material Shortage                      16\n",
       "Overrun                                11\n",
       "Termination of Contract                 3\n",
       "Name: count, dtype: int64"
      ]
     },
     "execution_count": 52,
     "metadata": {},
     "output_type": "execute_result"
    }
   ],
   "source": [
    "final_results['sa_reason_desc'].value_counts()"
   ]
  },
  {
   "cell_type": "code",
   "execution_count": 67,
   "id": "c55795c3",
   "metadata": {},
   "outputs": [],
   "source": [
    "final_results.to_excel('C:\\\\Users\\\\humcgh\\\\Downloads\\\\bertopics.xlsx', engine='openpyxl')"
   ]
  },
  {
   "cell_type": "markdown",
   "id": "929b284e",
   "metadata": {},
   "source": [
    "# Seed Words"
   ]
  },
  {
   "cell_type": "code",
   "execution_count": 68,
   "id": "206b3428",
   "metadata": {},
   "outputs": [
    {
     "name": "stderr",
     "output_type": "stream",
     "text": [
      "2025-05-20 14:01:41,440 - BERTopic - Dimensionality - Fitting the dimensionality reduction algorithm\n",
      "2025-05-20 14:01:52,313 - BERTopic - Dimensionality - Completed ✓\n",
      "2025-05-20 14:01:52,314 - BERTopic - Cluster - Start clustering the reduced embeddings\n",
      "2025-05-20 14:01:52,633 - BERTopic - Cluster - Completed ✓\n",
      "2025-05-20 14:01:52,633 - BERTopic - Representation - Extracting topics using c-TF-IDF for topic reduction.\n",
      "2025-05-20 14:01:55,472 - BERTopic - Representation - Completed ✓\n",
      "2025-05-20 14:01:55,476 - BERTopic - Topic reduction - Reducing number of topics\n",
      "2025-05-20 14:01:55,498 - BERTopic - Representation - Fine-tuning topics using representation models.\n",
      "2025-05-20 14:02:10,590 - BERTopic - Representation - Completed ✓\n",
      "2025-05-20 14:02:10,597 - BERTopic - Topic reduction - Reduced number of topics from 70 to 25\n"
     ]
    }
   ],
   "source": [
    "# Create your representation model\n",
    "mmr=MaximalMarginalRelevance(diversity=0.3)\n",
    "keybert=KeyBERTInspired()\n",
    "representation_model = [keybert]\n",
    "\n",
    "# We can choose any number of seed words for which we want their representation\n",
    "# to be strengthen. We increase the importance of these words as we want them to be more\n",
    "# likely to end up in the topic representations.\n",
    "ctfidf_model = ClassTfidfTransformer(\n",
    "    seed_words=[\"weather\", \"escalation\", \"extra\", \"altered\", \"shortage\",\"settlement\",\"release\",\"error\",\"termination\",\"over_run\",\"overrun\",\"under_run\",\"underrun\"],\n",
    "    seed_multiplier=2\n",
    ")\n",
    "\n",
    "# Use the representation model in BERTopic on top of the default pipeline\n",
    "topic_model = BERTopic(embedding_model=embedding_model, \n",
    "                       umap_model=umap_model,                   \n",
    "                       hdbscan_model=hdbscan_model, \n",
    "                       vectorizer_model=vectorizer_model,        \n",
    "                       ctfidf_model=ctfidf_model,\n",
    "                       representation_model=representation_model,\n",
    "                       nr_topics='auto',\n",
    "                       verbose=True)\n",
    "topics, probs = topic_model.fit_transform(sentences, embeddings)\n",
    "\n",
    "\n"
   ]
  },
  {
   "cell_type": "code",
   "execution_count": 70,
   "id": "6d905d48",
   "metadata": {},
   "outputs": [
    {
     "data": {
      "application/vnd.plotly.v1+json": {
       "config": {
        "plotlyServerURL": "https://plot.ly"
       },
       "data": [
        {
         "marker": {
          "color": "#D55E00"
         },
         "orientation": "h",
         "type": "bar",
         "x": [
          0.46481257677078247,
          0.5324540138244629,
          0.5409991145133972,
          0.6404417157173157,
          0.6532992124557495
         ],
         "xaxis": "x",
         "y": [
          "markings  ",
          "marking lines  ",
          "thermoplastic pavement  ",
          "pavement marking  ",
          "pavement markings  "
         ],
         "yaxis": "y"
        },
        {
         "marker": {
          "color": "#0072B2"
         },
         "orientation": "h",
         "type": "bar",
         "x": [
          0.6220517158508301,
          0.6267294883728027,
          0.6277961730957031,
          0.6431087851524353,
          0.6535572409629822
         ],
         "xaxis": "x2",
         "y": [
          "existing guardrail  ",
          "guardrail mash  ",
          "additional guardrail  ",
          "compliant guardrail  ",
          "mash guardrail  "
         ],
         "yaxis": "y2"
        },
        {
         "marker": {
          "color": "#CC79A7"
         },
         "orientation": "h",
         "type": "bar",
         "x": [
          0.42807063460350037,
          0.475163996219635,
          0.48991209268569946,
          0.5240386724472046,
          0.5505797863006592
         ],
         "xaxis": "x3",
         "y": [
          "adjustment paid  ",
          "material costs  ",
          "escalation adjustment  ",
          "material escalation  ",
          "cost escalation  "
         ],
         "yaxis": "y3"
        },
        {
         "marker": {
          "color": "#E69F00"
         },
         "orientation": "h",
         "type": "bar",
         "x": [
          0.4338015913963318,
          0.44305962324142456,
          0.51393723487854,
          0.5741468667984009,
          0.6213711500167847
         ],
         "xaxis": "x4",
         "y": [
          "erosion  ",
          "mulching matting  ",
          "response erosion  ",
          "matting erosion  ",
          "erosion control  "
         ],
         "yaxis": "y4"
        },
        {
         "marker": {
          "color": "#56B4E9"
         },
         "orientation": "h",
         "type": "bar",
         "x": [
          0.5421234369277954,
          0.566901683807373,
          0.5707743167877197,
          0.6184553503990173,
          0.6437527537345886
         ],
         "xaxis": "x5",
         "y": [
          "fence installation  ",
          "existing fence  ",
          "wire fence  ",
          "fence chain  ",
          "link fence  "
         ],
         "yaxis": "y5"
        },
        {
         "marker": {
          "color": "#009E73"
         },
         "orientation": "h",
         "type": "bar",
         "x": [
          0.5848605036735535,
          0.611185610294342,
          0.622582733631134,
          0.6286146640777588,
          0.736106276512146
         ],
         "xaxis": "x6",
         "y": [
          "asbestos removal  ",
          "provision asbestos  ",
          "asbestos assessment  ",
          "asbestos assessments  ",
          "asbestos abatement  "
         ],
         "yaxis": "y6"
        },
        {
         "marker": {
          "color": "#F0E442"
         },
         "orientation": "h",
         "type": "bar",
         "x": [
          0.592117190361023,
          0.6067317724227905,
          0.6076990962028503,
          0.6263592839241028,
          0.6338439583778381
         ],
         "xaxis": "x7",
         "y": [
          "snowplowable pavement  ",
          "snowplowable marker  ",
          "pavement marker  ",
          "pavement markers  ",
          "snowplowable markers  "
         ],
         "yaxis": "y7"
        },
        {
         "marker": {
          "color": "#D55E00"
         },
         "orientation": "h",
         "type": "bar",
         "x": [
          0.44652891159057617,
          0.4616522789001465,
          0.5674616098403931,
          0.5731537342071533,
          0.6234207153320312
         ],
         "xaxis": "x8",
         "y": [
          "barrier section  ",
          "barrier temporary  ",
          "portable concrete  ",
          "barrier portable  ",
          "concrete barrier  "
         ],
         "yaxis": "y8"
        },
        {
         "marker": {
          "color": "#0072B2"
         },
         "orientation": "h",
         "type": "bar",
         "x": [
          0.5420509576797485,
          0.635977029800415,
          0.655176043510437,
          0.6553137898445129,
          0.6634721159934998
         ],
         "xaxis": "x9",
         "y": [
          "portable light  ",
          "lighting portable  ",
          "lighting plan  ",
          "portable lighting  ",
          "construction lighting  "
         ],
         "yaxis": "y9"
        },
        {
         "marker": {
          "color": "#CC79A7"
         },
         "orientation": "h",
         "type": "bar",
         "x": [
          0.6644313335418701,
          0.680762767791748,
          0.6834902763366699,
          0.747489869594574,
          0.7690554261207581
         ],
         "xaxis": "x10",
         "y": [
          "contract milling  ",
          "milling contract  ",
          "milling required  ",
          "milling incidental  ",
          "incidental milling  "
         ],
         "yaxis": "y10"
        }
       ],
       "layout": {
        "annotations": [
         {
          "font": {
           "size": 16
          },
          "showarrow": false,
          "text": "Topic 0",
          "x": 0.0875,
          "xanchor": "center",
          "xref": "paper",
          "y": 1,
          "yanchor": "bottom",
          "yref": "paper"
         },
         {
          "font": {
           "size": 16
          },
          "showarrow": false,
          "text": "Topic 1",
          "x": 0.36250000000000004,
          "xanchor": "center",
          "xref": "paper",
          "y": 1,
          "yanchor": "bottom",
          "yref": "paper"
         },
         {
          "font": {
           "size": 16
          },
          "showarrow": false,
          "text": "Topic 2",
          "x": 0.6375000000000001,
          "xanchor": "center",
          "xref": "paper",
          "y": 1,
          "yanchor": "bottom",
          "yref": "paper"
         },
         {
          "font": {
           "size": 16
          },
          "showarrow": false,
          "text": "Topic 3",
          "x": 0.9125,
          "xanchor": "center",
          "xref": "paper",
          "y": 1,
          "yanchor": "bottom",
          "yref": "paper"
         },
         {
          "font": {
           "size": 16
          },
          "showarrow": false,
          "text": "Topic 4",
          "x": 0.0875,
          "xanchor": "center",
          "xref": "paper",
          "y": 0.6222222222222222,
          "yanchor": "bottom",
          "yref": "paper"
         },
         {
          "font": {
           "size": 16
          },
          "showarrow": false,
          "text": "Topic 5",
          "x": 0.36250000000000004,
          "xanchor": "center",
          "xref": "paper",
          "y": 0.6222222222222222,
          "yanchor": "bottom",
          "yref": "paper"
         },
         {
          "font": {
           "size": 16
          },
          "showarrow": false,
          "text": "Topic 6",
          "x": 0.6375000000000001,
          "xanchor": "center",
          "xref": "paper",
          "y": 0.6222222222222222,
          "yanchor": "bottom",
          "yref": "paper"
         },
         {
          "font": {
           "size": 16
          },
          "showarrow": false,
          "text": "Topic 7",
          "x": 0.9125,
          "xanchor": "center",
          "xref": "paper",
          "y": 0.6222222222222222,
          "yanchor": "bottom",
          "yref": "paper"
         },
         {
          "font": {
           "size": 16
          },
          "showarrow": false,
          "text": "Topic 8",
          "x": 0.0875,
          "xanchor": "center",
          "xref": "paper",
          "y": 0.24444444444444446,
          "yanchor": "bottom",
          "yref": "paper"
         },
         {
          "font": {
           "size": 16
          },
          "showarrow": false,
          "text": "Topic 9",
          "x": 0.36250000000000004,
          "xanchor": "center",
          "xref": "paper",
          "y": 0.24444444444444446,
          "yanchor": "bottom",
          "yref": "paper"
         }
        ],
        "height": 750,
        "hoverlabel": {
         "bgcolor": "white",
         "font": {
          "family": "Rockwell",
          "size": 16
         }
        },
        "showlegend": false,
        "template": {
         "data": {
          "bar": [
           {
            "error_x": {
             "color": "#2a3f5f"
            },
            "error_y": {
             "color": "#2a3f5f"
            },
            "marker": {
             "line": {
              "color": "white",
              "width": 0.5
             },
             "pattern": {
              "fillmode": "overlay",
              "size": 10,
              "solidity": 0.2
             }
            },
            "type": "bar"
           }
          ],
          "barpolar": [
           {
            "marker": {
             "line": {
              "color": "white",
              "width": 0.5
             },
             "pattern": {
              "fillmode": "overlay",
              "size": 10,
              "solidity": 0.2
             }
            },
            "type": "barpolar"
           }
          ],
          "carpet": [
           {
            "aaxis": {
             "endlinecolor": "#2a3f5f",
             "gridcolor": "#C8D4E3",
             "linecolor": "#C8D4E3",
             "minorgridcolor": "#C8D4E3",
             "startlinecolor": "#2a3f5f"
            },
            "baxis": {
             "endlinecolor": "#2a3f5f",
             "gridcolor": "#C8D4E3",
             "linecolor": "#C8D4E3",
             "minorgridcolor": "#C8D4E3",
             "startlinecolor": "#2a3f5f"
            },
            "type": "carpet"
           }
          ],
          "choropleth": [
           {
            "colorbar": {
             "outlinewidth": 0,
             "ticks": ""
            },
            "type": "choropleth"
           }
          ],
          "contour": [
           {
            "colorbar": {
             "outlinewidth": 0,
             "ticks": ""
            },
            "colorscale": [
             [
              0,
              "#0d0887"
             ],
             [
              0.1111111111111111,
              "#46039f"
             ],
             [
              0.2222222222222222,
              "#7201a8"
             ],
             [
              0.3333333333333333,
              "#9c179e"
             ],
             [
              0.4444444444444444,
              "#bd3786"
             ],
             [
              0.5555555555555556,
              "#d8576b"
             ],
             [
              0.6666666666666666,
              "#ed7953"
             ],
             [
              0.7777777777777778,
              "#fb9f3a"
             ],
             [
              0.8888888888888888,
              "#fdca26"
             ],
             [
              1,
              "#f0f921"
             ]
            ],
            "type": "contour"
           }
          ],
          "contourcarpet": [
           {
            "colorbar": {
             "outlinewidth": 0,
             "ticks": ""
            },
            "type": "contourcarpet"
           }
          ],
          "heatmap": [
           {
            "colorbar": {
             "outlinewidth": 0,
             "ticks": ""
            },
            "colorscale": [
             [
              0,
              "#0d0887"
             ],
             [
              0.1111111111111111,
              "#46039f"
             ],
             [
              0.2222222222222222,
              "#7201a8"
             ],
             [
              0.3333333333333333,
              "#9c179e"
             ],
             [
              0.4444444444444444,
              "#bd3786"
             ],
             [
              0.5555555555555556,
              "#d8576b"
             ],
             [
              0.6666666666666666,
              "#ed7953"
             ],
             [
              0.7777777777777778,
              "#fb9f3a"
             ],
             [
              0.8888888888888888,
              "#fdca26"
             ],
             [
              1,
              "#f0f921"
             ]
            ],
            "type": "heatmap"
           }
          ],
          "histogram": [
           {
            "marker": {
             "pattern": {
              "fillmode": "overlay",
              "size": 10,
              "solidity": 0.2
             }
            },
            "type": "histogram"
           }
          ],
          "histogram2d": [
           {
            "colorbar": {
             "outlinewidth": 0,
             "ticks": ""
            },
            "colorscale": [
             [
              0,
              "#0d0887"
             ],
             [
              0.1111111111111111,
              "#46039f"
             ],
             [
              0.2222222222222222,
              "#7201a8"
             ],
             [
              0.3333333333333333,
              "#9c179e"
             ],
             [
              0.4444444444444444,
              "#bd3786"
             ],
             [
              0.5555555555555556,
              "#d8576b"
             ],
             [
              0.6666666666666666,
              "#ed7953"
             ],
             [
              0.7777777777777778,
              "#fb9f3a"
             ],
             [
              0.8888888888888888,
              "#fdca26"
             ],
             [
              1,
              "#f0f921"
             ]
            ],
            "type": "histogram2d"
           }
          ],
          "histogram2dcontour": [
           {
            "colorbar": {
             "outlinewidth": 0,
             "ticks": ""
            },
            "colorscale": [
             [
              0,
              "#0d0887"
             ],
             [
              0.1111111111111111,
              "#46039f"
             ],
             [
              0.2222222222222222,
              "#7201a8"
             ],
             [
              0.3333333333333333,
              "#9c179e"
             ],
             [
              0.4444444444444444,
              "#bd3786"
             ],
             [
              0.5555555555555556,
              "#d8576b"
             ],
             [
              0.6666666666666666,
              "#ed7953"
             ],
             [
              0.7777777777777778,
              "#fb9f3a"
             ],
             [
              0.8888888888888888,
              "#fdca26"
             ],
             [
              1,
              "#f0f921"
             ]
            ],
            "type": "histogram2dcontour"
           }
          ],
          "mesh3d": [
           {
            "colorbar": {
             "outlinewidth": 0,
             "ticks": ""
            },
            "type": "mesh3d"
           }
          ],
          "parcoords": [
           {
            "line": {
             "colorbar": {
              "outlinewidth": 0,
              "ticks": ""
             }
            },
            "type": "parcoords"
           }
          ],
          "pie": [
           {
            "automargin": true,
            "type": "pie"
           }
          ],
          "scatter": [
           {
            "fillpattern": {
             "fillmode": "overlay",
             "size": 10,
             "solidity": 0.2
            },
            "type": "scatter"
           }
          ],
          "scatter3d": [
           {
            "line": {
             "colorbar": {
              "outlinewidth": 0,
              "ticks": ""
             }
            },
            "marker": {
             "colorbar": {
              "outlinewidth": 0,
              "ticks": ""
             }
            },
            "type": "scatter3d"
           }
          ],
          "scattercarpet": [
           {
            "marker": {
             "colorbar": {
              "outlinewidth": 0,
              "ticks": ""
             }
            },
            "type": "scattercarpet"
           }
          ],
          "scattergeo": [
           {
            "marker": {
             "colorbar": {
              "outlinewidth": 0,
              "ticks": ""
             }
            },
            "type": "scattergeo"
           }
          ],
          "scattergl": [
           {
            "marker": {
             "colorbar": {
              "outlinewidth": 0,
              "ticks": ""
             }
            },
            "type": "scattergl"
           }
          ],
          "scattermap": [
           {
            "marker": {
             "colorbar": {
              "outlinewidth": 0,
              "ticks": ""
             }
            },
            "type": "scattermap"
           }
          ],
          "scattermapbox": [
           {
            "marker": {
             "colorbar": {
              "outlinewidth": 0,
              "ticks": ""
             }
            },
            "type": "scattermapbox"
           }
          ],
          "scatterpolar": [
           {
            "marker": {
             "colorbar": {
              "outlinewidth": 0,
              "ticks": ""
             }
            },
            "type": "scatterpolar"
           }
          ],
          "scatterpolargl": [
           {
            "marker": {
             "colorbar": {
              "outlinewidth": 0,
              "ticks": ""
             }
            },
            "type": "scatterpolargl"
           }
          ],
          "scatterternary": [
           {
            "marker": {
             "colorbar": {
              "outlinewidth": 0,
              "ticks": ""
             }
            },
            "type": "scatterternary"
           }
          ],
          "surface": [
           {
            "colorbar": {
             "outlinewidth": 0,
             "ticks": ""
            },
            "colorscale": [
             [
              0,
              "#0d0887"
             ],
             [
              0.1111111111111111,
              "#46039f"
             ],
             [
              0.2222222222222222,
              "#7201a8"
             ],
             [
              0.3333333333333333,
              "#9c179e"
             ],
             [
              0.4444444444444444,
              "#bd3786"
             ],
             [
              0.5555555555555556,
              "#d8576b"
             ],
             [
              0.6666666666666666,
              "#ed7953"
             ],
             [
              0.7777777777777778,
              "#fb9f3a"
             ],
             [
              0.8888888888888888,
              "#fdca26"
             ],
             [
              1,
              "#f0f921"
             ]
            ],
            "type": "surface"
           }
          ],
          "table": [
           {
            "cells": {
             "fill": {
              "color": "#EBF0F8"
             },
             "line": {
              "color": "white"
             }
            },
            "header": {
             "fill": {
              "color": "#C8D4E3"
             },
             "line": {
              "color": "white"
             }
            },
            "type": "table"
           }
          ]
         },
         "layout": {
          "annotationdefaults": {
           "arrowcolor": "#2a3f5f",
           "arrowhead": 0,
           "arrowwidth": 1
          },
          "autotypenumbers": "strict",
          "coloraxis": {
           "colorbar": {
            "outlinewidth": 0,
            "ticks": ""
           }
          },
          "colorscale": {
           "diverging": [
            [
             0,
             "#8e0152"
            ],
            [
             0.1,
             "#c51b7d"
            ],
            [
             0.2,
             "#de77ae"
            ],
            [
             0.3,
             "#f1b6da"
            ],
            [
             0.4,
             "#fde0ef"
            ],
            [
             0.5,
             "#f7f7f7"
            ],
            [
             0.6,
             "#e6f5d0"
            ],
            [
             0.7,
             "#b8e186"
            ],
            [
             0.8,
             "#7fbc41"
            ],
            [
             0.9,
             "#4d9221"
            ],
            [
             1,
             "#276419"
            ]
           ],
           "sequential": [
            [
             0,
             "#0d0887"
            ],
            [
             0.1111111111111111,
             "#46039f"
            ],
            [
             0.2222222222222222,
             "#7201a8"
            ],
            [
             0.3333333333333333,
             "#9c179e"
            ],
            [
             0.4444444444444444,
             "#bd3786"
            ],
            [
             0.5555555555555556,
             "#d8576b"
            ],
            [
             0.6666666666666666,
             "#ed7953"
            ],
            [
             0.7777777777777778,
             "#fb9f3a"
            ],
            [
             0.8888888888888888,
             "#fdca26"
            ],
            [
             1,
             "#f0f921"
            ]
           ],
           "sequentialminus": [
            [
             0,
             "#0d0887"
            ],
            [
             0.1111111111111111,
             "#46039f"
            ],
            [
             0.2222222222222222,
             "#7201a8"
            ],
            [
             0.3333333333333333,
             "#9c179e"
            ],
            [
             0.4444444444444444,
             "#bd3786"
            ],
            [
             0.5555555555555556,
             "#d8576b"
            ],
            [
             0.6666666666666666,
             "#ed7953"
            ],
            [
             0.7777777777777778,
             "#fb9f3a"
            ],
            [
             0.8888888888888888,
             "#fdca26"
            ],
            [
             1,
             "#f0f921"
            ]
           ]
          },
          "colorway": [
           "#636efa",
           "#EF553B",
           "#00cc96",
           "#ab63fa",
           "#FFA15A",
           "#19d3f3",
           "#FF6692",
           "#B6E880",
           "#FF97FF",
           "#FECB52"
          ],
          "font": {
           "color": "#2a3f5f"
          },
          "geo": {
           "bgcolor": "white",
           "lakecolor": "white",
           "landcolor": "white",
           "showlakes": true,
           "showland": true,
           "subunitcolor": "#C8D4E3"
          },
          "hoverlabel": {
           "align": "left"
          },
          "hovermode": "closest",
          "mapbox": {
           "style": "light"
          },
          "paper_bgcolor": "white",
          "plot_bgcolor": "white",
          "polar": {
           "angularaxis": {
            "gridcolor": "#EBF0F8",
            "linecolor": "#EBF0F8",
            "ticks": ""
           },
           "bgcolor": "white",
           "radialaxis": {
            "gridcolor": "#EBF0F8",
            "linecolor": "#EBF0F8",
            "ticks": ""
           }
          },
          "scene": {
           "xaxis": {
            "backgroundcolor": "white",
            "gridcolor": "#DFE8F3",
            "gridwidth": 2,
            "linecolor": "#EBF0F8",
            "showbackground": true,
            "ticks": "",
            "zerolinecolor": "#EBF0F8"
           },
           "yaxis": {
            "backgroundcolor": "white",
            "gridcolor": "#DFE8F3",
            "gridwidth": 2,
            "linecolor": "#EBF0F8",
            "showbackground": true,
            "ticks": "",
            "zerolinecolor": "#EBF0F8"
           },
           "zaxis": {
            "backgroundcolor": "white",
            "gridcolor": "#DFE8F3",
            "gridwidth": 2,
            "linecolor": "#EBF0F8",
            "showbackground": true,
            "ticks": "",
            "zerolinecolor": "#EBF0F8"
           }
          },
          "shapedefaults": {
           "line": {
            "color": "#2a3f5f"
           }
          },
          "ternary": {
           "aaxis": {
            "gridcolor": "#DFE8F3",
            "linecolor": "#A2B1C6",
            "ticks": ""
           },
           "baxis": {
            "gridcolor": "#DFE8F3",
            "linecolor": "#A2B1C6",
            "ticks": ""
           },
           "bgcolor": "white",
           "caxis": {
            "gridcolor": "#DFE8F3",
            "linecolor": "#A2B1C6",
            "ticks": ""
           }
          },
          "title": {
           "x": 0.05
          },
          "xaxis": {
           "automargin": true,
           "gridcolor": "#EBF0F8",
           "linecolor": "#EBF0F8",
           "ticks": "",
           "title": {
            "standoff": 15
           },
           "zerolinecolor": "#EBF0F8",
           "zerolinewidth": 2
          },
          "yaxis": {
           "automargin": true,
           "gridcolor": "#EBF0F8",
           "linecolor": "#EBF0F8",
           "ticks": "",
           "title": {
            "standoff": 15
           },
           "zerolinecolor": "#EBF0F8",
           "zerolinewidth": 2
          }
         }
        },
        "title": {
         "font": {
          "color": "Black",
          "size": 22
         },
         "text": "Topic Word Scores",
         "x": 0.5,
         "xanchor": "center",
         "yanchor": "top"
        },
        "width": 1000,
        "xaxis": {
         "anchor": "y",
         "domain": [
          0,
          0.175
         ],
         "showgrid": true
        },
        "xaxis10": {
         "anchor": "y10",
         "domain": [
          0.275,
          0.45
         ],
         "showgrid": true
        },
        "xaxis11": {
         "anchor": "y11",
         "domain": [
          0.55,
          0.7250000000000001
         ],
         "showgrid": true
        },
        "xaxis12": {
         "anchor": "y12",
         "domain": [
          0.825,
          1
         ],
         "showgrid": true
        },
        "xaxis2": {
         "anchor": "y2",
         "domain": [
          0.275,
          0.45
         ],
         "showgrid": true
        },
        "xaxis3": {
         "anchor": "y3",
         "domain": [
          0.55,
          0.7250000000000001
         ],
         "showgrid": true
        },
        "xaxis4": {
         "anchor": "y4",
         "domain": [
          0.825,
          1
         ],
         "showgrid": true
        },
        "xaxis5": {
         "anchor": "y5",
         "domain": [
          0,
          0.175
         ],
         "showgrid": true
        },
        "xaxis6": {
         "anchor": "y6",
         "domain": [
          0.275,
          0.45
         ],
         "showgrid": true
        },
        "xaxis7": {
         "anchor": "y7",
         "domain": [
          0.55,
          0.7250000000000001
         ],
         "showgrid": true
        },
        "xaxis8": {
         "anchor": "y8",
         "domain": [
          0.825,
          1
         ],
         "showgrid": true
        },
        "xaxis9": {
         "anchor": "y9",
         "domain": [
          0,
          0.175
         ],
         "showgrid": true
        },
        "yaxis": {
         "anchor": "x",
         "domain": [
          0.7555555555555555,
          1
         ],
         "showgrid": true
        },
        "yaxis10": {
         "anchor": "x10",
         "domain": [
          0,
          0.24444444444444446
         ],
         "showgrid": true
        },
        "yaxis11": {
         "anchor": "x11",
         "domain": [
          0,
          0.24444444444444446
         ],
         "showgrid": true
        },
        "yaxis12": {
         "anchor": "x12",
         "domain": [
          0,
          0.24444444444444446
         ],
         "showgrid": true
        },
        "yaxis2": {
         "anchor": "x2",
         "domain": [
          0.7555555555555555,
          1
         ],
         "showgrid": true
        },
        "yaxis3": {
         "anchor": "x3",
         "domain": [
          0.7555555555555555,
          1
         ],
         "showgrid": true
        },
        "yaxis4": {
         "anchor": "x4",
         "domain": [
          0.7555555555555555,
          1
         ],
         "showgrid": true
        },
        "yaxis5": {
         "anchor": "x5",
         "domain": [
          0.37777777777777777,
          0.6222222222222222
         ],
         "showgrid": true
        },
        "yaxis6": {
         "anchor": "x6",
         "domain": [
          0.37777777777777777,
          0.6222222222222222
         ],
         "showgrid": true
        },
        "yaxis7": {
         "anchor": "x7",
         "domain": [
          0.37777777777777777,
          0.6222222222222222
         ],
         "showgrid": true
        },
        "yaxis8": {
         "anchor": "x8",
         "domain": [
          0.37777777777777777,
          0.6222222222222222
         ],
         "showgrid": true
        },
        "yaxis9": {
         "anchor": "x9",
         "domain": [
          0,
          0.24444444444444446
         ],
         "showgrid": true
        }
       }
      }
     },
     "metadata": {},
     "output_type": "display_data"
    }
   ],
   "source": [
    "# import nbformat\n",
    "topic_model.visualize_barchart(top_n_topics=10)"
   ]
  },
  {
   "cell_type": "code",
   "execution_count": 71,
   "id": "c43b799c",
   "metadata": {},
   "outputs": [
    {
     "data": {
      "text/html": [
       "<div>\n",
       "<style scoped>\n",
       "    .dataframe tbody tr th:only-of-type {\n",
       "        vertical-align: middle;\n",
       "    }\n",
       "\n",
       "    .dataframe tbody tr th {\n",
       "        vertical-align: top;\n",
       "    }\n",
       "\n",
       "    .dataframe thead th {\n",
       "        text-align: right;\n",
       "    }\n",
       "</style>\n",
       "<table border=\"1\" class=\"dataframe\">\n",
       "  <thead>\n",
       "    <tr style=\"text-align: right;\">\n",
       "      <th></th>\n",
       "      <th>Topic</th>\n",
       "      <th>Count</th>\n",
       "      <th>Name</th>\n",
       "      <th>Representation</th>\n",
       "      <th>Representative_Docs</th>\n",
       "    </tr>\n",
       "  </thead>\n",
       "  <tbody>\n",
       "    <tr>\n",
       "      <th>0</th>\n",
       "      <td>-1</td>\n",
       "      <td>3658</td>\n",
       "      <td>-1_asphalt concrete_asphalt mix_asphalt_paving</td>\n",
       "      <td>[asphalt concrete, asphalt mix, asphalt, pavin...</td>\n",
       "      <td>[(Southern Paving Limits Extension). (Southern...</td>\n",
       "    </tr>\n",
       "    <tr>\n",
       "      <th>1</th>\n",
       "      <td>0</td>\n",
       "      <td>8131</td>\n",
       "      <td>0_pavement markings_pavement marking_thermopla...</td>\n",
       "      <td>[pavement markings, pavement marking, thermopl...</td>\n",
       "      <td>[6\" and 12\" THERMOPLASTIC PAVEMENT MARKING LIN...</td>\n",
       "    </tr>\n",
       "    <tr>\n",
       "      <th>2</th>\n",
       "      <td>1</td>\n",
       "      <td>616</td>\n",
       "      <td>1_mash guardrail_compliant guardrail_additiona...</td>\n",
       "      <td>[mash guardrail, compliant guardrail, addition...</td>\n",
       "      <td>[MASH Compliant Guardrail End Units:. MASH Com...</td>\n",
       "    </tr>\n",
       "    <tr>\n",
       "      <th>3</th>\n",
       "      <td>2</td>\n",
       "      <td>420</td>\n",
       "      <td>2_cost escalation_material escalation_escalati...</td>\n",
       "      <td>[cost escalation, material escalation, escalat...</td>\n",
       "      <td>[time_limited Material Cost Escalation Adjustm...</td>\n",
       "    </tr>\n",
       "    <tr>\n",
       "      <th>4</th>\n",
       "      <td>3</td>\n",
       "      <td>259</td>\n",
       "      <td>3_erosion control_matting erosion_response ero...</td>\n",
       "      <td>[erosion control, matting erosion, response er...</td>\n",
       "      <td>[EROSION CONTROL MEASURES FOR CLEARING OF DUKE...</td>\n",
       "    </tr>\n",
       "    <tr>\n",
       "      <th>5</th>\n",
       "      <td>4</td>\n",
       "      <td>224</td>\n",
       "      <td>4_link fence_fence chain_wire fence_existing f...</td>\n",
       "      <td>[link fence, fence chain, wire fence, existing...</td>\n",
       "      <td>[Chain Link Fence. Chain Link Fence  This supp...</td>\n",
       "    </tr>\n",
       "    <tr>\n",
       "      <th>6</th>\n",
       "      <td>5</td>\n",
       "      <td>180</td>\n",
       "      <td>5_asbestos abatement_asbestos assessments_asbe...</td>\n",
       "      <td>[asbestos abatement, asbestos assessments, asb...</td>\n",
       "      <td>[Structure #540054 Asbestos Abatement-. Struct...</td>\n",
       "    </tr>\n",
       "    <tr>\n",
       "      <th>7</th>\n",
       "      <td>6</td>\n",
       "      <td>167</td>\n",
       "      <td>6_snowplowable markers_pavement markers_paveme...</td>\n",
       "      <td>[snowplowable markers, pavement markers, pavem...</td>\n",
       "      <td>[NON-CAST IRON SNOWPLOWABLE PAVEMENT MARKERS:....</td>\n",
       "    </tr>\n",
       "    <tr>\n",
       "      <th>8</th>\n",
       "      <td>7</td>\n",
       "      <td>142</td>\n",
       "      <td>7_concrete barrier_barrier portable_portable c...</td>\n",
       "      <td>[concrete barrier, barrier portable, portable ...</td>\n",
       "      <td>[Positive Protection \"Portable Concrete Barrie...</td>\n",
       "    </tr>\n",
       "    <tr>\n",
       "      <th>9</th>\n",
       "      <td>8</td>\n",
       "      <td>136</td>\n",
       "      <td>8_construction lighting_portable lighting_ligh...</td>\n",
       "      <td>[construction lighting, portable lighting, lig...</td>\n",
       "      <td>[Interchange Lighting - The interchange lighti...</td>\n",
       "    </tr>\n",
       "    <tr>\n",
       "      <th>10</th>\n",
       "      <td>9</td>\n",
       "      <td>121</td>\n",
       "      <td>9_incidental milling_milling incidental_millin...</td>\n",
       "      <td>[incidental milling, milling incidental, milli...</td>\n",
       "      <td>[Incidental Milling - Incidental Milling shall...</td>\n",
       "    </tr>\n",
       "    <tr>\n",
       "      <th>11</th>\n",
       "      <td>10</td>\n",
       "      <td>120</td>\n",
       "      <td>10_coir fiber_wattle coir_fiber wattles_wattle...</td>\n",
       "      <td>[coir fiber, wattle coir, fiber wattles, wattl...</td>\n",
       "      <td>[COIR FIBER WATTLE:. COIR FIBER WATTLE: This s...</td>\n",
       "    </tr>\n",
       "    <tr>\n",
       "      <th>12</th>\n",
       "      <td>11</td>\n",
       "      <td>111</td>\n",
       "      <td>11_enforcement compensation_enforcement contra...</td>\n",
       "      <td>[enforcement compensation, enforcement contrac...</td>\n",
       "      <td>[Law Enforcement-. Law Enforcement- This suppl...</td>\n",
       "    </tr>\n",
       "    <tr>\n",
       "      <th>13</th>\n",
       "      <td>12</td>\n",
       "      <td>102</td>\n",
       "      <td>12_concrete islands_monolithic island_concrete...</td>\n",
       "      <td>[concrete islands, monolithic island, concrete...</td>\n",
       "      <td>[(5 Monolithic Concrete Island [Keyed In]). (5...</td>\n",
       "    </tr>\n",
       "    <tr>\n",
       "      <th>14</th>\n",
       "      <td>13</td>\n",
       "      <td>102</td>\n",
       "      <td>13_loop sawcut_inductive loop_inductive loops_...</td>\n",
       "      <td>[loop sawcut, inductive loop, inductive loops,...</td>\n",
       "      <td>[Inductive Loop Sawcut -. Inductive Loop Sawcu...</td>\n",
       "    </tr>\n",
       "    <tr>\n",
       "      <th>15</th>\n",
       "      <td>14</td>\n",
       "      <td>95</td>\n",
       "      <td>14_incidental stone_base incidental_stone base...</td>\n",
       "      <td>[incidental stone, base incidental, stone base...</td>\n",
       "      <td>[SA# 4  Incidental Stone Base:. SA# 4  Inciden...</td>\n",
       "    </tr>\n",
       "    <tr>\n",
       "      <th>16</th>\n",
       "      <td>15</td>\n",
       "      <td>90</td>\n",
       "      <td>15_supplemental flagging_additional flaggers_a...</td>\n",
       "      <td>[supplemental flagging, additional flaggers, a...</td>\n",
       "      <td>[SUPPLEMENTAL FLAGGING -. SUPPLEMENTAL FLAGGIN...</td>\n",
       "    </tr>\n",
       "    <tr>\n",
       "      <th>17</th>\n",
       "      <td>16</td>\n",
       "      <td>78</td>\n",
       "      <td>16_grate frame_frame grate_frame grates_grate ...</td>\n",
       "      <td>[grate frame, frame grate, frame grates, grate...</td>\n",
       "      <td>[BICYCLE FRAME AND GRATES -L-. BICYCLE FRAME A...</td>\n",
       "    </tr>\n",
       "    <tr>\n",
       "      <th>18</th>\n",
       "      <td>17</td>\n",
       "      <td>72</td>\n",
       "      <td>17_noise wall_noise walls_construction noise_s...</td>\n",
       "      <td>[noise wall, noise walls, construction noise, ...</td>\n",
       "      <td>[Noise Wall Additions to the RFP Scope - The i...</td>\n",
       "    </tr>\n",
       "    <tr>\n",
       "      <th>19</th>\n",
       "      <td>18</td>\n",
       "      <td>70</td>\n",
       "      <td>18_erosion control_control erosion_revised ero...</td>\n",
       "      <td>[erosion control, control erosion, revised ero...</td>\n",
       "      <td>[EROSION CONTROL:. EROSION CONTROL: This suppl...</td>\n",
       "    </tr>\n",
       "    <tr>\n",
       "      <th>20</th>\n",
       "      <td>19</td>\n",
       "      <td>70</td>\n",
       "      <td>19_relocation hydrant_existing hydrant_hydrant...</td>\n",
       "      <td>[relocation hydrant, existing hydrant, hydrant...</td>\n",
       "      <td>[Fire Hydrant -. Fire Hydrant -The supplementa...</td>\n",
       "    </tr>\n",
       "    <tr>\n",
       "      <th>21</th>\n",
       "      <td>20</td>\n",
       "      <td>69</td>\n",
       "      <td>20_skimmer basin_skimmer basins_skimmer skimme...</td>\n",
       "      <td>[skimmer basin, skimmer basins, skimmer skimme...</td>\n",
       "      <td>[1.5\" Skimmer-. 1.5\" Skimmer-This supplemental...</td>\n",
       "    </tr>\n",
       "    <tr>\n",
       "      <th>22</th>\n",
       "      <td>21</td>\n",
       "      <td>63</td>\n",
       "      <td>21_rumble strips_rumble stripe_rumble strip_pa...</td>\n",
       "      <td>[rumble strips, rumble stripe, rumble strip, p...</td>\n",
       "      <td>[Sinusoidal Rumble Strips and 4 Inch Thermopla...</td>\n",
       "    </tr>\n",
       "    <tr>\n",
       "      <th>23</th>\n",
       "      <td>22</td>\n",
       "      <td>53</td>\n",
       "      <td>22_geotextile pavement_geotextile soil_stabili...</td>\n",
       "      <td>[geotextile pavement, geotextile soil, stabili...</td>\n",
       "      <td>[Geotextile for Soil Stabilization, Type 5 and...</td>\n",
       "    </tr>\n",
       "    <tr>\n",
       "      <th>24</th>\n",
       "      <td>23</td>\n",
       "      <td>51</td>\n",
       "      <td>23_proposal vep_vep value_vep proposes_vep con...</td>\n",
       "      <td>[proposal vep, vep value, vep proposes, vep co...</td>\n",
       "      <td>[Value Engineering Proposal (VEP).. Value Engi...</td>\n",
       "    </tr>\n",
       "  </tbody>\n",
       "</table>\n",
       "</div>"
      ],
      "text/plain": [
       "    Topic  Count                                               Name  \\\n",
       "0      -1   3658     -1_asphalt concrete_asphalt mix_asphalt_paving   \n",
       "1       0   8131  0_pavement markings_pavement marking_thermopla...   \n",
       "2       1    616  1_mash guardrail_compliant guardrail_additiona...   \n",
       "3       2    420  2_cost escalation_material escalation_escalati...   \n",
       "4       3    259  3_erosion control_matting erosion_response ero...   \n",
       "5       4    224  4_link fence_fence chain_wire fence_existing f...   \n",
       "6       5    180  5_asbestos abatement_asbestos assessments_asbe...   \n",
       "7       6    167  6_snowplowable markers_pavement markers_paveme...   \n",
       "8       7    142  7_concrete barrier_barrier portable_portable c...   \n",
       "9       8    136  8_construction lighting_portable lighting_ligh...   \n",
       "10      9    121  9_incidental milling_milling incidental_millin...   \n",
       "11     10    120  10_coir fiber_wattle coir_fiber wattles_wattle...   \n",
       "12     11    111  11_enforcement compensation_enforcement contra...   \n",
       "13     12    102  12_concrete islands_monolithic island_concrete...   \n",
       "14     13    102  13_loop sawcut_inductive loop_inductive loops_...   \n",
       "15     14     95  14_incidental stone_base incidental_stone base...   \n",
       "16     15     90  15_supplemental flagging_additional flaggers_a...   \n",
       "17     16     78  16_grate frame_frame grate_frame grates_grate ...   \n",
       "18     17     72  17_noise wall_noise walls_construction noise_s...   \n",
       "19     18     70  18_erosion control_control erosion_revised ero...   \n",
       "20     19     70  19_relocation hydrant_existing hydrant_hydrant...   \n",
       "21     20     69  20_skimmer basin_skimmer basins_skimmer skimme...   \n",
       "22     21     63  21_rumble strips_rumble stripe_rumble strip_pa...   \n",
       "23     22     53  22_geotextile pavement_geotextile soil_stabili...   \n",
       "24     23     51  23_proposal vep_vep value_vep proposes_vep con...   \n",
       "\n",
       "                                       Representation  \\\n",
       "0   [asphalt concrete, asphalt mix, asphalt, pavin...   \n",
       "1   [pavement markings, pavement marking, thermopl...   \n",
       "2   [mash guardrail, compliant guardrail, addition...   \n",
       "3   [cost escalation, material escalation, escalat...   \n",
       "4   [erosion control, matting erosion, response er...   \n",
       "5   [link fence, fence chain, wire fence, existing...   \n",
       "6   [asbestos abatement, asbestos assessments, asb...   \n",
       "7   [snowplowable markers, pavement markers, pavem...   \n",
       "8   [concrete barrier, barrier portable, portable ...   \n",
       "9   [construction lighting, portable lighting, lig...   \n",
       "10  [incidental milling, milling incidental, milli...   \n",
       "11  [coir fiber, wattle coir, fiber wattles, wattl...   \n",
       "12  [enforcement compensation, enforcement contrac...   \n",
       "13  [concrete islands, monolithic island, concrete...   \n",
       "14  [loop sawcut, inductive loop, inductive loops,...   \n",
       "15  [incidental stone, base incidental, stone base...   \n",
       "16  [supplemental flagging, additional flaggers, a...   \n",
       "17  [grate frame, frame grate, frame grates, grate...   \n",
       "18  [noise wall, noise walls, construction noise, ...   \n",
       "19  [erosion control, control erosion, revised ero...   \n",
       "20  [relocation hydrant, existing hydrant, hydrant...   \n",
       "21  [skimmer basin, skimmer basins, skimmer skimme...   \n",
       "22  [rumble strips, rumble stripe, rumble strip, p...   \n",
       "23  [geotextile pavement, geotextile soil, stabili...   \n",
       "24  [proposal vep, vep value, vep proposes, vep co...   \n",
       "\n",
       "                                  Representative_Docs  \n",
       "0   [(Southern Paving Limits Extension). (Southern...  \n",
       "1   [6\" and 12\" THERMOPLASTIC PAVEMENT MARKING LIN...  \n",
       "2   [MASH Compliant Guardrail End Units:. MASH Com...  \n",
       "3   [time_limited Material Cost Escalation Adjustm...  \n",
       "4   [EROSION CONTROL MEASURES FOR CLEARING OF DUKE...  \n",
       "5   [Chain Link Fence. Chain Link Fence  This supp...  \n",
       "6   [Structure #540054 Asbestos Abatement-. Struct...  \n",
       "7   [NON-CAST IRON SNOWPLOWABLE PAVEMENT MARKERS:....  \n",
       "8   [Positive Protection \"Portable Concrete Barrie...  \n",
       "9   [Interchange Lighting - The interchange lighti...  \n",
       "10  [Incidental Milling - Incidental Milling shall...  \n",
       "11  [COIR FIBER WATTLE:. COIR FIBER WATTLE: This s...  \n",
       "12  [Law Enforcement-. Law Enforcement- This suppl...  \n",
       "13  [(5 Monolithic Concrete Island [Keyed In]). (5...  \n",
       "14  [Inductive Loop Sawcut -. Inductive Loop Sawcu...  \n",
       "15  [SA# 4  Incidental Stone Base:. SA# 4  Inciden...  \n",
       "16  [SUPPLEMENTAL FLAGGING -. SUPPLEMENTAL FLAGGIN...  \n",
       "17  [BICYCLE FRAME AND GRATES -L-. BICYCLE FRAME A...  \n",
       "18  [Noise Wall Additions to the RFP Scope - The i...  \n",
       "19  [EROSION CONTROL:. EROSION CONTROL: This suppl...  \n",
       "20  [Fire Hydrant -. Fire Hydrant -The supplementa...  \n",
       "21  [1.5\" Skimmer-. 1.5\" Skimmer-This supplemental...  \n",
       "22  [Sinusoidal Rumble Strips and 4 Inch Thermopla...  \n",
       "23  [Geotextile for Soil Stabilization, Type 5 and...  \n",
       "24  [Value Engineering Proposal (VEP).. Value Engi...  "
      ]
     },
     "execution_count": 71,
     "metadata": {},
     "output_type": "execute_result"
    }
   ],
   "source": [
    "topic_model.get_topic_info()\n"
   ]
  },
  {
   "cell_type": "markdown",
   "id": "7b922881",
   "metadata": {},
   "source": [
    "# seed topic list"
   ]
  },
  {
   "cell_type": "code",
   "execution_count": 44,
   "id": "065d1e3f",
   "metadata": {},
   "outputs": [
    {
     "name": "stderr",
     "output_type": "stream",
     "text": [
      "2025-05-20 13:51:45,538 - BERTopic - Guided - Find embeddings highly related to seeded topics.\n",
      "Batches: 100%|██████████| 1/1 [00:00<00:00, 20.84it/s]\n",
      "2025-05-20 13:51:45,643 - BERTopic - Guided - Completed ✓\n",
      "2025-05-20 13:51:45,644 - BERTopic - Dimensionality - Fitting the dimensionality reduction algorithm\n",
      "2025-05-20 13:52:00,603 - BERTopic - Dimensionality - Completed ✓\n",
      "2025-05-20 13:52:00,604 - BERTopic - Cluster - Start clustering the reduced embeddings\n",
      "2025-05-20 13:52:00,924 - BERTopic - Cluster - Completed ✓\n",
      "2025-05-20 13:52:00,925 - BERTopic - Representation - Extracting topics using c-TF-IDF for topic reduction.\n",
      "2025-05-20 13:52:03,456 - BERTopic - Representation - Completed ✓\n",
      "2025-05-20 13:52:03,457 - BERTopic - Topic reduction - Reducing number of topics\n",
      "2025-05-20 13:52:03,502 - BERTopic - Representation - Fine-tuning topics using representation models.\n",
      "2025-05-20 13:52:10,616 - BERTopic - Representation - Completed ✓\n",
      "2025-05-20 13:52:10,626 - BERTopic - Topic reduction - Reduced number of topics from 203 to 56\n"
     ]
    }
   ],
   "source": [
    "# Create your representation model\n",
    "mmr=MaximalMarginalRelevance(diversity=0.3)\n",
    "keybert=KeyBERTInspired()\n",
    "representation_model = [mmr]\n",
    "\n",
    "seed_topic_list =[[\"weather\"], [\"escalation\"], [\"extra\"], [\"altered\"], [\"shortage\"],[\"settlement\",\"release\"],[\"error\"],[\"termination\"],[\"over_run\",\"overrun\",\"under_run\",\"underrun\"]]\n",
    "\n",
    "# Use the representation model in BERTopic on top of the default pipeline\n",
    "topic_model = BERTopic(embedding_model=embedding_model, \n",
    "                       umap_model=umap_model,                   \n",
    "                       hdbscan_model=hdbscan_model, \n",
    "                       vectorizer_model=vectorizer_model,        \n",
    "                       seed_topic_list=seed_topic_list,\n",
    "                       representation_model=representation_model,\n",
    "                       nr_topics='auto',\n",
    "                       verbose=True)\n",
    "\n",
    "topics, probs = topic_model.fit_transform(sentences, embeddings)\n"
   ]
  },
  {
   "cell_type": "code",
   "execution_count": 45,
   "id": "33973e08",
   "metadata": {},
   "outputs": [
    {
     "data": {
      "text/html": [
       "<div>\n",
       "<style scoped>\n",
       "    .dataframe tbody tr th:only-of-type {\n",
       "        vertical-align: middle;\n",
       "    }\n",
       "\n",
       "    .dataframe tbody tr th {\n",
       "        vertical-align: top;\n",
       "    }\n",
       "\n",
       "    .dataframe thead th {\n",
       "        text-align: right;\n",
       "    }\n",
       "</style>\n",
       "<table border=\"1\" class=\"dataframe\">\n",
       "  <thead>\n",
       "    <tr style=\"text-align: right;\">\n",
       "      <th></th>\n",
       "      <th>Topic</th>\n",
       "      <th>Count</th>\n",
       "      <th>Name</th>\n",
       "      <th>Representation</th>\n",
       "      <th>Representative_Docs</th>\n",
       "    </tr>\n",
       "  </thead>\n",
       "  <tbody>\n",
       "    <tr>\n",
       "      <th>0</th>\n",
       "      <td>-1</td>\n",
       "      <td>4459</td>\n",
       "      <td>-1_drainage_bridge_asphalt_concrete</td>\n",
       "      <td>[drainage, bridge, asphalt, concrete, traffic ...</td>\n",
       "      <td>[TRUCK STOP ROAD (-Y6-) BRIDGE AND ROADWAY INC...</td>\n",
       "    </tr>\n",
       "    <tr>\n",
       "      <th>1</th>\n",
       "      <td>0</td>\n",
       "      <td>8015</td>\n",
       "      <td>0_concrete_asphalt_guardrail_traffic control</td>\n",
       "      <td>[concrete, asphalt, guardrail, traffic control...</td>\n",
       "      <td>[Additional Maps. Additional Maps  This supple...</td>\n",
       "    </tr>\n",
       "    <tr>\n",
       "      <th>2</th>\n",
       "      <td>1</td>\n",
       "      <td>427</td>\n",
       "      <td>1_cost escalation_escalation adjustment_materi...</td>\n",
       "      <td>[cost escalation, escalation adjustment, mater...</td>\n",
       "      <td>[time_limited Material Cost Escalation Adjustm...</td>\n",
       "    </tr>\n",
       "    <tr>\n",
       "      <th>3</th>\n",
       "      <td>2</td>\n",
       "      <td>140</td>\n",
       "      <td>2_retaining wall_noise wall_retaining walls_ms...</td>\n",
       "      <td>[retaining wall, noise wall, retaining walls, ...</td>\n",
       "      <td>[Retaining Wall -DW1001-:. Retaining Wall -DW1...</td>\n",
       "    </tr>\n",
       "    <tr>\n",
       "      <th>4</th>\n",
       "      <td>3</td>\n",
       "      <td>138</td>\n",
       "      <td>3_rip rap_rap class_class rip_geotextile</td>\n",
       "      <td>[rip rap, rap class, class rip, geotextile, to...</td>\n",
       "      <td>[Rip Rap, Class II (Roadway) -. Rip Rap, Class...</td>\n",
       "    </tr>\n",
       "    <tr>\n",
       "      <th>5</th>\n",
       "      <td>4</td>\n",
       "      <td>131</td>\n",
       "      <td>4_asbestos assessment_asbestos abatement_acm_c...</td>\n",
       "      <td>[asbestos assessment, asbestos abatement, acm,...</td>\n",
       "      <td>[Asbestos Abatement Parcel 396. Asbestos Abate...</td>\n",
       "    </tr>\n",
       "    <tr>\n",
       "      <th>6</th>\n",
       "      <td>5</td>\n",
       "      <td>130</td>\n",
       "      <td>5_coir fiber_fiber wattles_skimmer basin_fiber...</td>\n",
       "      <td>[coir fiber, fiber wattles, skimmer basin, fib...</td>\n",
       "      <td>[Coir Fiber Wattles. The Department has found ...</td>\n",
       "    </tr>\n",
       "    <tr>\n",
       "      <th>7</th>\n",
       "      <td>6</td>\n",
       "      <td>89</td>\n",
       "      <td>6_supplemental flagging_railroad flagging_rail...</td>\n",
       "      <td>[supplemental flagging, railroad flagging, rai...</td>\n",
       "      <td>[SUPPLEMENTAL FLAGGING -. SUPPLEMENTAL FLAGGIN...</td>\n",
       "    </tr>\n",
       "    <tr>\n",
       "      <th>8</th>\n",
       "      <td>7</td>\n",
       "      <td>83</td>\n",
       "      <td>7_concrete barrier_portable concrete_reset por...</td>\n",
       "      <td>[concrete barrier, portable concrete, reset po...</td>\n",
       "      <td>[REMOVE &amp; RESET PORTABLE CONCRETE BARRIER -. R...</td>\n",
       "    </tr>\n",
       "    <tr>\n",
       "      <th>9</th>\n",
       "      <td>8</td>\n",
       "      <td>81</td>\n",
       "      <td>8_tree removal_trees_select tree_vegetation re...</td>\n",
       "      <td>[tree removal, trees, select tree, vegetation ...</td>\n",
       "      <td>[SELECT TREE REMOVAL. SELECT TREE REMOVAL  Thi...</td>\n",
       "    </tr>\n",
       "    <tr>\n",
       "      <th>10</th>\n",
       "      <td>9</td>\n",
       "      <td>68</td>\n",
       "      <td>9_existing hydrant_new hydrant_hydrants_reloca...</td>\n",
       "      <td>[existing hydrant, new hydrant, hydrants, relo...</td>\n",
       "      <td>[Fire Hydrant -. Fire Hydrant -The supplementa...</td>\n",
       "    </tr>\n",
       "    <tr>\n",
       "      <th>11</th>\n",
       "      <td>10</td>\n",
       "      <td>68</td>\n",
       "      <td>10_cctv_cameras_cctv camera_cctv cameras</td>\n",
       "      <td>[cctv, cameras, cctv camera, cctv cameras, vid...</td>\n",
       "      <td>[CCTV CAMERA AT US 70 BYPASS -. CCTV CAMERA AT...</td>\n",
       "    </tr>\n",
       "    <tr>\n",
       "      <th>12</th>\n",
       "      <td>11</td>\n",
       "      <td>60</td>\n",
       "      <td>11_class iv_subgrade stabilization_chemical st...</td>\n",
       "      <td>[class iv, subgrade stabilization, chemical st...</td>\n",
       "      <td>[Subgrade Stabilization Class IV (Alternative)...</td>\n",
       "    </tr>\n",
       "    <tr>\n",
       "      <th>13</th>\n",
       "      <td>12</td>\n",
       "      <td>54</td>\n",
       "      <td>12_seeding_seeding mulching_temporary mulching...</td>\n",
       "      <td>[seeding, seeding mulching, temporary mulching...</td>\n",
       "      <td>[Seeding &amp; Mulching -. Seeding &amp; Mulching - Th...</td>\n",
       "    </tr>\n",
       "    <tr>\n",
       "      <th>14</th>\n",
       "      <td>13</td>\n",
       "      <td>53</td>\n",
       "      <td>13_soil stabilization_geotextile soil_pavement...</td>\n",
       "      <td>[soil stabilization, geotextile soil, pavement...</td>\n",
       "      <td>[Geotextile for Soil Stabilization:. Geotextil...</td>\n",
       "    </tr>\n",
       "    <tr>\n",
       "      <th>15</th>\n",
       "      <td>14</td>\n",
       "      <td>49</td>\n",
       "      <td>14_frame grate_frame grates_grates std_frames ...</td>\n",
       "      <td>[frame grate, frame grates, grates std, frames...</td>\n",
       "      <td>[BICYCLE FRAME AND GRATES -L-. BICYCLE FRAME A...</td>\n",
       "    </tr>\n",
       "    <tr>\n",
       "      <th>16</th>\n",
       "      <td>15</td>\n",
       "      <td>47</td>\n",
       "      <td>15_curtain_turbidity curtain_floating turbidit...</td>\n",
       "      <td>[curtain, turbidity curtain, floating turbidit...</td>\n",
       "      <td>[FLOATING TURBIDITY CURTAIN -. FLOATING TURBID...</td>\n",
       "    </tr>\n",
       "    <tr>\n",
       "      <th>17</th>\n",
       "      <td>16</td>\n",
       "      <td>46</td>\n",
       "      <td>16_special stilling_stilling basin_stilling ba...</td>\n",
       "      <td>[special stilling, stilling basin, stilling ba...</td>\n",
       "      <td>[SPECIAL STILLING BASIN-. SPECIAL STILLING BAS...</td>\n",
       "    </tr>\n",
       "    <tr>\n",
       "      <th>18</th>\n",
       "      <td>17</td>\n",
       "      <td>44</td>\n",
       "      <td>17_wattles erosion_item wattles_excelsior watt...</td>\n",
       "      <td>[wattles erosion, item wattles, excelsior watt...</td>\n",
       "      <td>[Wattles for Erosion Control:. Wattles for Ero...</td>\n",
       "    </tr>\n",
       "    <tr>\n",
       "      <th>19</th>\n",
       "      <td>18</td>\n",
       "      <td>44</td>\n",
       "      <td>18_matting erosion_erosion control_control mat...</td>\n",
       "      <td>[matting erosion, erosion control, control mat...</td>\n",
       "      <td>[Matting for Erosion Control -. Matting for Er...</td>\n",
       "    </tr>\n",
       "    <tr>\n",
       "      <th>20</th>\n",
       "      <td>19</td>\n",
       "      <td>42</td>\n",
       "      <td>19_value engineering_engineering proposal_prop...</td>\n",
       "      <td>[value engineering, engineering proposal, prop...</td>\n",
       "      <td>[Value Engineering Proposal (VEP).. Value Engi...</td>\n",
       "    </tr>\n",
       "    <tr>\n",
       "      <th>21</th>\n",
       "      <td>20</td>\n",
       "      <td>42</td>\n",
       "      <td>20_hdpe pipe_pipe hdpe_installation hdpe_hdpe ...</td>\n",
       "      <td>[hdpe pipe, pipe hdpe, installation hdpe, hdpe...</td>\n",
       "      <td>[15 and 18'' HDPE Pipe. 15 and 18'' HDPE Pipe ...</td>\n",
       "    </tr>\n",
       "    <tr>\n",
       "      <th>22</th>\n",
       "      <td>21</td>\n",
       "      <td>40</td>\n",
       "      <td>21_tapping sleeve_valves_tapping valve_sleeves...</td>\n",
       "      <td>[tapping sleeve, valves, tapping valve, sleeve...</td>\n",
       "      <td>[12 Tapping Sleeve and Valve -- This is made n...</td>\n",
       "    </tr>\n",
       "    <tr>\n",
       "      <th>23</th>\n",
       "      <td>22</td>\n",
       "      <td>39</td>\n",
       "      <td>22_rumble strips_milled rumble_rumble stripes_...</td>\n",
       "      <td>[rumble strips, milled rumble, rumble stripes,...</td>\n",
       "      <td>[(Rumble Strips and Additional Traffic Control...</td>\n",
       "    </tr>\n",
       "    <tr>\n",
       "      <th>24</th>\n",
       "      <td>23</td>\n",
       "      <td>39</td>\n",
       "      <td>23_filled barrier_reset water_engineer water_b...</td>\n",
       "      <td>[filled barrier, reset water, engineer water, ...</td>\n",
       "      <td>[Water Filled Barrier-. Water Filled Barrier-T...</td>\n",
       "    </tr>\n",
       "    <tr>\n",
       "      <th>25</th>\n",
       "      <td>24</td>\n",
       "      <td>38</td>\n",
       "      <td>24_temporary shoring_shoring wall_temporary ra...</td>\n",
       "      <td>[temporary shoring, shoring wall, temporary ra...</td>\n",
       "      <td>[Temporary Shoring-. Temporary Shoring-This su...</td>\n",
       "    </tr>\n",
       "    <tr>\n",
       "      <th>26</th>\n",
       "      <td>25</td>\n",
       "      <td>35</td>\n",
       "      <td>25_mast arm_pole_metal pole_signal poles</td>\n",
       "      <td>[mast arm, pole, metal pole, signal poles, sig...</td>\n",
       "      <td>[Mast Arm Signal Pole Design- The Department r...</td>\n",
       "    </tr>\n",
       "    <tr>\n",
       "      <th>27</th>\n",
       "      <td>26</td>\n",
       "      <td>34</td>\n",
       "      <td>26_field office_field_provide field_accessibility</td>\n",
       "      <td>[field office, field, provide field, accessibi...</td>\n",
       "      <td>[NCDOT Field Office -. NCDOT Field Office - Th...</td>\n",
       "    </tr>\n",
       "    <tr>\n",
       "      <th>28</th>\n",
       "      <td>27</td>\n",
       "      <td>33</td>\n",
       "      <td>27_directional drill_conduit_plow_method insta...</td>\n",
       "      <td>[directional drill, conduit, plow, method inst...</td>\n",
       "      <td>[(Change in Installation Method Segments 22). ...</td>\n",
       "    </tr>\n",
       "    <tr>\n",
       "      <th>29</th>\n",
       "      <td>28</td>\n",
       "      <td>33</td>\n",
       "      <td>28_impervious dike_engineer impervious_constru...</td>\n",
       "      <td>[impervious dike, engineer impervious, constru...</td>\n",
       "      <td>[IMPERVIOUS DIKE -. IMPERVIOUS DIKE - This sup...</td>\n",
       "    </tr>\n",
       "    <tr>\n",
       "      <th>30</th>\n",
       "      <td>29</td>\n",
       "      <td>32</td>\n",
       "      <td>29_diamond grinding_slurry disposal_grinding s...</td>\n",
       "      <td>[diamond grinding, slurry disposal, grinding s...</td>\n",
       "      <td>[PCCP Diamond Grinding:. PCCP Diamond Grinding...</td>\n",
       "    </tr>\n",
       "    <tr>\n",
       "      <th>31</th>\n",
       "      <td>30</td>\n",
       "      <td>32</td>\n",
       "      <td>30_lighting_portable lighting_construction lig...</td>\n",
       "      <td>[lighting, portable lighting, construction lig...</td>\n",
       "      <td>[PORTABLE LIGHTING -. PORTABLE LIGHTING - This...</td>\n",
       "    </tr>\n",
       "    <tr>\n",
       "      <th>32</th>\n",
       "      <td>31</td>\n",
       "      <td>31</td>\n",
       "      <td>31_gates_fence gate_gate installed_gate section</td>\n",
       "      <td>[gates, fence gate, gate installed, gate secti...</td>\n",
       "      <td>[Pump Station Access Gate:. Pump Station Acces...</td>\n",
       "    </tr>\n",
       "    <tr>\n",
       "      <th>33</th>\n",
       "      <td>32</td>\n",
       "      <td>30</td>\n",
       "      <td>32_concrete washout_provision concrete_bag con...</td>\n",
       "      <td>[concrete washout, provision concrete, bag con...</td>\n",
       "      <td>[Concrete Washout Bag.. Concrete Washout Bag. ...</td>\n",
       "    </tr>\n",
       "    <tr>\n",
       "      <th>34</th>\n",
       "      <td>33</td>\n",
       "      <td>29</td>\n",
       "      <td>33_deck treatment_silane deck_silane treatment...</td>\n",
       "      <td>[deck treatment, silane deck, silane treatment...</td>\n",
       "      <td>[(SILANE DECK TREATMENT -STR  17). (SILANE DEC...</td>\n",
       "    </tr>\n",
       "    <tr>\n",
       "      <th>35</th>\n",
       "      <td>34</td>\n",
       "      <td>29</td>\n",
       "      <td>34_grubbing_erosion control_dbt_paid agreed</td>\n",
       "      <td>[grubbing, erosion control, dbt, paid agreed, ...</td>\n",
       "      <td>[PERMANENT UTILTY EASEMENT CLEARING -. PERMANE...</td>\n",
       "    </tr>\n",
       "    <tr>\n",
       "      <th>36</th>\n",
       "      <td>35</td>\n",
       "      <td>29</td>\n",
       "      <td>35_loop sawcut_cut inductive_detection loops_i...</td>\n",
       "      <td>[loop sawcut, cut inductive, detection loops, ...</td>\n",
       "      <td>[Inductive Loop Sawcut -. Inductive Loop Sawcu...</td>\n",
       "    </tr>\n",
       "    <tr>\n",
       "      <th>37</th>\n",
       "      <td>36</td>\n",
       "      <td>28</td>\n",
       "      <td>36_mowing specialized_mowing section_mowing pr...</td>\n",
       "      <td>[mowing specialized, mowing section, mowing pr...</td>\n",
       "      <td>[Specialized Hand Mowing. Specialized Hand Mow...</td>\n",
       "    </tr>\n",
       "    <tr>\n",
       "      <th>38</th>\n",
       "      <td>37</td>\n",
       "      <td>27</td>\n",
       "      <td>37_railroad contractor_railroad insurance_rail...</td>\n",
       "      <td>[railroad contractor, railroad insurance, rail...</td>\n",
       "      <td>[RAILROAD CONTRACTOR PROTECTIVE SERVICES:(SPEC...</td>\n",
       "    </tr>\n",
       "    <tr>\n",
       "      <th>39</th>\n",
       "      <td>38</td>\n",
       "      <td>27</td>\n",
       "      <td>38_impact attenuator_impact attenuators_attenu...</td>\n",
       "      <td>[impact attenuator, impact attenuators, attenu...</td>\n",
       "      <td>[Impact Attenuator.. Impact Attenuator.  This ...</td>\n",
       "    </tr>\n",
       "    <tr>\n",
       "      <th>40</th>\n",
       "      <td>39</td>\n",
       "      <td>25</td>\n",
       "      <td>39_temporary steel_drainage structures_steel p...</td>\n",
       "      <td>[temporary steel, drainage structures, steel p...</td>\n",
       "      <td>[Temporary steel cover for masonry drainage st...</td>\n",
       "    </tr>\n",
       "    <tr>\n",
       "      <th>41</th>\n",
       "      <td>40</td>\n",
       "      <td>23</td>\n",
       "      <td>40_epoxy coated_epoxy resin_coated reinforcing...</td>\n",
       "      <td>[epoxy coated, epoxy resin, coated reinforcing...</td>\n",
       "      <td>[Waterline and Epoxy coated rebar. Waterline a...</td>\n",
       "    </tr>\n",
       "    <tr>\n",
       "      <th>42</th>\n",
       "      <td>41</td>\n",
       "      <td>22</td>\n",
       "      <td>41_backflow_backflow prevention_rpz backflow_p...</td>\n",
       "      <td>[backflow, backflow prevention, rpz backflow, ...</td>\n",
       "      <td>[Relocation of Backflow Prevention Device --. ...</td>\n",
       "    </tr>\n",
       "    <tr>\n",
       "      <th>43</th>\n",
       "      <td>42</td>\n",
       "      <td>22</td>\n",
       "      <td>42_contract g_self drilling_mobilization contr...</td>\n",
       "      <td>[contract g, self drilling, mobilization contr...</td>\n",
       "      <td>[. The following supplemental_agreement is to ...</td>\n",
       "    </tr>\n",
       "    <tr>\n",
       "      <th>44</th>\n",
       "      <td>43</td>\n",
       "      <td>20</td>\n",
       "      <td>43_sodding_zoysia_centipede_bermuda</td>\n",
       "      <td>[sodding, zoysia, centipede, bermuda, slopes, ...</td>\n",
       "      <td>[Centipede Sodding:. Centipede Sodding: This s...</td>\n",
       "    </tr>\n",
       "    <tr>\n",
       "      <th>45</th>\n",
       "      <td>44</td>\n",
       "      <td>19</td>\n",
       "      <td>44_concrete flume_modified concrete_concrete f...</td>\n",
       "      <td>[concrete flume, modified concrete, concrete f...</td>\n",
       "      <td>[Concrete Flume.. Concrete Flume.  This supple...</td>\n",
       "    </tr>\n",
       "    <tr>\n",
       "      <th>46</th>\n",
       "      <td>45</td>\n",
       "      <td>19</td>\n",
       "      <td>45_material transfer_transfer vehicle_vehicle ...</td>\n",
       "      <td>[material transfer, transfer vehicle, vehicle ...</td>\n",
       "      <td>[MATERIAL TRANSFER VEHICLE (MTV). MATERIAL TRA...</td>\n",
       "    </tr>\n",
       "    <tr>\n",
       "      <th>47</th>\n",
       "      <td>46</td>\n",
       "      <td>18</td>\n",
       "      <td>46_drop inlets_inlets adjustment_complete adju...</td>\n",
       "      <td>[drop inlets, inlets adjustment, complete adju...</td>\n",
       "      <td>[(Adjustment of Drop Inlets). (Adjustment of D...</td>\n",
       "    </tr>\n",
       "    <tr>\n",
       "      <th>48</th>\n",
       "      <td>47</td>\n",
       "      <td>18</td>\n",
       "      <td>47_sojb_boxes_segment y_line install</td>\n",
       "      <td>[sojb, boxes, segment y, line install, junctio...</td>\n",
       "      <td>[(Addition of High Priority OMC Special Oversi...</td>\n",
       "    </tr>\n",
       "    <tr>\n",
       "      <th>49</th>\n",
       "      <td>48</td>\n",
       "      <td>18</td>\n",
       "      <td>48_silt fence_safety fence_erosion control_fen...</td>\n",
       "      <td>[silt fence, safety fence, erosion control, fe...</td>\n",
       "      <td>[Temporary Silt Fence -. Temporary Silt Fence ...</td>\n",
       "    </tr>\n",
       "    <tr>\n",
       "      <th>50</th>\n",
       "      <td>49</td>\n",
       "      <td>18</td>\n",
       "      <td>49_barricade mounted_iii barricades_zone signs...</td>\n",
       "      <td>[barricade mounted, iii barricades, zone signs...</td>\n",
       "      <td>[Work Zone Signs (Stationary), Work Zone Signs...</td>\n",
       "    </tr>\n",
       "    <tr>\n",
       "      <th>51</th>\n",
       "      <td>50</td>\n",
       "      <td>18</td>\n",
       "      <td>50_truck mounted_attenuators_mounted attenuato...</td>\n",
       "      <td>[truck mounted, attenuators, mounted attenuato...</td>\n",
       "      <td>[Truck Mounted Attenuator (TMA):. Truck Mounte...</td>\n",
       "    </tr>\n",
       "    <tr>\n",
       "      <th>52</th>\n",
       "      <td>51</td>\n",
       "      <td>17</td>\n",
       "      <td>51_skinny drums_cones_acceptable department_te...</td>\n",
       "      <td>[skinny drums, cones, acceptable department, t...</td>\n",
       "      <td>[Addition of Skinny Drums - The Contractor req...</td>\n",
       "    </tr>\n",
       "    <tr>\n",
       "      <th>53</th>\n",
       "      <td>52</td>\n",
       "      <td>17</td>\n",
       "      <td>52_geotextile fabric_fabric type_nonwoven geot...</td>\n",
       "      <td>[geotextile fabric, fabric type, nonwoven geot...</td>\n",
       "      <td>[NONWOVEN GEOTEXTILE INTERLAYER. NONWOVEN GEOT...</td>\n",
       "    </tr>\n",
       "    <tr>\n",
       "      <th>54</th>\n",
       "      <td>53</td>\n",
       "      <td>16</td>\n",
       "      <td>53_sealing abandoned_abandoned wells_cement gr...</td>\n",
       "      <td>[sealing abandoned, abandoned wells, cement gr...</td>\n",
       "      <td>[SEALING ABANDONED WELLS -. SEALING ABANDONED ...</td>\n",
       "    </tr>\n",
       "    <tr>\n",
       "      <th>55</th>\n",
       "      <td>54</td>\n",
       "      <td>15</td>\n",
       "      <td>54_area building_rest area_construction rest_a...</td>\n",
       "      <td>[area building, rest area, construction rest, ...</td>\n",
       "      <td>[REMOVE AND REPLACE EXISTING FASCIA - Addition...</td>\n",
       "    </tr>\n",
       "  </tbody>\n",
       "</table>\n",
       "</div>"
      ],
      "text/plain": [
       "    Topic  Count                                               Name  \\\n",
       "0      -1   4459                -1_drainage_bridge_asphalt_concrete   \n",
       "1       0   8015       0_concrete_asphalt_guardrail_traffic control   \n",
       "2       1    427  1_cost escalation_escalation adjustment_materi...   \n",
       "3       2    140  2_retaining wall_noise wall_retaining walls_ms...   \n",
       "4       3    138           3_rip rap_rap class_class rip_geotextile   \n",
       "5       4    131  4_asbestos assessment_asbestos abatement_acm_c...   \n",
       "6       5    130  5_coir fiber_fiber wattles_skimmer basin_fiber...   \n",
       "7       6     89  6_supplemental flagging_railroad flagging_rail...   \n",
       "8       7     83  7_concrete barrier_portable concrete_reset por...   \n",
       "9       8     81  8_tree removal_trees_select tree_vegetation re...   \n",
       "10      9     68  9_existing hydrant_new hydrant_hydrants_reloca...   \n",
       "11     10     68           10_cctv_cameras_cctv camera_cctv cameras   \n",
       "12     11     60  11_class iv_subgrade stabilization_chemical st...   \n",
       "13     12     54  12_seeding_seeding mulching_temporary mulching...   \n",
       "14     13     53  13_soil stabilization_geotextile soil_pavement...   \n",
       "15     14     49  14_frame grate_frame grates_grates std_frames ...   \n",
       "16     15     47  15_curtain_turbidity curtain_floating turbidit...   \n",
       "17     16     46  16_special stilling_stilling basin_stilling ba...   \n",
       "18     17     44  17_wattles erosion_item wattles_excelsior watt...   \n",
       "19     18     44  18_matting erosion_erosion control_control mat...   \n",
       "20     19     42  19_value engineering_engineering proposal_prop...   \n",
       "21     20     42  20_hdpe pipe_pipe hdpe_installation hdpe_hdpe ...   \n",
       "22     21     40  21_tapping sleeve_valves_tapping valve_sleeves...   \n",
       "23     22     39  22_rumble strips_milled rumble_rumble stripes_...   \n",
       "24     23     39  23_filled barrier_reset water_engineer water_b...   \n",
       "25     24     38  24_temporary shoring_shoring wall_temporary ra...   \n",
       "26     25     35           25_mast arm_pole_metal pole_signal poles   \n",
       "27     26     34  26_field office_field_provide field_accessibility   \n",
       "28     27     33  27_directional drill_conduit_plow_method insta...   \n",
       "29     28     33  28_impervious dike_engineer impervious_constru...   \n",
       "30     29     32  29_diamond grinding_slurry disposal_grinding s...   \n",
       "31     30     32  30_lighting_portable lighting_construction lig...   \n",
       "32     31     31    31_gates_fence gate_gate installed_gate section   \n",
       "33     32     30  32_concrete washout_provision concrete_bag con...   \n",
       "34     33     29  33_deck treatment_silane deck_silane treatment...   \n",
       "35     34     29        34_grubbing_erosion control_dbt_paid agreed   \n",
       "36     35     29  35_loop sawcut_cut inductive_detection loops_i...   \n",
       "37     36     28  36_mowing specialized_mowing section_mowing pr...   \n",
       "38     37     27  37_railroad contractor_railroad insurance_rail...   \n",
       "39     38     27  38_impact attenuator_impact attenuators_attenu...   \n",
       "40     39     25  39_temporary steel_drainage structures_steel p...   \n",
       "41     40     23  40_epoxy coated_epoxy resin_coated reinforcing...   \n",
       "42     41     22  41_backflow_backflow prevention_rpz backflow_p...   \n",
       "43     42     22  42_contract g_self drilling_mobilization contr...   \n",
       "44     43     20                43_sodding_zoysia_centipede_bermuda   \n",
       "45     44     19  44_concrete flume_modified concrete_concrete f...   \n",
       "46     45     19  45_material transfer_transfer vehicle_vehicle ...   \n",
       "47     46     18  46_drop inlets_inlets adjustment_complete adju...   \n",
       "48     47     18               47_sojb_boxes_segment y_line install   \n",
       "49     48     18  48_silt fence_safety fence_erosion control_fen...   \n",
       "50     49     18  49_barricade mounted_iii barricades_zone signs...   \n",
       "51     50     18  50_truck mounted_attenuators_mounted attenuato...   \n",
       "52     51     17  51_skinny drums_cones_acceptable department_te...   \n",
       "53     52     17  52_geotextile fabric_fabric type_nonwoven geot...   \n",
       "54     53     16  53_sealing abandoned_abandoned wells_cement gr...   \n",
       "55     54     15  54_area building_rest area_construction rest_a...   \n",
       "\n",
       "                                       Representation  \\\n",
       "0   [drainage, bridge, asphalt, concrete, traffic ...   \n",
       "1   [concrete, asphalt, guardrail, traffic control...   \n",
       "2   [cost escalation, escalation adjustment, mater...   \n",
       "3   [retaining wall, noise wall, retaining walls, ...   \n",
       "4   [rip rap, rap class, class rip, geotextile, to...   \n",
       "5   [asbestos assessment, asbestos abatement, acm,...   \n",
       "6   [coir fiber, fiber wattles, skimmer basin, fib...   \n",
       "7   [supplemental flagging, railroad flagging, rai...   \n",
       "8   [concrete barrier, portable concrete, reset po...   \n",
       "9   [tree removal, trees, select tree, vegetation ...   \n",
       "10  [existing hydrant, new hydrant, hydrants, relo...   \n",
       "11  [cctv, cameras, cctv camera, cctv cameras, vid...   \n",
       "12  [class iv, subgrade stabilization, chemical st...   \n",
       "13  [seeding, seeding mulching, temporary mulching...   \n",
       "14  [soil stabilization, geotextile soil, pavement...   \n",
       "15  [frame grate, frame grates, grates std, frames...   \n",
       "16  [curtain, turbidity curtain, floating turbidit...   \n",
       "17  [special stilling, stilling basin, stilling ba...   \n",
       "18  [wattles erosion, item wattles, excelsior watt...   \n",
       "19  [matting erosion, erosion control, control mat...   \n",
       "20  [value engineering, engineering proposal, prop...   \n",
       "21  [hdpe pipe, pipe hdpe, installation hdpe, hdpe...   \n",
       "22  [tapping sleeve, valves, tapping valve, sleeve...   \n",
       "23  [rumble strips, milled rumble, rumble stripes,...   \n",
       "24  [filled barrier, reset water, engineer water, ...   \n",
       "25  [temporary shoring, shoring wall, temporary ra...   \n",
       "26  [mast arm, pole, metal pole, signal poles, sig...   \n",
       "27  [field office, field, provide field, accessibi...   \n",
       "28  [directional drill, conduit, plow, method inst...   \n",
       "29  [impervious dike, engineer impervious, constru...   \n",
       "30  [diamond grinding, slurry disposal, grinding s...   \n",
       "31  [lighting, portable lighting, construction lig...   \n",
       "32  [gates, fence gate, gate installed, gate secti...   \n",
       "33  [concrete washout, provision concrete, bag con...   \n",
       "34  [deck treatment, silane deck, silane treatment...   \n",
       "35  [grubbing, erosion control, dbt, paid agreed, ...   \n",
       "36  [loop sawcut, cut inductive, detection loops, ...   \n",
       "37  [mowing specialized, mowing section, mowing pr...   \n",
       "38  [railroad contractor, railroad insurance, rail...   \n",
       "39  [impact attenuator, impact attenuators, attenu...   \n",
       "40  [temporary steel, drainage structures, steel p...   \n",
       "41  [epoxy coated, epoxy resin, coated reinforcing...   \n",
       "42  [backflow, backflow prevention, rpz backflow, ...   \n",
       "43  [contract g, self drilling, mobilization contr...   \n",
       "44  [sodding, zoysia, centipede, bermuda, slopes, ...   \n",
       "45  [concrete flume, modified concrete, concrete f...   \n",
       "46  [material transfer, transfer vehicle, vehicle ...   \n",
       "47  [drop inlets, inlets adjustment, complete adju...   \n",
       "48  [sojb, boxes, segment y, line install, junctio...   \n",
       "49  [silt fence, safety fence, erosion control, fe...   \n",
       "50  [barricade mounted, iii barricades, zone signs...   \n",
       "51  [truck mounted, attenuators, mounted attenuato...   \n",
       "52  [skinny drums, cones, acceptable department, t...   \n",
       "53  [geotextile fabric, fabric type, nonwoven geot...   \n",
       "54  [sealing abandoned, abandoned wells, cement gr...   \n",
       "55  [area building, rest area, construction rest, ...   \n",
       "\n",
       "                                  Representative_Docs  \n",
       "0   [TRUCK STOP ROAD (-Y6-) BRIDGE AND ROADWAY INC...  \n",
       "1   [Additional Maps. Additional Maps  This supple...  \n",
       "2   [time_limited Material Cost Escalation Adjustm...  \n",
       "3   [Retaining Wall -DW1001-:. Retaining Wall -DW1...  \n",
       "4   [Rip Rap, Class II (Roadway) -. Rip Rap, Class...  \n",
       "5   [Asbestos Abatement Parcel 396. Asbestos Abate...  \n",
       "6   [Coir Fiber Wattles. The Department has found ...  \n",
       "7   [SUPPLEMENTAL FLAGGING -. SUPPLEMENTAL FLAGGIN...  \n",
       "8   [REMOVE & RESET PORTABLE CONCRETE BARRIER -. R...  \n",
       "9   [SELECT TREE REMOVAL. SELECT TREE REMOVAL  Thi...  \n",
       "10  [Fire Hydrant -. Fire Hydrant -The supplementa...  \n",
       "11  [CCTV CAMERA AT US 70 BYPASS -. CCTV CAMERA AT...  \n",
       "12  [Subgrade Stabilization Class IV (Alternative)...  \n",
       "13  [Seeding & Mulching -. Seeding & Mulching - Th...  \n",
       "14  [Geotextile for Soil Stabilization:. Geotextil...  \n",
       "15  [BICYCLE FRAME AND GRATES -L-. BICYCLE FRAME A...  \n",
       "16  [FLOATING TURBIDITY CURTAIN -. FLOATING TURBID...  \n",
       "17  [SPECIAL STILLING BASIN-. SPECIAL STILLING BAS...  \n",
       "18  [Wattles for Erosion Control:. Wattles for Ero...  \n",
       "19  [Matting for Erosion Control -. Matting for Er...  \n",
       "20  [Value Engineering Proposal (VEP).. Value Engi...  \n",
       "21  [15 and 18'' HDPE Pipe. 15 and 18'' HDPE Pipe ...  \n",
       "22  [12 Tapping Sleeve and Valve -- This is made n...  \n",
       "23  [(Rumble Strips and Additional Traffic Control...  \n",
       "24  [Water Filled Barrier-. Water Filled Barrier-T...  \n",
       "25  [Temporary Shoring-. Temporary Shoring-This su...  \n",
       "26  [Mast Arm Signal Pole Design- The Department r...  \n",
       "27  [NCDOT Field Office -. NCDOT Field Office - Th...  \n",
       "28  [(Change in Installation Method Segments 22). ...  \n",
       "29  [IMPERVIOUS DIKE -. IMPERVIOUS DIKE - This sup...  \n",
       "30  [PCCP Diamond Grinding:. PCCP Diamond Grinding...  \n",
       "31  [PORTABLE LIGHTING -. PORTABLE LIGHTING - This...  \n",
       "32  [Pump Station Access Gate:. Pump Station Acces...  \n",
       "33  [Concrete Washout Bag.. Concrete Washout Bag. ...  \n",
       "34  [(SILANE DECK TREATMENT -STR  17). (SILANE DEC...  \n",
       "35  [PERMANENT UTILTY EASEMENT CLEARING -. PERMANE...  \n",
       "36  [Inductive Loop Sawcut -. Inductive Loop Sawcu...  \n",
       "37  [Specialized Hand Mowing. Specialized Hand Mow...  \n",
       "38  [RAILROAD CONTRACTOR PROTECTIVE SERVICES:(SPEC...  \n",
       "39  [Impact Attenuator.. Impact Attenuator.  This ...  \n",
       "40  [Temporary steel cover for masonry drainage st...  \n",
       "41  [Waterline and Epoxy coated rebar. Waterline a...  \n",
       "42  [Relocation of Backflow Prevention Device --. ...  \n",
       "43  [. The following supplemental_agreement is to ...  \n",
       "44  [Centipede Sodding:. Centipede Sodding: This s...  \n",
       "45  [Concrete Flume.. Concrete Flume.  This supple...  \n",
       "46  [MATERIAL TRANSFER VEHICLE (MTV). MATERIAL TRA...  \n",
       "47  [(Adjustment of Drop Inlets). (Adjustment of D...  \n",
       "48  [(Addition of High Priority OMC Special Oversi...  \n",
       "49  [Temporary Silt Fence -. Temporary Silt Fence ...  \n",
       "50  [Work Zone Signs (Stationary), Work Zone Signs...  \n",
       "51  [Truck Mounted Attenuator (TMA):. Truck Mounte...  \n",
       "52  [Addition of Skinny Drums - The Contractor req...  \n",
       "53  [NONWOVEN GEOTEXTILE INTERLAYER. NONWOVEN GEOT...  \n",
       "54  [SEALING ABANDONED WELLS -. SEALING ABANDONED ...  \n",
       "55  [REMOVE AND REPLACE EXISTING FASCIA - Addition...  "
      ]
     },
     "execution_count": 45,
     "metadata": {},
     "output_type": "execute_result"
    }
   ],
   "source": [
    "topic_model.get_topic_info()"
   ]
  },
  {
   "cell_type": "markdown",
   "id": "43f330be",
   "metadata": {},
   "source": [
    "# semisupervised"
   ]
  },
  {
   "cell_type": "code",
   "execution_count": 46,
   "id": "86cb3947",
   "metadata": {},
   "outputs": [],
   "source": [
    "# # Reduce outliers\n",
    "# new_topics = topic_model.reduce_outliers(sentences, topics)\n",
    "\n",
    "# # Reduce outliers with pre-calculate embeddings instead\n",
    "# new_topics = topic_model.reduce_outliers(sentences, topics, strategy=\"embeddings\", embeddings=embeddings)"
   ]
  },
  {
   "cell_type": "code",
   "execution_count": null,
   "id": "4d1452ad",
   "metadata": {},
   "outputs": [],
   "source": [
    "# topic_model = BERTopic(verbose=True).fit(sentences, y=labels)"
   ]
  },
  {
   "cell_type": "code",
   "execution_count": null,
   "id": "fa677520",
   "metadata": {},
   "outputs": [],
   "source": [
    "# topic_model.get_topic_info()"
   ]
  },
  {
   "cell_type": "code",
   "execution_count": null,
   "id": "d96e98c1",
   "metadata": {},
   "outputs": [],
   "source": [
    "# topic_model.update_topics(sentences, topics=new_topics)"
   ]
  },
  {
   "cell_type": "code",
   "execution_count": null,
   "id": "72050ee4",
   "metadata": {},
   "outputs": [],
   "source": [
    "# topic_model.get_topic_info()"
   ]
  },
  {
   "cell_type": "code",
   "execution_count": null,
   "id": "132f0413",
   "metadata": {},
   "outputs": [],
   "source": [
    "# # The sentences to encode\n",
    "# sentences = [\n",
    "#     \"The weather is lovely today.\",\n",
    "#     \"It's so sunny outside!\",\n",
    "#     \"He drove to the stadium.\",\n",
    "#     \"He likes red.\",\n",
    "#     \"He runs marathons.\",\n",
    "#     \"He runs marathons when it is sunny.\",\n",
    "#     \"He is a doctor.\",\n",
    "#     \"doctors help people on sunny days.\",\n",
    "#     \"There is not a cloud in the sky.\",\n",
    "#     \"hospitals help people get well.\"\n",
    "# ]\n",
    "\n",
    "# # 2. Calculate embeddings by calling model.encode()\n",
    "# embeddings = embedding_model.encode(sentences)\n",
    "# print(embeddings.shape)\n",
    "# # [3, 384]\n",
    "\n",
    "# # 3. Calculate the embedding similarities\n",
    "# similarities = embedding_model.similarity(embeddings, embeddings)\n",
    "# print(similarities)\n",
    "# # tensor([[1.0000, 0.6660, 0.1046],\n",
    "# #         [0.6660, 1.0000, 0.1411],\n",
    "# #         [0.1046, 0.1411, 1.0000]])"
   ]
  }
 ],
 "metadata": {
  "kernelspec": {
   "display_name": ".venv",
   "language": "python",
   "name": "python3"
  },
  "language_info": {
   "codemirror_mode": {
    "name": "ipython",
    "version": 3
   },
   "file_extension": ".py",
   "mimetype": "text/x-python",
   "name": "python",
   "nbconvert_exporter": "python",
   "pygments_lexer": "ipython3",
   "version": "3.13.3"
  }
 },
 "nbformat": 4,
 "nbformat_minor": 5
}
